{
  "nbformat": 4,
  "nbformat_minor": 0,
  "metadata": {
    "colab": {
      "provenance": []
    },
    "kernelspec": {
      "name": "python3",
      "display_name": "Python 3"
    },
    "language_info": {
      "name": "python"
    }
  },
  "cells": [
    {
      "cell_type": "code",
      "execution_count": 1,
      "metadata": {
        "id": "0vNgWD9gt759"
      },
      "outputs": [],
      "source": [
        "#hide\n",
        "from fastai.vision.all import *\n",
        "#from fastbook import *\n",
        "\n",
        "matplotlib.rc('image', cmap='Greys')"
      ]
    },
    {
      "cell_type": "markdown",
      "source": [
        "#buiding a simple synthentic model\n",
        "Imagine you were measuring the speed of a roller coaster as it went over the top of a hump. It would start fast, and then get slower as it went up the hill; it would be slowest at the top, and it would then speed up again as it went downhill. You want to build a model of how the speed changes over time. If you were measuring the speed manually every second for 20 seconds, it might look something like this:"
      ],
      "metadata": {
        "id": "k0Z-oofXu4w9"
      }
    },
    {
      "cell_type": "code",
      "source": [
        "time = torch.arange(0,20).float()\n",
        "time\n"
      ],
      "metadata": {
        "colab": {
          "base_uri": "https://localhost:8080/"
        },
        "id": "yUzykIjUulbv",
        "outputId": "b8b75172-7d21-4b8b-c3b5-ef72076ed5d8"
      },
      "execution_count": null,
      "outputs": [
        {
          "output_type": "execute_result",
          "data": {
            "text/plain": [
              "tensor([ 0.,  1.,  2.,  3.,  4.,  5.,  6.,  7.,  8.,  9., 10., 11., 12., 13.,\n",
              "        14., 15., 16., 17., 18., 19.])"
            ]
          },
          "metadata": {},
          "execution_count": 62
        }
      ]
    },
    {
      "cell_type": "code",
      "source": [
        "speed = torch.randn(20)*3 + 0.75*(time-9.5)**2 + 1\n",
        "plt.scatter(time,speed);"
      ],
      "metadata": {
        "colab": {
          "base_uri": "https://localhost:8080/",
          "height": 430
        },
        "id": "tyMhr3JcvMDk",
        "outputId": "abae20b5-862d-4f40-caed-6adff73becbf"
      },
      "execution_count": null,
      "outputs": [
        {
          "output_type": "display_data",
          "data": {
            "text/plain": [
              "<Figure size 640x480 with 1 Axes>"
            ],
            "image/png": "[encoded data removed]"
          },
          "metadata": {}
        }
      ]
    },
    {
      "cell_type": "code",
      "source": [
        "def f(t, params):\n",
        "    a,b,c = params\n",
        "    return a*(t**2) + (b*t) + c"
      ],
      "metadata": {
        "id": "28PR1TDMz5YB"
      },
      "execution_count": null,
      "outputs": []
    },
    {
      "cell_type": "code",
      "source": [
        "def mse(preds, targets): return ((preds-targets)**2).mean()\n"
      ],
      "metadata": {
        "id": "O16zFCev0VaE"
      },
      "execution_count": null,
      "outputs": []
    },
    {
      "cell_type": "markdown",
      "source": [
        "#Step 1: Initialize the parameters\n"
      ],
      "metadata": {
        "id": "4MNHk2h300mK"
      }
    },
    {
      "cell_type": "code",
      "source": [
        "params = torch.randn(3).requires_grad_()\n"
      ],
      "metadata": {
        "id": "0Q8Ns72F0xBK"
      },
      "execution_count": null,
      "outputs": []
    },
    {
      "cell_type": "code",
      "source": [
        "params"
      ],
      "metadata": {
        "colab": {
          "base_uri": "https://localhost:8080/"
        },
        "id": "g8uxEa6MH9C8",
        "outputId": "a215da97-3bbf-49e2-cd92-dd06aeab3a24"
      },
      "execution_count": null,
      "outputs": [
        {
          "output_type": "execute_result",
          "data": {
            "text/plain": [
              "tensor([-1.3988, -1.9551,  0.0058], requires_grad=True)"
            ]
          },
          "metadata": {},
          "execution_count": 67
        }
      ]
    },
    {
      "cell_type": "code",
      "source": [
        "params.data"
      ],
      "metadata": {
        "colab": {
          "base_uri": "https://localhost:8080/"
        },
        "id": "mi47UK9B7y62",
        "outputId": "439f897b-f211-41d6-8104-869eea6e66b4"
      },
      "execution_count": null,
      "outputs": [
        {
          "output_type": "execute_result",
          "data": {
            "text/plain": [
              "tensor([-1.3988, -1.9551,  0.0058])"
            ]
          },
          "metadata": {},
          "execution_count": 68
        }
      ]
    },
    {
      "cell_type": "code",
      "source": [
        "#hide\n",
        "orig_params = params.clone()"
      ],
      "metadata": {
        "id": "RekKRMQC2PYI"
      },
      "execution_count": null,
      "outputs": []
    },
    {
      "cell_type": "code",
      "source": [
        "orig_params"
      ],
      "metadata": {
        "colab": {
          "base_uri": "https://localhost:8080/"
        },
        "id": "Wp5q-syN74uw",
        "outputId": "1e44fee5-a5dc-4545-f260-e378f2a2fcea"
      },
      "execution_count": null,
      "outputs": [
        {
          "output_type": "execute_result",
          "data": {
            "text/plain": [
              "tensor([-1.3988, -1.9551,  0.0058], grad_fn=<CloneBackward0>)"
            ]
          },
          "metadata": {},
          "execution_count": 70
        }
      ]
    },
    {
      "cell_type": "markdown",
      "source": [
        "#Calculate the predictions...\n",
        "The thing is that for most problem , they would have given us the y_preds, but in this question, they only gave us the the function to find the y_preds"
      ],
      "metadata": {
        "id": "GfTRa26264xr"
      }
    },
    {
      "cell_type": "code",
      "source": [
        "preds = f(time, params)"
      ],
      "metadata": {
        "id": "unqALCs_7enz"
      },
      "execution_count": null,
      "outputs": []
    },
    {
      "cell_type": "markdown",
      "source": [
        "#Lets see how our current weights are doing."
      ],
      "metadata": {
        "id": "90XZxnkJ8Qd-"
      }
    },
    {
      "cell_type": "code",
      "source": [
        "def show_preds(preds):\n",
        "  plt.scatter(time , speed)\n",
        "  plt.scatter(time, to_np(preds), color = 'red')\n",
        "\n",
        "\n"
      ],
      "metadata": {
        "id": "zdSAQ71K3U_V"
      },
      "execution_count": null,
      "outputs": []
    },
    {
      "cell_type": "code",
      "source": [
        "show_preds(preds)"
      ],
      "metadata": {
        "colab": {
          "base_uri": "https://localhost:8080/",
          "height": 434
        },
        "id": "yJD-Qh2Q-Env",
        "outputId": "6ec5aaee-38a7-469c-96e1-3be40ff5e2fe"
      },
      "execution_count": null,
      "outputs": [
        {
          "output_type": "display_data",
          "data": {
            "text/plain": [
              "<Figure size 640x480 with 1 Axes>"
            ],
            "image/png": "[encoded data removed]"
          },
          "metadata": {}
        }
      ]
    },
    {
      "cell_type": "markdown",
      "source": [
        "#calculate loss"
      ],
      "metadata": {
        "id": "T34-HTZeAwHb"
      }
    },
    {
      "cell_type": "code",
      "source": [
        "loss = mse(preds, speed)\n",
        "loss"
      ],
      "metadata": {
        "colab": {
          "base_uri": "https://localhost:8080/"
        },
        "id": "-Y9TzvuUAhDS",
        "outputId": "0b117f30-b512-4a49-b56b-55e9d890f806"
      },
      "execution_count": null,
      "outputs": [
        {
          "output_type": "execute_result",
          "data": {
            "text/plain": [
              "tensor(78081.8906, grad_fn=<MeanBackward0>)"
            ]
          },
          "metadata": {},
          "execution_count": 74
        }
      ]
    },
    {
      "cell_type": "markdown",
      "source": [
        "#Our goal is now to improve this. To do that, we'll need to know the gradients.\n",
        "#differentiating\n",
        "\n"
      ],
      "metadata": {
        "id": "SE-hil0VGjeN"
      }
    },
    {
      "cell_type": "code",
      "source": [
        "loss.backward()"
      ],
      "metadata": {
        "id": "BHz9x5-wGeDa"
      },
      "execution_count": null,
      "outputs": []
    },
    {
      "cell_type": "code",
      "source": [
        "params.grad"
      ],
      "metadata": {
        "colab": {
          "base_uri": "https://localhost:8080/"
        },
        "id": "xWKcDzIrGtAh",
        "outputId": "2327c086-2a50-48d0-cd0b-66dddd02d57f"
      },
      "execution_count": null,
      "outputs": [
        {
          "output_type": "execute_result",
          "data": {
            "text/plain": [
              "tensor([-93371.8828,  -6014.1250,   -432.3782])"
            ]
          },
          "metadata": {},
          "execution_count": 76
        }
      ]
    },
    {
      "cell_type": "code",
      "source": [
        "params.grad * 1e-5\n"
      ],
      "metadata": {
        "colab": {
          "base_uri": "https://localhost:8080/"
        },
        "id": "SQte1kW7HX0I",
        "outputId": "44c1f83b-8437-4cf6-8e17-7bac89e1e7d3"
      },
      "execution_count": null,
      "outputs": [
        {
          "output_type": "execute_result",
          "data": {
            "text/plain": [
              "tensor([-0.9337, -0.0601, -0.0043])"
            ]
          },
          "metadata": {},
          "execution_count": 77
        }
      ]
    },
    {
      "cell_type": "code",
      "source": [
        "params"
      ],
      "metadata": {
        "colab": {
          "base_uri": "https://localhost:8080/"
        },
        "id": "KUrVJN8UHh4I",
        "outputId": "7e0a73bf-575f-4cb1-f9aa-57a838b6df2b"
      },
      "execution_count": null,
      "outputs": [
        {
          "output_type": "execute_result",
          "data": {
            "text/plain": [
              "tensor([-1.3988, -1.9551,  0.0058], requires_grad=True)"
            ]
          },
          "metadata": {},
          "execution_count": 78
        }
      ]
    },
    {
      "cell_type": "markdown",
      "source": [
        "#Step 5: Step the weights.\n"
      ],
      "metadata": {
        "id": "MWwWPEfSIOBv"
      }
    },
    {
      "cell_type": "code",
      "source": [
        "lr = 1e-5\n",
        "params.data -= lr* params.grad.data\n",
        "params.grad = None"
      ],
      "metadata": {
        "id": "gIaLXPapIK_D"
      },
      "execution_count": null,
      "outputs": []
    },
    {
      "cell_type": "markdown",
      "source": [
        "#Let's see if the loss has improved:\n",
        "since we have a new params , lets see what our predictions are now\n",
        "\n"
      ],
      "metadata": {
        "id": "bqDae11sNldG"
      }
    },
    {
      "cell_type": "code",
      "source": [
        "preds = f(time, params)\n",
        "preds"
      ],
      "metadata": {
        "colab": {
          "base_uri": "https://localhost:8080/"
        },
        "id": "GCkR4xaZNndL",
        "outputId": "172ae131-4683-499c-ab07-85aa76ff36a0"
      },
      "execution_count": null,
      "outputs": [
        {
          "output_type": "execute_result",
          "data": {
            "text/plain": [
              "tensor([ 1.0083e-02, -2.3499e+00, -5.6400e+00, -9.8602e+00, -1.5011e+01,\n",
              "        -2.1091e+01, -2.8101e+01, -3.6042e+01, -4.4913e+01, -5.4714e+01,\n",
              "        -6.5445e+01, -7.7106e+01, -8.9697e+01, -1.0322e+02, -1.1767e+02,\n",
              "        -1.3305e+02, -1.4936e+02, -1.6660e+02, -1.8478e+02, -2.0388e+02],\n",
              "       grad_fn=<AddBackward0>)"
            ]
          },
          "metadata": {},
          "execution_count": 80
        }
      ]
    },
    {
      "cell_type": "code",
      "source": [
        "def show_preds(preds):\n",
        "  plt.scatter(time, speed)\n",
        "  plt.scatter(time, to_np(preds), color = 'red')"
      ],
      "metadata": {
        "id": "ZzOOaReuOG58"
      },
      "execution_count": null,
      "outputs": []
    },
    {
      "cell_type": "code",
      "source": [
        "show_preds(preds)"
      ],
      "metadata": {
        "colab": {
          "base_uri": "https://localhost:8080/",
          "height": 430
        },
        "id": "LXXITh7aO5N_",
        "outputId": "b1a72cb8-c5ef-4109-a760-799709fb130e"
      },
      "execution_count": null,
      "outputs": [
        {
          "output_type": "display_data",
          "data": {
            "text/plain": [
              "<Figure size 640x480 with 1 Axes>"
            ],
            "image/png": "[encoded data removed]"
          },
          "metadata": {}
        }
      ]
    },
    {
      "cell_type": "markdown",
      "source": [
        "#We need to repeat this a few times, so we'll create a function to apply one step:\n",
        "\n"
      ],
      "metadata": {
        "id": "JTcsnDdPQ6SS"
      }
    },
    {
      "cell_type": "code",
      "source": [
        "def apply_step(params , prn =True):\n",
        "  preds = f(time, params)\n",
        "  loss = mse(preds, speed)\n",
        "  loss.backward()\n",
        "  lr = 1e-5\n",
        "  params.data -=  lr*params.grad.data\n",
        "  params.grad = None\n",
        "  if prn : print(loss.item())\n",
        "  return preds\n",
        "\n"
      ],
      "metadata": {
        "id": "mqwT8fJ6Q3oj"
      },
      "execution_count": null,
      "outputs": []
    },
    {
      "cell_type": "code",
      "source": [
        "for i in range(60):\n",
        "  apply_step(params)"
      ],
      "metadata": {
        "colab": {
          "base_uri": "https://localhost:8080/"
        },
        "id": "6Z-QaBpGTBW9",
        "outputId": "a17dacd2-59f9-4cb3-bb7a-fa5d389b6d86"
      },
      "execution_count": null,
      "outputs": [
        {
          "output_type": "stream",
          "name": "stdout",
          "text": [
            "15266.896484375\n",
            "3380.3828125\n",
            "1131.083251953125\n",
            "705.4391479492188\n",
            "624.886474609375\n",
            "609.6356201171875\n",
            "606.7418212890625\n",
            "606.1865234375\n",
            "606.0735473632812\n",
            "606.0443725585938\n",
            "606.0311279296875\n",
            "606.0206909179688\n",
            "606.010986328125\n",
            "606.0012817382812\n",
            "605.9915771484375\n",
            "605.9820556640625\n",
            "605.9723510742188\n",
            "605.9627685546875\n",
            "605.9531860351562\n",
            "605.943603515625\n",
            "605.9339599609375\n",
            "605.9244384765625\n",
            "605.9147338867188\n",
            "605.9051513671875\n",
            "605.8956298828125\n",
            "605.8858642578125\n",
            "605.8762817382812\n",
            "605.8667602539062\n",
            "605.8571166992188\n",
            "605.8475341796875\n",
            "605.8380126953125\n",
            "605.8284301757812\n",
            "605.8187255859375\n",
            "605.8092041015625\n",
            "605.7996826171875\n",
            "605.7901000976562\n",
            "605.7805786132812\n",
            "605.7709350585938\n",
            "605.7613525390625\n",
            "605.7518310546875\n",
            "605.7422485351562\n",
            "605.7326049804688\n",
            "605.72314453125\n",
            "605.7135009765625\n",
            "605.7039794921875\n",
            "605.6943969726562\n",
            "605.6847534179688\n",
            "605.67529296875\n",
            "605.6656494140625\n",
            "605.6561279296875\n",
            "605.6466064453125\n",
            "605.6370849609375\n",
            "605.6275634765625\n",
            "605.6179809570312\n",
            "605.6085205078125\n",
            "605.5989990234375\n",
            "605.58935546875\n",
            "605.579833984375\n",
            "605.5703125\n",
            "605.560791015625\n"
          ]
        }
      ]
    },
    {
      "cell_type": "code",
      "source": [
        "fig, axs = plt.subplots(5, 6, figsize=(15, 5))  # Create a 5x6 grid of subplots\n",
        "\n",
        "for row in axs:  # Iterate through rows\n",
        "    for ax in row:  # Iterate through each axis in the row\n",
        "        plt.sca(ax)  # Set the current axis to `ax`\n",
        "        show_preds(apply_step(params, False))  # Call show_preds without passing ax\n",
        "\n",
        "plt.tight_layout()  # Prevent overlapping\n"
      ],
      "metadata": {
        "colab": {
          "base_uri": "https://localhost:8080/",
          "height": 482
        },
        "id": "vx9KZzkJWXjV",
        "outputId": "d64d472f-4d23-421e-f13f-7d0df54e5087"
      },
      "execution_count": null,
      "outputs": [
        {
          "output_type": "display_data",
          "data": {
            "text/plain": [
              "<Figure size 1500x500 with 30 Axes>"
            ],
            "image/png": "[encoded data removed]"
          },
          "metadata": {}
        }
      ]
    },
    {
      "cell_type": "markdown",
      "source": [
        "#My own example practice\n",
        "Teaching my student"
      ],
      "metadata": {
        "id": "g4IAK-9Xy8SK"
      }
    },
    {
      "cell_type": "code",
      "source": [
        "#Lets say we want to model a phenomenon that correlates x and y\n",
        "#Truth is that we have an idea how y might look like wrt to x\n",
        "\n",
        "x = torch.arange(0,40, 2).float() ; x"
      ],
      "metadata": {
        "colab": {
          "base_uri": "https://localhost:8080/"
        },
        "id": "KLE9UP1kzCNF",
        "outputId": "4648310e-89a5-4e9b-801a-dca3496c68b5"
      },
      "execution_count": null,
      "outputs": [
        {
          "output_type": "execute_result",
          "data": {
            "text/plain": [
              "tensor([ 0.,  2.,  4.,  6.,  8., 10., 12., 14., 16., 18., 20., 22., 24., 26.,\n",
              "        28., 30., 32., 34., 36., 38.])"
            ]
          },
          "metadata": {},
          "execution_count": 455
        }
      ]
    },
    {
      "cell_type": "code",
      "source": [
        "#based on what we have noticed in reality\n",
        "#so invariably , this is our true predictions for y\n",
        "y = 3*(x-20)**2 + 5*(x-20) + 5\n",
        "plt.figure(figsize=(4,3))\n",
        "plt.scatter(x, y)"
      ],
      "metadata": {
        "colab": {
          "base_uri": "https://localhost:8080/",
          "height": 308
        },
        "id": "x80efdBozIT8",
        "outputId": "0c11808f-57e4-4236-b758-8cb18ce843db"
      },
      "execution_count": null,
      "outputs": [
        {
          "output_type": "execute_result",
          "data": {
            "text/plain": [
              "<matplotlib.collections.PathCollection at 0x7e179e5fca90>"
            ]
          },
          "metadata": {},
          "execution_count": 456
        },
        {
          "output_type": "display_data",
          "data": {
            "text/plain": [
              "<Figure size 400x300 with 1 Axes>"
            ],
            "image/png": "[encoded data removed]"
          },
          "metadata": {}
        }
      ]
    },
    {
      "cell_type": "code",
      "source": [
        "#so then lets define how we get the y_preds, technically , I am saying that is my function for the y_pred\n",
        "#since pytorch will bring me random parameters and x is already known.\n",
        "\n",
        "def f(params, x):\n",
        "  a, b, c = params\n",
        "  return a * (x**2) + b*x + c"
      ],
      "metadata": {
        "id": "0U9AFGgQdmQx"
      },
      "execution_count": null,
      "outputs": []
    },
    {
      "cell_type": "code",
      "source": [
        "#the next thing I need to define is the loss function\n",
        "\n",
        "def mse(preds, target):\n",
        "  return ((preds-target)**2).mean()\n"
      ],
      "metadata": {
        "id": "HL9R5c3yfW_k"
      },
      "execution_count": null,
      "outputs": []
    },
    {
      "cell_type": "markdown",
      "source": [
        "#step 1 : Initialize the parameters"
      ],
      "metadata": {
        "id": "9l51RUBngQBG"
      }
    },
    {
      "cell_type": "code",
      "source": [
        "#in any deep learning project, this is the first thing you do!\n",
        "#how can you not do this!\n",
        "#luckily pytorch can help us with this!\n",
        "\n",
        "params = torch.randn(3).requires_grad_()\n"
      ],
      "metadata": {
        "id": "Bw_UgeYgggEb"
      },
      "execution_count": null,
      "outputs": []
    },
    {
      "cell_type": "code",
      "source": [
        "params"
      ],
      "metadata": {
        "colab": {
          "base_uri": "https://localhost:8080/"
        },
        "id": "2mh4X_2_hRov",
        "outputId": "3088f2bb-84eb-4d29-9614-5f29e08d9505"
      },
      "execution_count": null,
      "outputs": [
        {
          "output_type": "execute_result",
          "data": {
            "text/plain": [
              "tensor([ 0.0507, -1.0556,  1.5425], requires_grad=True)"
            ]
          },
          "metadata": {},
          "execution_count": 460
        }
      ]
    },
    {
      "cell_type": "code",
      "source": [
        "params.data"
      ],
      "metadata": {
        "colab": {
          "base_uri": "https://localhost:8080/"
        },
        "id": "3FdSlghyh5-4",
        "outputId": "56ddb3e4-72b4-4dfa-a15f-b24aefd60d2d"
      },
      "execution_count": null,
      "outputs": [
        {
          "output_type": "execute_result",
          "data": {
            "text/plain": [
              "tensor([ 0.0507, -1.0556,  1.5425])"
            ]
          },
          "metadata": {},
          "execution_count": 461
        }
      ]
    },
    {
      "cell_type": "markdown",
      "source": [
        "#step 2: calculate the predictions"
      ],
      "metadata": {
        "id": "9O56SkEpiOjb"
      }
    },
    {
      "cell_type": "code",
      "source": [
        "preds =  f(params, x)\n",
        "preds"
      ],
      "metadata": {
        "colab": {
          "base_uri": "https://localhost:8080/"
        },
        "id": "J1842maHiNBy",
        "outputId": "78e6b7e5-e709-43e9-d61c-63c32b7b8a42"
      },
      "execution_count": null,
      "outputs": [
        {
          "output_type": "execute_result",
          "data": {
            "text/plain": [
              "tensor([ 1.5425, -0.3660, -1.8690, -2.9664, -3.6584, -3.9448, -3.8257, -3.3011,\n",
              "        -2.3710, -1.0353,  0.7058,  2.8525,  5.4047,  8.3624, 11.7257, 15.4944,\n",
              "        19.6687, 24.2484, 29.2337, 34.6246], grad_fn=<AddBackward0>)"
            ]
          },
          "metadata": {},
          "execution_count": 462
        }
      ]
    },
    {
      "cell_type": "markdown",
      "source": [
        "#step 4 : calculate the loss"
      ],
      "metadata": {
        "id": "sj-8osAOjE5r"
      }
    },
    {
      "cell_type": "code",
      "source": [
        "#just for curiosity's sake\n",
        "y"
      ],
      "metadata": {
        "colab": {
          "base_uri": "https://localhost:8080/"
        },
        "id": "oy46mfNAkgDg",
        "outputId": "a7214482-a369-4c4a-ff41-74834fa9902d"
      },
      "execution_count": null,
      "outputs": [
        {
          "output_type": "execute_result",
          "data": {
            "text/plain": [
              "tensor([1105.,  887.,  693.,  523.,  377.,  255.,  157.,   83.,   33.,    7.,\n",
              "           5.,   27.,   73.,  143.,  237.,  355.,  497.,  663.,  853., 1067.])"
            ]
          },
          "metadata": {},
          "execution_count": 463
        }
      ]
    },
    {
      "cell_type": "markdown",
      "source": [
        "the above 1d Tensor are our truth!"
      ],
      "metadata": {
        "id": "zdPBKMzlkl4X"
      }
    },
    {
      "cell_type": "code",
      "source": [
        "loss = mse(preds, y)"
      ],
      "metadata": {
        "id": "jdkykJ69jEIt"
      },
      "execution_count": null,
      "outputs": []
    },
    {
      "cell_type": "code",
      "source": [
        "loss"
      ],
      "metadata": {
        "colab": {
          "base_uri": "https://localhost:8080/"
        },
        "id": "M9EcHhKDjjMU",
        "outputId": "18ae6d02-dfa0-424f-e407-9f155b5bb63b"
      },
      "execution_count": null,
      "outputs": [
        {
          "output_type": "execute_result",
          "data": {
            "text/plain": [
              "tensor(279032.5625, grad_fn=<MeanBackward0>)"
            ]
          },
          "metadata": {},
          "execution_count": 465
        }
      ]
    },
    {
      "cell_type": "markdown",
      "source": [
        "#step 5 : calculate the gradient"
      ],
      "metadata": {
        "id": "ItbxLo6Lk-wg"
      }
    },
    {
      "cell_type": "code",
      "source": [
        "loss.backward()"
      ],
      "metadata": {
        "id": "XMVyJ5m2k8Qm"
      },
      "execution_count": null,
      "outputs": []
    },
    {
      "cell_type": "code",
      "source": [
        "params"
      ],
      "metadata": {
        "colab": {
          "base_uri": "https://localhost:8080/"
        },
        "id": "IenM_2EClSBX",
        "outputId": "b6f8b3de-8e43-42ca-a574-6c080c45d390"
      },
      "execution_count": null,
      "outputs": [
        {
          "output_type": "execute_result",
          "data": {
            "text/plain": [
              "tensor([ 0.0507, -1.0556,  1.5425], requires_grad=True)"
            ]
          },
          "metadata": {},
          "execution_count": 467
        }
      ]
    },
    {
      "cell_type": "code",
      "source": [
        "params.grad"
      ],
      "metadata": {
        "colab": {
          "base_uri": "https://localhost:8080/"
        },
        "id": "GQwRewP_lUP5",
        "outputId": "81cb408e-c36a-45a1-ac7a-3d519c1d3bb9"
      },
      "execution_count": null,
      "outputs": [
        {
          "output_type": "execute_result",
          "data": {
            "text/plain": [
              "tensor([-454665.1250,  -14530.4258,    -790.9474])"
            ]
          },
          "metadata": {},
          "execution_count": 468
        }
      ]
    },
    {
      "cell_type": "code",
      "source": [
        "params.grad.data"
      ],
      "metadata": {
        "colab": {
          "base_uri": "https://localhost:8080/"
        },
        "id": "TniaD6KymKAV",
        "outputId": "0efd3024-2df5-4f97-a0b3-517f5e056209"
      },
      "execution_count": null,
      "outputs": [
        {
          "output_type": "execute_result",
          "data": {
            "text/plain": [
              "tensor([-454665.1250,  -14530.4258,    -790.9474])"
            ]
          },
          "metadata": {},
          "execution_count": 469
        }
      ]
    },
    {
      "cell_type": "markdown",
      "source": [
        "#step 6 : step the weights"
      ],
      "metadata": {
        "id": "BHrrT0ZZldEB"
      }
    },
    {
      "cell_type": "code",
      "source": [
        "lr = 1e-9\n",
        "params.data -= params.grad.data*lr\n",
        "params.grad = None"
      ],
      "metadata": {
        "id": "lPqYswZelcbN"
      },
      "execution_count": null,
      "outputs": []
    },
    {
      "cell_type": "code",
      "source": [
        "#I'm interested in seeing how my new parameters are doing since they have leanrt a step\n",
        "def plot_show(preds):\n",
        "  plt.figure(figsize=(4,3))\n",
        "  plt.scatter(x,y)\n",
        "  plt.scatter(x, to_np(preds), color = 'red')"
      ],
      "metadata": {
        "id": "OvSZWWJemXjY"
      },
      "execution_count": null,
      "outputs": []
    },
    {
      "cell_type": "code",
      "source": [
        "plot_show(preds)"
      ],
      "metadata": {
        "colab": {
          "base_uri": "https://localhost:8080/",
          "height": 291
        },
        "id": "yZmklWGHpqZ3",
        "outputId": "440aac55-91c7-41a9-e377-a4379f66d9b4"
      },
      "execution_count": null,
      "outputs": [
        {
          "output_type": "display_data",
          "data": {
            "text/plain": [
              "<Figure size 400x300 with 1 Axes>"
            ],
            "image/png": "[encoded data removed]"
          },
          "metadata": {}
        }
      ]
    },
    {
      "cell_type": "code",
      "source": [
        "#now let me find the second preds since i havent found a new pred\n",
        "preds = f(params, x)"
      ],
      "metadata": {
        "id": "gw90ywT7rNwy"
      },
      "execution_count": null,
      "outputs": []
    },
    {
      "cell_type": "code",
      "source": [
        "plot_show(preds)"
      ],
      "metadata": {
        "colab": {
          "base_uri": "https://localhost:8080/",
          "height": 291
        },
        "id": "rAYAxEOUrYMO",
        "outputId": "28418d9c-fa85-4b8d-edff-e3b9398ebad4"
      },
      "execution_count": null,
      "outputs": [
        {
          "output_type": "display_data",
          "data": {
            "text/plain": [
              "<Figure size 400x300 with 1 Axes>"
            ],
            "image/png": "[encoded data removed]"
          },
          "metadata": {}
        }
      ]
    },
    {
      "cell_type": "markdown",
      "source": [
        "#lets do this several times instead of ones"
      ],
      "metadata": {
        "id": "lViyfGmQr3Jo"
      }
    },
    {
      "cell_type": "code",
      "source": [
        "def apply_step(params, prn = True):\n",
        "  preds = f(params, x)\n",
        "  loss = mse(preds, y)\n",
        "  loss.backward()\n",
        "  lr = 1e-9\n",
        "  params.data -= params.grad.data*lr\n",
        "  params.grad = None\n",
        "  if prn:\n",
        "    print(loss.item())\n",
        "  return preds\n",
        "\n"
      ],
      "metadata": {
        "id": "sj6a78dFr9AE"
      },
      "execution_count": null,
      "outputs": []
    },
    {
      "cell_type": "code",
      "source": [
        "for i in range(1000):\n",
        "  apply_step(params, False)"
      ],
      "metadata": {
        "id": "RAwMbX3Ss3DK"
      },
      "execution_count": null,
      "outputs": []
    },
    {
      "cell_type": "code",
      "source": [
        "params"
      ],
      "metadata": {
        "colab": {
          "base_uri": "https://localhost:8080/"
        },
        "id": "OWIbT5rX1mI6",
        "outputId": "dcd17ce3-90eb-45fd-bcc6-eb6838f0bb63"
      },
      "execution_count": null,
      "outputs": [
        {
          "output_type": "execute_result",
          "data": {
            "text/plain": [
              "tensor([ 0.3506, -1.0461,  1.5431], requires_grad=True)"
            ]
          },
          "metadata": {},
          "execution_count": 477
        }
      ]
    },
    {
      "cell_type": "markdown",
      "source": [
        "#MNIST LOSS FUNCTION"
      ],
      "metadata": {
        "id": "ZAGEUdmfEWIQ"
      }
    },
    {
      "cell_type": "markdown",
      "source": [
        "getting the data from the internet"
      ],
      "metadata": {
        "id": "RMezh1BwEqz2"
      }
    },
    {
      "cell_type": "code",
      "source": [
        "path = untar_data(URLs.MNIST_SAMPLE)\n"
      ],
      "metadata": {
        "colab": {
          "base_uri": "https://localhost:8080/",
          "height": 37
        },
        "id": "-jX5WDoxEVxc",
        "outputId": "878431f8-7482-4880-87e9-2924e94ec66b"
      },
      "execution_count": 2,
      "outputs": [
        {
          "output_type": "display_data",
          "data": {
            "text/plain": [
              "<IPython.core.display.HTML object>"
            ],
            "text/html": [
              "\n",
              "<style>\n",
              "    /* Turns off some styling */\n",
              "    progress {\n",
              "        /* gets rid of default border in Firefox and Opera. */\n",
              "        border: none;\n",
              "        /* Needs to be in here for Safari polyfill so background images work as expected. */\n",
              "        background-size: auto;\n",
              "    }\n",
              "    progress:not([value]), progress:not([value])::-webkit-progress-bar {\n",
              "        background: repeating-linear-gradient(45deg, #7e7e7e, #7e7e7e 10px, #5c5c5c 10px, #5c5c5c 20px);\n",
              "    }\n",
              "    .progress-bar-interrupted, .progress-bar-interrupted::-webkit-progress-bar {\n",
              "        background: #F44336;\n",
              "    }\n",
              "</style>\n"
            ]
          },
          "metadata": {}
        },
        {
          "output_type": "display_data",
          "data": {
            "text/plain": [
              "<IPython.core.display.HTML object>"
            ],
            "text/html": [
              "\n",
              "    <div>\n",
              "      <progress value='3219456' class='' max='3214948' style='width:300px; height:20px; vertical-align: middle;'></progress>\n",
              "      100.14% [3219456/3214948 00:00&lt;00:00]\n",
              "    </div>\n",
              "    "
            ]
          },
          "metadata": {}
        }
      ]
    },
    {
      "cell_type": "code",
      "source": [
        "#We can see what's in this directory by using ls, a method added by fastai\n",
        "path.ls()"
      ],
      "metadata": {
        "colab": {
          "base_uri": "https://localhost:8080/"
        },
        "id": "mjDPVrTlEpfT",
        "outputId": "01f98785-e91c-438a-e4b2-db86c9120d71"
      },
      "execution_count": 3,
      "outputs": [
        {
          "output_type": "execute_result",
          "data": {
            "text/plain": [
              "(#3) [Path('/root/.fastai/data/mnist_sample/train'),Path('/root/.fastai/data/mnist_sample/valid'),Path('/root/.fastai/data/mnist_sample/labels.csv')]"
            ]
          },
          "metadata": {},
          "execution_count": 3
        }
      ]
    },
    {
      "cell_type": "code",
      "source": [
        "(path/'train').ls()\n"
      ],
      "metadata": {
        "colab": {
          "base_uri": "https://localhost:8080/"
        },
        "id": "czcutpGDFM7r",
        "outputId": "bbe0f69e-a303-4e6e-dea6-2eccde4d91b2"
      },
      "execution_count": 4,
      "outputs": [
        {
          "output_type": "execute_result",
          "data": {
            "text/plain": [
              "(#2) [Path('/root/.fastai/data/mnist_sample/train/3'),Path('/root/.fastai/data/mnist_sample/train/7')]"
            ]
          },
          "metadata": {},
          "execution_count": 4
        }
      ]
    },
    {
      "cell_type": "markdown",
      "source": [
        "here's a folder of 3s, and a folder of 7s. In machine learning parlance, we say that \"3\" and \"7\" are the labels (or targets) in this dataset. Let's take a look in one of these folders (using sorted to ensure we all get the same order of files):"
      ],
      "metadata": {
        "id": "0iGtelRIFihn"
      }
    },
    {
      "cell_type": "code",
      "source": [
        "threes = (path/'train'/'3').ls().sorted()\n",
        "sevens = (path/'train'/'7').ls().sorted()\n",
        "threes"
      ],
      "metadata": {
        "colab": {
          "base_uri": "https://localhost:8080/"
        },
        "id": "G2-HgGBZFYM-",
        "outputId": "a68beeae-3627-41ec-fc28-7119d95ef241"
      },
      "execution_count": 82,
      "outputs": [
        {
          "output_type": "execute_result",
          "data": {
            "text/plain": [
              "(#6131) [Path('/root/.fastai/data/mnist_sample/train/3/10.png'),Path('/root/.fastai/data/mnist_sample/train/3/10000.png'),Path('/root/.fastai/data/mnist_sample/train/3/10011.png'),Path('/root/.fastai/data/mnist_sample/train/3/10031.png'),Path('/root/.fastai/data/mnist_sample/train/3/10034.png'),Path('/root/.fastai/data/mnist_sample/train/3/10042.png'),Path('/root/.fastai/data/mnist_sample/train/3/10052.png'),Path('/root/.fastai/data/mnist_sample/train/3/1007.png'),Path('/root/.fastai/data/mnist_sample/train/3/10074.png'),Path('/root/.fastai/data/mnist_sample/train/3/10091.png'),Path('/root/.fastai/data/mnist_sample/train/3/10093.png'),Path('/root/.fastai/data/mnist_sample/train/3/10097.png'),Path('/root/.fastai/data/mnist_sample/train/3/10099.png'),Path('/root/.fastai/data/mnist_sample/train/3/10116.png'),Path('/root/.fastai/data/mnist_sample/train/3/10125.png'),Path('/root/.fastai/data/mnist_sample/train/3/10137.png'),Path('/root/.fastai/data/mnist_sample/train/3/10141.png'),Path('/root/.fastai/data/mnist_sample/train/3/10144.png'),Path('/root/.fastai/data/mnist_sample/train/3/10155.png'),Path('/root/.fastai/data/mnist_sample/train/3/10161.png')...]"
            ]
          },
          "metadata": {},
          "execution_count": 82
        }
      ]
    },
    {
      "cell_type": "code",
      "source": [
        "seven_tensors = [tensor(Image.open(o)) for o in sevens]\n",
        "three_tensors = [tensor(Image.open(o)) for o in threes]\n",
        "len(three_tensors),len(seven_tensors)"
      ],
      "metadata": {
        "colab": {
          "base_uri": "https://localhost:8080/"
        },
        "id": "wrn9sqDKGS-d",
        "outputId": "f76be511-8062-415a-b2a8-8b510d5ff2ae"
      },
      "execution_count": 83,
      "outputs": [
        {
          "output_type": "execute_result",
          "data": {
            "text/plain": [
              "(6131, 6265)"
            ]
          },
          "metadata": {},
          "execution_count": 83
        }
      ]
    },
    {
      "cell_type": "markdown",
      "source": [
        "Generally when images are floats, the pixel values are expected to be between 0 and 1, so we will also divide by 255 here:\n",
        "\n"
      ],
      "metadata": {
        "id": "kTDu2sFdGE3w"
      }
    },
    {
      "cell_type": "code",
      "source": [
        "stacked_sevens = torch.stack(seven_tensors).float()/255\n",
        "stacked_threes = torch.stack(three_tensors).float()/255\n",
        "stacked_threes.shape"
      ],
      "metadata": {
        "colab": {
          "base_uri": "https://localhost:8080/"
        },
        "id": "e5OiY0ZYGGeh",
        "outputId": "298f85ba-d539-4c37-c01a-fe3e25ed6a6d"
      },
      "execution_count": 84,
      "outputs": [
        {
          "output_type": "execute_result",
          "data": {
            "text/plain": [
              "torch.Size([6131, 28, 28])"
            ]
          },
          "metadata": {},
          "execution_count": 84
        }
      ]
    },
    {
      "cell_type": "code",
      "source": [
        "train_x = torch.cat([stacked_threes, stacked_sevens]).view(-1, 28*28)"
      ],
      "metadata": {
        "id": "Bdzx4KRVGveX"
      },
      "execution_count": 85,
      "outputs": []
    },
    {
      "cell_type": "markdown",
      "source": [
        "We need a label for each image. We'll use 1 for 3s and 0 for 7s:\n",
        "\n"
      ],
      "metadata": {
        "id": "s27M1acuIZ_b"
      }
    },
    {
      "cell_type": "markdown",
      "source": [
        "Adding an extra dimension with .unsqueeze(1):\n",
        "\n",
        ".unsqueeze(1) changes the shape from (2000,) to (2000, 1).\n",
        "This is often done to make the tensor compatible with models that expect column vectors.\n",
        "Final shape: (2000,1)"
      ],
      "metadata": {
        "id": "fnebHaBwI3Ke"
      }
    },
    {
      "cell_type": "code",
      "source": [
        "#creating the labels\n",
        "train_y = tensor([1]*len(threes) + [0]*len(sevens)).unsqueeze(1)\n"
      ],
      "metadata": {
        "id": "s8hXqQGGIQ-p"
      },
      "execution_count": 86,
      "outputs": []
    },
    {
      "cell_type": "code",
      "source": [
        "train_x.shape,train_y.shape\n"
      ],
      "metadata": {
        "colab": {
          "base_uri": "https://localhost:8080/"
        },
        "id": "JE21xN7vIb7F",
        "outputId": "4a7c9250-3120-4b41-dc52-a5756a6c0095"
      },
      "execution_count": 87,
      "outputs": [
        {
          "output_type": "execute_result",
          "data": {
            "text/plain": [
              "(torch.Size([12396, 784]), torch.Size([12396, 1]))"
            ]
          },
          "metadata": {},
          "execution_count": 87
        }
      ]
    },
    {
      "cell_type": "markdown",
      "source": [
        "the above dataset is not enough now we need to find how to combine each x to the respective y, why? because : A Dataset in PyTorch is required to return a tuple of (x,y)  when indexed....so we are gonna use a python function called zip.\n",
        "zip(train_x, train_y): Combines each image (train_x[i]) with its corresponding label (train_y[i]).\n",
        "list(...): Turns it into a list of tuples, where each item is (image, label)."
      ],
      "metadata": {
        "id": "Wqg94tnXLEUR"
      }
    },
    {
      "cell_type": "code",
      "source": [
        "dset = list(zip(train_x, train_y))\n",
        "x,y = dset[0]\n",
        "x.shape,y\n"
      ],
      "metadata": {
        "colab": {
          "base_uri": "https://localhost:8080/"
        },
        "id": "rbm1gnVcLH8Z",
        "outputId": "67d8a07c-724d-4a66-edda-9a51abd301df"
      },
      "execution_count": 88,
      "outputs": [
        {
          "output_type": "execute_result",
          "data": {
            "text/plain": [
              "(torch.Size([784]), tensor([1]))"
            ]
          },
          "metadata": {},
          "execution_count": 88
        }
      ]
    },
    {
      "cell_type": "code",
      "source": [
        "valid_3_tens = torch.stack([tensor(Image.open(o))\n",
        "                            for o in (path/'valid'/'3').ls()])\n",
        "valid_3_tens = valid_3_tens.float()/255\n",
        "valid_7_tens = torch.stack([tensor(Image.open(o))\n",
        "                            for o in (path/'valid'/'7').ls()])\n",
        "valid_7_tens = valid_7_tens.float()/255\n",
        "valid_3_tens.shape,valid_7_tens.shape"
      ],
      "metadata": {
        "colab": {
          "base_uri": "https://localhost:8080/"
        },
        "id": "HWDOQ5b6OCJ0",
        "outputId": "e0e93be6-815f-4e67-b924-b9b058d772b3"
      },
      "execution_count": 89,
      "outputs": [
        {
          "output_type": "execute_result",
          "data": {
            "text/plain": [
              "(torch.Size([1010, 28, 28]), torch.Size([1028, 28, 28]))"
            ]
          },
          "metadata": {},
          "execution_count": 89
        }
      ]
    },
    {
      "cell_type": "code",
      "source": [
        "#now lets do the same for validation dataset\n",
        "valid_x = torch.cat([valid_3_tens, valid_7_tens]).view(-1, 28*28)\n",
        "valid_y = tensor([1]*len(valid_3_tens) + [0]*len(valid_7_tens)).unsqueeze(1)\n",
        "valid_dset = list(zip(valid_x,valid_y))"
      ],
      "metadata": {
        "id": "H9t5aScTMx4P"
      },
      "execution_count": 90,
      "outputs": []
    },
    {
      "cell_type": "markdown",
      "source": [
        "#Step 1 : Initialize the weight"
      ],
      "metadata": {
        "id": "usfbfpZfOzpN"
      }
    },
    {
      "cell_type": "markdown",
      "source": [
        "Now we need an (initially random) weight for every pixel (this is the initialize step in our seven-step process):\n",
        "\n"
      ],
      "metadata": {
        "id": "48Rxk1paPdI5"
      }
    },
    {
      "cell_type": "code",
      "source": [
        "def init_params(size, std=1.0) :\n",
        "  return (torch.randn(size)*std).requires_grad_()\n",
        "\n"
      ],
      "metadata": {
        "id": "vwf_ornYOQSZ"
      },
      "execution_count": 91,
      "outputs": []
    },
    {
      "cell_type": "code",
      "source": [
        "weights = init_params((28*28,1))\n"
      ],
      "metadata": {
        "id": "F9TxZ2xGP5ER"
      },
      "execution_count": 92,
      "outputs": []
    },
    {
      "cell_type": "code",
      "source": [
        "bias = init_params(1)\n"
      ],
      "metadata": {
        "id": "ilE2kDChRsAZ"
      },
      "execution_count": 93,
      "outputs": []
    },
    {
      "cell_type": "markdown",
      "source": [
        "#step 2: calculate predcition"
      ],
      "metadata": {
        "id": "62y1J-P8SExl"
      }
    },
    {
      "cell_type": "code",
      "source": [
        "#Lets first calculate the prediction for one image\n",
        "(train_x[0] * weights.T).sum() + bias\n"
      ],
      "metadata": {
        "colab": {
          "base_uri": "https://localhost:8080/"
        },
        "id": "cRajhRyISDmu",
        "outputId": "95a57789-04fc-4c0e-b51e-94966bc8599d"
      },
      "execution_count": 94,
      "outputs": [
        {
          "output_type": "execute_result",
          "data": {
            "text/plain": [
              "tensor([-2.1550], grad_fn=<AddBackward0>)"
            ]
          },
          "metadata": {},
          "execution_count": 94
        }
      ]
    },
    {
      "cell_type": "code",
      "source": [
        "#awesome , we got the first prediction for the first role and ofc we cna just run a for loop\n",
        "#to run through all of this at once , we use matrix_multiplication\n",
        "def linear1(xb):\n",
        "  return xb@weights + bias\n",
        "preds = linear1(train_x)\n",
        "preds"
      ],
      "metadata": {
        "colab": {
          "base_uri": "https://localhost:8080/"
        },
        "id": "pfral9XcTeJP",
        "outputId": "ce4730db-7938-4b4b-b9cb-0e71c65cd3be"
      },
      "execution_count": 95,
      "outputs": [
        {
          "output_type": "execute_result",
          "data": {
            "text/plain": [
              "tensor([[ -2.1550],\n",
              "        [ -9.3736],\n",
              "        [ -2.3300],\n",
              "        ...,\n",
              "        [ -3.7351],\n",
              "        [ -7.3027],\n",
              "        [-13.7690]], grad_fn=<AddBackward0>)"
            ]
          },
          "metadata": {},
          "execution_count": 95
        }
      ]
    },
    {
      "cell_type": "code",
      "source": [
        "min(preds)"
      ],
      "metadata": {
        "colab": {
          "base_uri": "https://localhost:8080/"
        },
        "id": "6NwjQZr_VjGU",
        "outputId": "432fbdfd-c59a-403e-dad5-a4fbaa9fd39a"
      },
      "execution_count": 96,
      "outputs": [
        {
          "output_type": "execute_result",
          "data": {
            "text/plain": [
              "tensor([-24.0221], grad_fn=<UnbindBackward0>)"
            ]
          },
          "metadata": {},
          "execution_count": 96
        }
      ]
    },
    {
      "cell_type": "markdown",
      "source": [
        "#Time to check our accuracy"
      ],
      "metadata": {
        "id": "mMFGWHBSCXEn"
      }
    },
    {
      "cell_type": "code",
      "source": [
        "corrects = (preds>0.0).float() == train_y\n",
        "corrects"
      ],
      "metadata": {
        "id": "RACQnhi1VMI1",
        "colab": {
          "base_uri": "https://localhost:8080/"
        },
        "outputId": "d74254f1-d6f9-4068-9483-f97e13594b7b"
      },
      "execution_count": 97,
      "outputs": [
        {
          "output_type": "execute_result",
          "data": {
            "text/plain": [
              "tensor([[False],\n",
              "        [False],\n",
              "        [False],\n",
              "        ...,\n",
              "        [ True],\n",
              "        [ True],\n",
              "        [ True]])"
            ]
          },
          "metadata": {},
          "execution_count": 97
        }
      ]
    },
    {
      "cell_type": "markdown",
      "source": [
        "The accuracy is even worst than chance."
      ],
      "metadata": {
        "id": "U6EhiZkDJLcn"
      }
    },
    {
      "cell_type": "code",
      "source": [
        "corrects.float().mean().item()"
      ],
      "metadata": {
        "colab": {
          "base_uri": "https://localhost:8080/"
        },
        "id": "TeniKonSHI0O",
        "outputId": "9d7640d5-aebc-4c0d-eca2-3af05070fc38"
      },
      "execution_count": 98,
      "outputs": [
        {
          "output_type": "execute_result",
          "data": {
            "text/plain": [
              "0.6847370266914368"
            ]
          },
          "metadata": {},
          "execution_count": 98
        }
      ]
    },
    {
      "cell_type": "markdown",
      "source": [
        "Lets try and change one of the weights slightly and see whats can happen\n",
        "Now let's see what the change in accuracy is for a small change in one of the weights (note that we have to ask PyTorch not to calculate gradients as we do this, which is what with torch.no_grad() is doing here):"
      ],
      "metadata": {
        "id": "hMwydbqpJWiL"
      }
    },
    {
      "cell_type": "code",
      "source": [
        "with torch.no_grad():\n",
        "   weights[0] *= 1.0001\n"
      ],
      "metadata": {
        "id": "tTCYyYi0Jeav"
      },
      "execution_count": 99,
      "outputs": []
    },
    {
      "cell_type": "code",
      "source": [
        "preds = linear1(train_x)\n",
        "((preds>0.0).float() == train_y).float().mean().item()"
      ],
      "metadata": {
        "colab": {
          "base_uri": "https://localhost:8080/"
        },
        "id": "5zHMQd4lJVLP",
        "outputId": "21ccd3cb-40c6-4bb9-c7a6-c0ff95dad299"
      },
      "execution_count": 100,
      "outputs": [
        {
          "output_type": "execute_result",
          "data": {
            "text/plain": [
              "0.6847370266914368"
            ]
          },
          "metadata": {},
          "execution_count": 100
        }
      ]
    },
    {
      "cell_type": "markdown",
      "source": [
        "#STEP 3 : Calculate Loss"
      ],
      "metadata": {
        "id": "gUfPdFevQCjL"
      }
    },
    {
      "cell_type": "code",
      "source": [
        "def sigmoid(x): return 1/(1+torch.exp(-x))\n"
      ],
      "metadata": {
        "id": "0_em9En-y9L7"
      },
      "execution_count": 101,
      "outputs": []
    },
    {
      "cell_type": "code",
      "source": [
        "def mnist_loss(preds, targets):\n",
        "  preds = preds.sigmoid()\n",
        "  return torch.where(targets==1, 1-preds, preds).mean()"
      ],
      "metadata": {
        "id": "VNs10ShbK4Gr"
      },
      "execution_count": 102,
      "outputs": []
    },
    {
      "cell_type": "markdown",
      "source": [
        "We want to do a DataLoader class from pytorch and fastai that helps us with shuffle and batch size."
      ],
      "metadata": {
        "id": "PV4jCmMpq26V"
      }
    },
    {
      "cell_type": "code",
      "source": [
        "#lets try and play around a bit\n",
        "ds = L(enumerate(string.ascii_lowercase))\n",
        "ds\n"
      ],
      "metadata": {
        "colab": {
          "base_uri": "https://localhost:8080/"
        },
        "id": "211pTS4kTuDh",
        "outputId": "741617a8-e16e-4ec6-9381-7bbfe61374a0"
      },
      "execution_count": 103,
      "outputs": [
        {
          "output_type": "execute_result",
          "data": {
            "text/plain": [
              "(#26) [(0, 'a'),(1, 'b'),(2, 'c'),(3, 'd'),(4, 'e'),(5, 'f'),(6, 'g'),(7, 'h'),(8, 'i'),(9, 'j'),(10, 'k'),(11, 'l'),(12, 'm'),(13, 'n'),(14, 'o'),(15, 'p'),(16, 'q'),(17, 'r'),(18, 's'),(19, 't')...]"
            ]
          },
          "metadata": {},
          "execution_count": 103
        }
      ]
    },
    {
      "cell_type": "code",
      "source": [
        "#if i pass the above to a dataloader, it it going to help wiht shuffling and batch size\n",
        "\n",
        "d = DataLoader(ds, batch_size=6, shuffle= True)\n",
        "list(d)"
      ],
      "metadata": {
        "colab": {
          "base_uri": "https://localhost:8080/"
        },
        "id": "6ZO8p0VCs1rA",
        "outputId": "5f38c785-eb0d-4a26-b700-2c28b426e90a"
      },
      "execution_count": 104,
      "outputs": [
        {
          "output_type": "execute_result",
          "data": {
            "text/plain": [
              "[(tensor([ 9,  5, 11,  3, 16, 17]), ('j', 'f', 'l', 'd', 'q', 'r')),\n",
              " (tensor([13,  6, 19, 25, 15, 12]), ('n', 'g', 't', 'z', 'p', 'm')),\n",
              " (tensor([ 4, 10, 18,  7,  8, 23]), ('e', 'k', 's', 'h', 'i', 'x')),\n",
              " (tensor([ 2, 24, 14,  0, 21, 20]), ('c', 'y', 'o', 'a', 'v', 'u')),\n",
              " (tensor([ 1, 22]), ('b', 'w'))]"
            ]
          },
          "metadata": {},
          "execution_count": 104
        }
      ]
    },
    {
      "cell_type": "markdown",
      "source": [
        "#PUTTING ALL OF THE ABOVE TOGETHER"
      ],
      "metadata": {
        "id": "DBNsAdAut8iB"
      }
    },
    {
      "cell_type": "markdown",
      "source": [
        "I : First, let's re-initialize our parameters"
      ],
      "metadata": {
        "id": "fmxy90QSuNXt"
      }
    },
    {
      "cell_type": "code",
      "source": [
        "weights = init_params((28*28,1))\n",
        "bias = init_params(1)"
      ],
      "metadata": {
        "id": "ACeA8o6CuArt"
      },
      "execution_count": 105,
      "outputs": []
    },
    {
      "cell_type": "code",
      "source": [
        "dl = DataLoader(dset, batch_size=256)\n",
        "xb,yb = first(dl)\n",
        "xb.shape,yb.shape"
      ],
      "metadata": {
        "colab": {
          "base_uri": "https://localhost:8080/"
        },
        "id": "Hjhh816MvJRx",
        "outputId": "39f722a6-550a-4c7c-e6ff-665e0c3f1e2b"
      },
      "execution_count": 106,
      "outputs": [
        {
          "output_type": "execute_result",
          "data": {
            "text/plain": [
              "(torch.Size([256, 784]), torch.Size([256, 1]))"
            ]
          },
          "metadata": {},
          "execution_count": 106
        }
      ]
    },
    {
      "cell_type": "markdown",
      "source": [
        "#We'll do the same for the validation set:\n"
      ],
      "metadata": {
        "id": "jVUiEddovvHT"
      }
    },
    {
      "cell_type": "code",
      "source": [
        "valid_dl = DataLoader(valid_dset, batch_size=256)\n",
        "\n"
      ],
      "metadata": {
        "id": "Mdgtrr_rvmQM"
      },
      "execution_count": 107,
      "outputs": []
    },
    {
      "cell_type": "markdown",
      "source": [
        "#Let's create a mini-batch of size 4 for testing:\n",
        "\n"
      ],
      "metadata": {
        "id": "w4bqEx1Nw6rr"
      }
    },
    {
      "cell_type": "code",
      "source": [
        "batch = train_x[:4]\n"
      ],
      "metadata": {
        "id": "Lfmf6-4Pw9Iz"
      },
      "execution_count": 108,
      "outputs": []
    },
    {
      "cell_type": "code",
      "source": [
        "batch = train_x[:4]\n",
        "batch.shape"
      ],
      "metadata": {
        "colab": {
          "base_uri": "https://localhost:8080/"
        },
        "id": "4QNvfPLjxlNX",
        "outputId": "c8fb7dec-239c-467b-ca6c-37bf17d35912"
      },
      "execution_count": 109,
      "outputs": [
        {
          "output_type": "execute_result",
          "data": {
            "text/plain": [
              "torch.Size([4, 784])"
            ]
          },
          "metadata": {},
          "execution_count": 109
        }
      ]
    },
    {
      "cell_type": "code",
      "source": [
        "preds = linear1(batch)\n",
        "preds"
      ],
      "metadata": {
        "colab": {
          "base_uri": "https://localhost:8080/"
        },
        "id": "cd4UMMcExppT",
        "outputId": "fcace8cb-7331-4167-f414-423479be7344"
      },
      "execution_count": 110,
      "outputs": [
        {
          "output_type": "execute_result",
          "data": {
            "text/plain": [
              "tensor([[-4.1771],\n",
              "        [ 1.1838],\n",
              "        [ 2.8419],\n",
              "        [-2.6722]], grad_fn=<AddBackward0>)"
            ]
          },
          "metadata": {},
          "execution_count": 110
        }
      ]
    },
    {
      "cell_type": "code",
      "source": [
        "loss = mnist_loss(preds, train_y[:4])\n",
        "loss"
      ],
      "metadata": {
        "colab": {
          "base_uri": "https://localhost:8080/"
        },
        "id": "O2F61tlHyEg7",
        "outputId": "ea7b066f-cec4-4964-e855-7d3c9470ad4c"
      },
      "execution_count": 111,
      "outputs": [
        {
          "output_type": "execute_result",
          "data": {
            "text/plain": [
              "tensor(0.5524, grad_fn=<MeanBackward0>)"
            ]
          },
          "metadata": {},
          "execution_count": 111
        }
      ]
    },
    {
      "cell_type": "markdown",
      "source": [
        "Now we can calculate the gradients:\n",
        "\n"
      ],
      "metadata": {
        "id": "X2CpSyajyK86"
      }
    },
    {
      "cell_type": "code",
      "source": [
        "loss.backward()\n",
        "weights.grad.shape, weights.grad.mean(), bias.grad"
      ],
      "metadata": {
        "colab": {
          "base_uri": "https://localhost:8080/"
        },
        "id": "9WyyoHUkyMhW",
        "outputId": "6070ee1b-a520-434e-f11c-2fa40b813192"
      },
      "execution_count": 112,
      "outputs": [
        {
          "output_type": "execute_result",
          "data": {
            "text/plain": [
              "(torch.Size([784, 1]), tensor(-0.0114), tensor([-0.0767]))"
            ]
          },
          "metadata": {},
          "execution_count": 112
        }
      ]
    },
    {
      "cell_type": "markdown",
      "source": [
        "Let's put that all in a function:\n",
        "\n"
      ],
      "metadata": {
        "id": "_-5R9vGc3smT"
      }
    },
    {
      "cell_type": "code",
      "source": [
        "def calc_grad(xb, yb, model):\n",
        "    preds = model(xb)\n",
        "    loss = mnist_loss(preds, yb)\n",
        "    loss.backward()"
      ],
      "metadata": {
        "id": "Ac1_OP0G3reM"
      },
      "execution_count": 113,
      "outputs": []
    },
    {
      "cell_type": "code",
      "source": [
        "calc_grad(batch, train_y[:4], linear1)\n",
        "weights.grad.mean(),bias.grad\n"
      ],
      "metadata": {
        "colab": {
          "base_uri": "https://localhost:8080/"
        },
        "id": "tnT1v5o54F2h",
        "outputId": "d7733441-392c-4482-c3e0-5e0c34aacd7b"
      },
      "execution_count": 114,
      "outputs": [
        {
          "output_type": "execute_result",
          "data": {
            "text/plain": [
              "(tensor(-0.0229), tensor([-0.1534]))"
            ]
          },
          "metadata": {},
          "execution_count": 114
        }
      ]
    },
    {
      "cell_type": "code",
      "source": [
        "len(weights.grad)"
      ],
      "metadata": {
        "colab": {
          "base_uri": "https://localhost:8080/"
        },
        "id": "tzKfpPVY4zmk",
        "outputId": "60b64d07-81f0-4a47-9734-6836b464245f"
      },
      "execution_count": 116,
      "outputs": [
        {
          "output_type": "execute_result",
          "data": {
            "text/plain": [
              "784"
            ]
          },
          "metadata": {},
          "execution_count": 116
        }
      ]
    }
  ]
}