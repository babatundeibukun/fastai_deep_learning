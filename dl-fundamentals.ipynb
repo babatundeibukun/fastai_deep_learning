{
 "cells": [
  {
   "cell_type": "code",
   "execution_count": 1,
   "id": "dcf85bc3",
   "metadata": {
    "_cell_guid": "b1076dfc-b9ad-4769-8c92-a6c4dae69d19",
    "_uuid": "8f2839f25d086af736a60e9eeb907d3b93b6e0e5",
    "execution": {
     "iopub.execute_input": "2025-02-09T13:32:44.218030Z",
     "iopub.status.busy": "2025-02-09T13:32:44.217517Z",
     "iopub.status.idle": "2025-02-09T13:32:45.232175Z",
     "shell.execute_reply": "2025-02-09T13:32:45.230965Z"
    },
    "papermill": {
     "duration": 1.02796,
     "end_time": "2025-02-09T13:32:45.234105",
     "exception": false,
     "start_time": "2025-02-09T13:32:44.206145",
     "status": "completed"
    },
    "tags": []
   },
   "outputs": [],
   "source": [
    "# This Python 3 environment comes with many helpful analytics libraries installed\n",
    "# It is defined by the kaggle/python Docker image: https://github.com/kaggle/docker-python\n",
    "# For example, here's several helpful packages to load\n",
    "\n",
    "import numpy as np # linear algebra\n",
    "import pandas as pd # data processing, CSV file I/O (e.g. pd.read_csv)\n",
    "\n",
    "# Input data files are available in the read-only \"../input/\" directory\n",
    "# For example, running this (by clicking run or pressing Shift+Enter) will list all files under the input directory\n",
    "\n",
    "import os\n",
    "for dirname, _, filenames in os.walk('/kaggle/input'):\n",
    "    for filename in filenames:\n",
    "        print(os.path.join(dirname, filename))\n",
    "\n",
    "# You can write up to 20GB to the current directory (/kaggle/working/) that gets preserved as output when you create a version using \"Save & Run All\" \n",
    "# You can also write temporary files to /kaggle/temp/, but they won't be saved outside of the current session"
   ]
  },
  {
   "cell_type": "code",
   "execution_count": 2,
   "id": "d07c58f9",
   "metadata": {
    "execution": {
     "iopub.execute_input": "2025-02-09T13:32:45.254268Z",
     "iopub.status.busy": "2025-02-09T13:32:45.253725Z",
     "iopub.status.idle": "2025-02-09T13:33:02.252400Z",
     "shell.execute_reply": "2025-02-09T13:33:02.251415Z"
    },
    "papermill": {
     "duration": 17.010749,
     "end_time": "2025-02-09T13:33:02.254478",
     "exception": false,
     "start_time": "2025-02-09T13:32:45.243729",
     "status": "completed"
    },
    "tags": []
   },
   "outputs": [],
   "source": [
    "#i need that data that contaons just 3's and 7's\n",
    "#that is my first step\n",
    "#importing all i need to make my life easy\n",
    "\n",
    "\n",
    "#hide\n",
    "from fastai.vision.all import *\n",
    "#from fastbook import *\n",
    "\n",
    "matplotlib.rc('image', cmap='Greys')"
   ]
  },
  {
   "cell_type": "code",
   "execution_count": 3,
   "id": "b5cc49af",
   "metadata": {
    "execution": {
     "iopub.execute_input": "2025-02-09T13:33:02.274991Z",
     "iopub.status.busy": "2025-02-09T13:33:02.274569Z",
     "iopub.status.idle": "2025-02-09T13:33:06.578309Z",
     "shell.execute_reply": "2025-02-09T13:33:06.576970Z"
    },
    "papermill": {
     "duration": 4.315999,
     "end_time": "2025-02-09T13:33:06.580434",
     "exception": false,
     "start_time": "2025-02-09T13:33:02.264435",
     "status": "completed"
    },
    "tags": []
   },
   "outputs": [
    {
     "data": {
      "text/html": [
       "\n",
       "<style>\n",
       "    /* Turns off some styling */\n",
       "    progress {\n",
       "        /* gets rid of default border in Firefox and Opera. */\n",
       "        border: none;\n",
       "        /* Needs to be in here for Safari polyfill so background images work as expected. */\n",
       "        background-size: auto;\n",
       "    }\n",
       "    progress:not([value]), progress:not([value])::-webkit-progress-bar {\n",
       "        background: repeating-linear-gradient(45deg, #7e7e7e, #7e7e7e 10px, #5c5c5c 10px, #5c5c5c 20px);\n",
       "    }\n",
       "    .progress-bar-interrupted, .progress-bar-interrupted::-webkit-progress-bar {\n",
       "        background: #F44336;\n",
       "    }\n",
       "</style>\n"
      ],
      "text/plain": [
       "<IPython.core.display.HTML object>"
      ]
     },
     "metadata": {},
     "output_type": "display_data"
    },
    {
     "data": {
      "text/html": [
       "\n",
       "    <div>\n",
       "      <progress value='3219456' class='' max='3214948' style='width:300px; height:20px; vertical-align: middle;'></progress>\n",
       "      100.14% [3219456/3214948 00:00&lt;00:00]\n",
       "    </div>\n",
       "    "
      ],
      "text/plain": [
       "<IPython.core.display.HTML object>"
      ]
     },
     "metadata": {},
     "output_type": "display_data"
    }
   ],
   "source": [
    "path = untar_data(URLs.MNIST_SAMPLE)\n"
   ]
  },
  {
   "cell_type": "code",
   "execution_count": 4,
   "id": "4b01c790",
   "metadata": {
    "execution": {
     "iopub.execute_input": "2025-02-09T13:33:06.600836Z",
     "iopub.status.busy": "2025-02-09T13:33:06.600378Z",
     "iopub.status.idle": "2025-02-09T13:33:06.606950Z",
     "shell.execute_reply": "2025-02-09T13:33:06.606040Z"
    },
    "papermill": {
     "duration": 0.018429,
     "end_time": "2025-02-09T13:33:06.608562",
     "exception": false,
     "start_time": "2025-02-09T13:33:06.590133",
     "status": "completed"
    },
    "tags": []
   },
   "outputs": [
    {
     "data": {
      "text/plain": [
       "(#3) [Path('/root/.fastai/data/mnist_sample/valid'),Path('/root/.fastai/data/mnist_sample/labels.csv'),Path('/root/.fastai/data/mnist_sample/train')]"
      ]
     },
     "execution_count": 4,
     "metadata": {},
     "output_type": "execute_result"
    }
   ],
   "source": [
    "path.ls()"
   ]
  },
  {
   "cell_type": "code",
   "execution_count": 5,
   "id": "7dcc8390",
   "metadata": {
    "execution": {
     "iopub.execute_input": "2025-02-09T13:33:06.629043Z",
     "iopub.status.busy": "2025-02-09T13:33:06.628535Z",
     "iopub.status.idle": "2025-02-09T13:33:06.635669Z",
     "shell.execute_reply": "2025-02-09T13:33:06.634400Z"
    },
    "papermill": {
     "duration": 0.019257,
     "end_time": "2025-02-09T13:33:06.637404",
     "exception": false,
     "start_time": "2025-02-09T13:33:06.618147",
     "status": "completed"
    },
    "tags": []
   },
   "outputs": [
    {
     "data": {
      "text/plain": [
       "(#2) [Path('/root/.fastai/data/mnist_sample/train/7'),Path('/root/.fastai/data/mnist_sample/train/3')]"
      ]
     },
     "execution_count": 5,
     "metadata": {},
     "output_type": "execute_result"
    }
   ],
   "source": [
    "(path/'train').ls()\n"
   ]
  },
  {
   "cell_type": "code",
   "execution_count": 6,
   "id": "1a506f5c",
   "metadata": {
    "execution": {
     "iopub.execute_input": "2025-02-09T13:33:06.658513Z",
     "iopub.status.busy": "2025-02-09T13:33:06.658151Z",
     "iopub.status.idle": "2025-02-09T13:33:06.768624Z",
     "shell.execute_reply": "2025-02-09T13:33:06.767264Z"
    },
    "papermill": {
     "duration": 0.123384,
     "end_time": "2025-02-09T13:33:06.770785",
     "exception": false,
     "start_time": "2025-02-09T13:33:06.647401",
     "status": "completed"
    },
    "tags": []
   },
   "outputs": [],
   "source": [
    "threes = (path/'train'/'3').ls().sorted()\n",
    "sevens = (path/'train'/'7').ls().sorted()\n"
   ]
  },
  {
   "cell_type": "code",
   "execution_count": 7,
   "id": "85c8971a",
   "metadata": {
    "execution": {
     "iopub.execute_input": "2025-02-09T13:33:06.791482Z",
     "iopub.status.busy": "2025-02-09T13:33:06.791086Z",
     "iopub.status.idle": "2025-02-09T13:33:10.451981Z",
     "shell.execute_reply": "2025-02-09T13:33:10.451001Z"
    },
    "papermill": {
     "duration": 3.673455,
     "end_time": "2025-02-09T13:33:10.453943",
     "exception": false,
     "start_time": "2025-02-09T13:33:06.780488",
     "status": "completed"
    },
    "tags": []
   },
   "outputs": [
    {
     "data": {
      "text/plain": [
       "(6131, 6265)"
      ]
     },
     "execution_count": 7,
     "metadata": {},
     "output_type": "execute_result"
    }
   ],
   "source": [
    "seven_tensors = [tensor(Image.open(o)) for o in sevens]\n",
    "three_tensors = [tensor(Image.open(o)) for o in threes]\n",
    "len(three_tensors),len(seven_tensors)"
   ]
  },
  {
   "cell_type": "code",
   "execution_count": 8,
   "id": "71437caf",
   "metadata": {
    "execution": {
     "iopub.execute_input": "2025-02-09T13:33:10.475172Z",
     "iopub.status.busy": "2025-02-09T13:33:10.474840Z",
     "iopub.status.idle": "2025-02-09T13:33:10.602470Z",
     "shell.execute_reply": "2025-02-09T13:33:10.601482Z"
    },
    "papermill": {
     "duration": 0.140196,
     "end_time": "2025-02-09T13:33:10.604455",
     "exception": false,
     "start_time": "2025-02-09T13:33:10.464259",
     "status": "completed"
    },
    "tags": []
   },
   "outputs": [],
   "source": [
    "stacked_threes = torch.stack(three_tensors).float()/255\n",
    "stacked_sevens = torch.stack(seven_tensors).float()/255"
   ]
  },
  {
   "cell_type": "code",
   "execution_count": 9,
   "id": "6603dbcc",
   "metadata": {
    "execution": {
     "iopub.execute_input": "2025-02-09T13:33:10.627631Z",
     "iopub.status.busy": "2025-02-09T13:33:10.627290Z",
     "iopub.status.idle": "2025-02-09T13:33:10.657336Z",
     "shell.execute_reply": "2025-02-09T13:33:10.656231Z"
    },
    "papermill": {
     "duration": 0.042474,
     "end_time": "2025-02-09T13:33:10.659246",
     "exception": false,
     "start_time": "2025-02-09T13:33:10.616772",
     "status": "completed"
    },
    "tags": []
   },
   "outputs": [
    {
     "data": {
      "text/plain": [
       "torch.Size([12396, 784])"
      ]
     },
     "execution_count": 9,
     "metadata": {},
     "output_type": "execute_result"
    }
   ],
   "source": [
    "train_x = torch.cat([stacked_threes, stacked_sevens]).view(-1, 28*28)\n",
    "train_x.shape\n"
   ]
  },
  {
   "cell_type": "code",
   "execution_count": 10,
   "id": "9a9e536b",
   "metadata": {
    "execution": {
     "iopub.execute_input": "2025-02-09T13:33:10.682684Z",
     "iopub.status.busy": "2025-02-09T13:33:10.682342Z",
     "iopub.status.idle": "2025-02-09T13:33:10.695718Z",
     "shell.execute_reply": "2025-02-09T13:33:10.694598Z"
    },
    "papermill": {
     "duration": 0.025784,
     "end_time": "2025-02-09T13:33:10.697441",
     "exception": false,
     "start_time": "2025-02-09T13:33:10.671657",
     "status": "completed"
    },
    "tags": []
   },
   "outputs": [
    {
     "data": {
      "text/plain": [
       "torch.Size([12396, 1])"
      ]
     },
     "execution_count": 10,
     "metadata": {},
     "output_type": "execute_result"
    }
   ],
   "source": [
    "train_y = tensor([1]*len(stacked_threes) + [0]*len(stacked_sevens)).unsqueeze(1)\n",
    "train_y.shape"
   ]
  },
  {
   "cell_type": "code",
   "execution_count": 11,
   "id": "28512848",
   "metadata": {
    "execution": {
     "iopub.execute_input": "2025-02-09T13:33:10.718605Z",
     "iopub.status.busy": "2025-02-09T13:33:10.718278Z",
     "iopub.status.idle": "2025-02-09T13:33:10.777133Z",
     "shell.execute_reply": "2025-02-09T13:33:10.776029Z"
    },
    "papermill": {
     "duration": 0.071533,
     "end_time": "2025-02-09T13:33:10.779128",
     "exception": false,
     "start_time": "2025-02-09T13:33:10.707595",
     "status": "completed"
    },
    "tags": []
   },
   "outputs": [
    {
     "data": {
      "text/plain": [
       "(torch.Size([784]), tensor([1]))"
      ]
     },
     "execution_count": 11,
     "metadata": {},
     "output_type": "execute_result"
    }
   ],
   "source": [
    "ds = list(zip(train_x , train_y))\n",
    "x, y = ds[0]\n",
    "x.shape, y "
   ]
  },
  {
   "cell_type": "code",
   "execution_count": 12,
   "id": "0ae6054f",
   "metadata": {
    "execution": {
     "iopub.execute_input": "2025-02-09T13:33:10.800373Z",
     "iopub.status.busy": "2025-02-09T13:33:10.800042Z",
     "iopub.status.idle": "2025-02-09T13:33:10.816144Z",
     "shell.execute_reply": "2025-02-09T13:33:10.815164Z"
    },
    "papermill": {
     "duration": 0.028553,
     "end_time": "2025-02-09T13:33:10.817765",
     "exception": false,
     "start_time": "2025-02-09T13:33:10.789212",
     "status": "completed"
    },
    "tags": []
   },
   "outputs": [
    {
     "data": {
      "text/plain": [
       "(torch.Size([256, 784]), torch.Size([256, 1]))"
      ]
     },
     "execution_count": 12,
     "metadata": {},
     "output_type": "execute_result"
    }
   ],
   "source": [
    "dl = DataLoader(ds, batch_size = 256)\n",
    "xb, yb = first(dl)\n",
    "xb.shape , yb.shape"
   ]
  },
  {
   "cell_type": "code",
   "execution_count": 13,
   "id": "5453fdfe",
   "metadata": {
    "execution": {
     "iopub.execute_input": "2025-02-09T13:33:10.839030Z",
     "iopub.status.busy": "2025-02-09T13:33:10.838542Z",
     "iopub.status.idle": "2025-02-09T13:33:11.393762Z",
     "shell.execute_reply": "2025-02-09T13:33:11.392683Z"
    },
    "papermill": {
     "duration": 0.567568,
     "end_time": "2025-02-09T13:33:11.395467",
     "exception": false,
     "start_time": "2025-02-09T13:33:10.827899",
     "status": "completed"
    },
    "tags": []
   },
   "outputs": [
    {
     "data": {
      "text/plain": [
       "(torch.Size([1010, 28, 28]), torch.Size([1028, 28, 28]))"
      ]
     },
     "execution_count": 13,
     "metadata": {},
     "output_type": "execute_result"
    }
   ],
   "source": [
    "valid_3_tens = torch.stack([tensor(Image.open(o))\n",
    "                            for o in (path/'valid'/'3').ls()])\n",
    "valid_3_tens = valid_3_tens.float()/255\n",
    "valid_7_tens = torch.stack([tensor(Image.open(o))\n",
    "                            for o in (path/'valid'/'7').ls()])\n",
    "valid_7_tens = valid_7_tens.float()/255\n",
    "valid_3_tens.shape,valid_7_tens.shape"
   ]
  },
  {
   "cell_type": "code",
   "execution_count": 14,
   "id": "7b4adc7d",
   "metadata": {
    "execution": {
     "iopub.execute_input": "2025-02-09T13:33:11.418037Z",
     "iopub.status.busy": "2025-02-09T13:33:11.417624Z",
     "iopub.status.idle": "2025-02-09T13:33:11.435909Z",
     "shell.execute_reply": "2025-02-09T13:33:11.434737Z"
    },
    "papermill": {
     "duration": 0.031188,
     "end_time": "2025-02-09T13:33:11.437733",
     "exception": false,
     "start_time": "2025-02-09T13:33:11.406545",
     "status": "completed"
    },
    "tags": []
   },
   "outputs": [],
   "source": [
    "valid_x = torch.cat([valid_3_tens, valid_7_tens]).view(-1, 28*28)\n",
    "valid_y = tensor([1]*len(valid_3_tens) + [0]*len(valid_7_tens)).unsqueeze(1)\n",
    "valid_dset = list(zip(valid_x,valid_y))"
   ]
  },
  {
   "cell_type": "code",
   "execution_count": 15,
   "id": "197c69c0",
   "metadata": {
    "execution": {
     "iopub.execute_input": "2025-02-09T13:33:11.459499Z",
     "iopub.status.busy": "2025-02-09T13:33:11.459160Z",
     "iopub.status.idle": "2025-02-09T13:33:11.464115Z",
     "shell.execute_reply": "2025-02-09T13:33:11.462794Z"
    },
    "papermill": {
     "duration": 0.017641,
     "end_time": "2025-02-09T13:33:11.465866",
     "exception": false,
     "start_time": "2025-02-09T13:33:11.448225",
     "status": "completed"
    },
    "tags": []
   },
   "outputs": [],
   "source": [
    "valid_dl = DataLoader(valid_dset, batch_size=256)"
   ]
  },
  {
   "cell_type": "markdown",
   "id": "8e9ff42f",
   "metadata": {
    "papermill": {
     "duration": 0.009944,
     "end_time": "2025-02-09T13:33:11.486070",
     "exception": false,
     "start_time": "2025-02-09T13:33:11.476126",
     "status": "completed"
    },
    "tags": []
   },
   "source": [
    "__STEP 1 : INITIALIZE PARAMS__"
   ]
  },
  {
   "cell_type": "code",
   "execution_count": 16,
   "id": "4ebbc1c9",
   "metadata": {
    "execution": {
     "iopub.execute_input": "2025-02-09T13:33:11.507960Z",
     "iopub.status.busy": "2025-02-09T13:33:11.507480Z",
     "iopub.status.idle": "2025-02-09T13:33:11.512262Z",
     "shell.execute_reply": "2025-02-09T13:33:11.511169Z"
    },
    "papermill": {
     "duration": 0.017896,
     "end_time": "2025-02-09T13:33:11.514059",
     "exception": false,
     "start_time": "2025-02-09T13:33:11.496163",
     "status": "completed"
    },
    "tags": []
   },
   "outputs": [],
   "source": [
    "def init_params(size, std=1.0):\n",
    "    return torch.randn(size).requires_grad_()"
   ]
  },
  {
   "cell_type": "code",
   "execution_count": 17,
   "id": "9cae7c68",
   "metadata": {
    "execution": {
     "iopub.execute_input": "2025-02-09T13:33:11.535554Z",
     "iopub.status.busy": "2025-02-09T13:33:11.535190Z",
     "iopub.status.idle": "2025-02-09T13:33:11.541020Z",
     "shell.execute_reply": "2025-02-09T13:33:11.539889Z"
    },
    "papermill": {
     "duration": 0.01868,
     "end_time": "2025-02-09T13:33:11.542902",
     "exception": false,
     "start_time": "2025-02-09T13:33:11.524222",
     "status": "completed"
    },
    "tags": []
   },
   "outputs": [],
   "source": [
    "weights = init_params(28*28,1)\n",
    "bias =init_params(1)"
   ]
  },
  {
   "cell_type": "markdown",
   "id": "2f8614f6",
   "metadata": {
    "papermill": {
     "duration": 0.009604,
     "end_time": "2025-02-09T13:33:11.562599",
     "exception": false,
     "start_time": "2025-02-09T13:33:11.552995",
     "status": "completed"
    },
    "tags": []
   },
   "source": [
    "#STEP 2 : PREDICT FUNCTION"
   ]
  },
  {
   "cell_type": "code",
   "execution_count": 18,
   "id": "7e23b5d4",
   "metadata": {
    "execution": {
     "iopub.execute_input": "2025-02-09T13:33:11.583904Z",
     "iopub.status.busy": "2025-02-09T13:33:11.583445Z",
     "iopub.status.idle": "2025-02-09T13:33:11.588262Z",
     "shell.execute_reply": "2025-02-09T13:33:11.587184Z"
    },
    "papermill": {
     "duration": 0.017546,
     "end_time": "2025-02-09T13:33:11.590159",
     "exception": false,
     "start_time": "2025-02-09T13:33:11.572613",
     "status": "completed"
    },
    "tags": []
   },
   "outputs": [],
   "source": [
    "def linear1(xb):\n",
    "    preds = xb@weights + bias\n",
    "    return preds "
   ]
  },
  {
   "cell_type": "markdown",
   "id": "9243d0fb",
   "metadata": {
    "papermill": {
     "duration": 0.009943,
     "end_time": "2025-02-09T13:33:11.610843",
     "exception": false,
     "start_time": "2025-02-09T13:33:11.600900",
     "status": "completed"
    },
    "tags": []
   },
   "source": [
    "__STEP 3 : LOSS FUNCTION__"
   ]
  },
  {
   "cell_type": "code",
   "execution_count": 19,
   "id": "7b751a0e",
   "metadata": {
    "execution": {
     "iopub.execute_input": "2025-02-09T13:33:11.632456Z",
     "iopub.status.busy": "2025-02-09T13:33:11.632077Z",
     "iopub.status.idle": "2025-02-09T13:33:11.636899Z",
     "shell.execute_reply": "2025-02-09T13:33:11.635770Z"
    },
    "papermill": {
     "duration": 0.017607,
     "end_time": "2025-02-09T13:33:11.638729",
     "exception": false,
     "start_time": "2025-02-09T13:33:11.621122",
     "status": "completed"
    },
    "tags": []
   },
   "outputs": [],
   "source": [
    "def mnist_loss(preds, targets):\n",
    "    preds = preds.sigmoid()\n",
    "    return torch.where(targets==1.0, 1-preds, preds).mean()\n",
    "    "
   ]
  },
  {
   "cell_type": "markdown",
   "id": "1e773ab4",
   "metadata": {
    "papermill": {
     "duration": 0.009643,
     "end_time": "2025-02-09T13:33:11.659082",
     "exception": false,
     "start_time": "2025-02-09T13:33:11.649439",
     "status": "completed"
    },
    "tags": []
   },
   "source": [
    "__STEP 4 : CALCULATE GRADIENTS__"
   ]
  },
  {
   "cell_type": "code",
   "execution_count": 20,
   "id": "97dd0021",
   "metadata": {
    "execution": {
     "iopub.execute_input": "2025-02-09T13:33:11.681268Z",
     "iopub.status.busy": "2025-02-09T13:33:11.680863Z",
     "iopub.status.idle": "2025-02-09T13:33:11.685847Z",
     "shell.execute_reply": "2025-02-09T13:33:11.684666Z"
    },
    "papermill": {
     "duration": 0.017707,
     "end_time": "2025-02-09T13:33:11.687562",
     "exception": false,
     "start_time": "2025-02-09T13:33:11.669855",
     "status": "completed"
    },
    "tags": []
   },
   "outputs": [],
   "source": [
    "def calc_grad(xb, yb, model):\n",
    "    preds = model(xb)\n",
    "    loss= mnist_loss(preds, yb)\n",
    "    loss.backward()"
   ]
  },
  {
   "cell_type": "markdown",
   "id": "dd1467b7",
   "metadata": {
    "papermill": {
     "duration": 0.009727,
     "end_time": "2025-02-09T13:33:11.707633",
     "exception": false,
     "start_time": "2025-02-09T13:33:11.697906",
     "status": "completed"
    },
    "tags": []
   },
   "source": [
    "__STEP 5 : BATCH ACCURACY FUNCTION__"
   ]
  },
  {
   "cell_type": "code",
   "execution_count": 21,
   "id": "d34a7406",
   "metadata": {
    "execution": {
     "iopub.execute_input": "2025-02-09T13:33:11.729194Z",
     "iopub.status.busy": "2025-02-09T13:33:11.728789Z",
     "iopub.status.idle": "2025-02-09T13:33:11.733964Z",
     "shell.execute_reply": "2025-02-09T13:33:11.732842Z"
    },
    "papermill": {
     "duration": 0.017892,
     "end_time": "2025-02-09T13:33:11.735696",
     "exception": false,
     "start_time": "2025-02-09T13:33:11.717804",
     "status": "completed"
    },
    "tags": []
   },
   "outputs": [],
   "source": [
    "def batch_accuracy(xb, yb):\n",
    "    preds = xb.sigmoid()\n",
    "    corrects = (preds > 0.5).float() == yb\n",
    "    return corrects.float().mean()\n",
    "    "
   ]
  },
  {
   "cell_type": "markdown",
   "id": "95cbc7e4",
   "metadata": {
    "papermill": {
     "duration": 0.009908,
     "end_time": "2025-02-09T13:33:11.755884",
     "exception": false,
     "start_time": "2025-02-09T13:33:11.745976",
     "status": "completed"
    },
    "tags": []
   },
   "source": [
    "__STEP 6 : VALIDATION_ACCURACY__"
   ]
  },
  {
   "cell_type": "code",
   "execution_count": 22,
   "id": "38f7e2fa",
   "metadata": {
    "execution": {
     "iopub.execute_input": "2025-02-09T13:33:11.777765Z",
     "iopub.status.busy": "2025-02-09T13:33:11.777335Z",
     "iopub.status.idle": "2025-02-09T13:33:11.782345Z",
     "shell.execute_reply": "2025-02-09T13:33:11.781157Z"
    },
    "papermill": {
     "duration": 0.017934,
     "end_time": "2025-02-09T13:33:11.784097",
     "exception": false,
     "start_time": "2025-02-09T13:33:11.766163",
     "status": "completed"
    },
    "tags": []
   },
   "outputs": [],
   "source": [
    "def validation_accuracy(model):\n",
    "    accs = [batch_accuracy(model(xb),yb) for xb , yb in valid_dl]\n",
    "    return round(torch.stack(accs).mean().item(), 4)"
   ]
  },
  {
   "cell_type": "markdown",
   "id": "d613e04a",
   "metadata": {
    "papermill": {
     "duration": 0.009793,
     "end_time": "2025-02-09T13:33:11.804114",
     "exception": false,
     "start_time": "2025-02-09T13:33:11.794321",
     "status": "completed"
    },
    "tags": []
   },
   "source": [
    "__STEP 7 : TRAIN EPOCH__"
   ]
  },
  {
   "cell_type": "code",
   "execution_count": 23,
   "id": "084b9b83",
   "metadata": {
    "execution": {
     "iopub.execute_input": "2025-02-09T13:33:11.825912Z",
     "iopub.status.busy": "2025-02-09T13:33:11.825512Z",
     "iopub.status.idle": "2025-02-09T13:33:11.830409Z",
     "shell.execute_reply": "2025-02-09T13:33:11.829212Z"
    },
    "papermill": {
     "duration": 0.017967,
     "end_time": "2025-02-09T13:33:11.832353",
     "exception": false,
     "start_time": "2025-02-09T13:33:11.814386",
     "status": "completed"
    },
    "tags": []
   },
   "outputs": [],
   "source": [
    "def train_epoch(params , model, lr):\n",
    "    for xb , yb in dl:\n",
    "        calc_grad(xb, yb ,model)\n",
    "        for p in params:\n",
    "            p.data -= p.grad*lr\n",
    "            p.grad.zero_()\n",
    "            "
   ]
  },
  {
   "cell_type": "code",
   "execution_count": 24,
   "id": "5ead02aa",
   "metadata": {
    "execution": {
     "iopub.execute_input": "2025-02-09T13:33:11.854191Z",
     "iopub.status.busy": "2025-02-09T13:33:11.853791Z",
     "iopub.status.idle": "2025-02-09T13:33:12.016254Z",
     "shell.execute_reply": "2025-02-09T13:33:12.015160Z"
    },
    "papermill": {
     "duration": 0.175411,
     "end_time": "2025-02-09T13:33:12.018036",
     "exception": false,
     "start_time": "2025-02-09T13:33:11.842625",
     "status": "completed"
    },
    "tags": []
   },
   "outputs": [
    {
     "data": {
      "text/plain": [
       "0.7166"
      ]
     },
     "execution_count": 24,
     "metadata": {},
     "output_type": "execute_result"
    }
   ],
   "source": [
    "params = weights, bias\n",
    "lr = 1.0\n",
    "train_epoch(params, linear1, lr)\n",
    "validation_accuracy(linear1)"
   ]
  },
  {
   "cell_type": "code",
   "execution_count": 25,
   "id": "0697c1e8",
   "metadata": {
    "execution": {
     "iopub.execute_input": "2025-02-09T13:33:12.042406Z",
     "iopub.status.busy": "2025-02-09T13:33:12.042074Z",
     "iopub.status.idle": "2025-02-09T13:33:13.944677Z",
     "shell.execute_reply": "2025-02-09T13:33:13.943586Z"
    },
    "papermill": {
     "duration": 1.915349,
     "end_time": "2025-02-09T13:33:13.946397",
     "exception": false,
     "start_time": "2025-02-09T13:33:12.031048",
     "status": "completed"
    },
    "tags": []
   },
   "outputs": [
    {
     "name": "stdout",
     "output_type": "stream",
     "text": [
      "0.8639 0.9064 0.9246 0.9394 0.9442 0.9486 0.9528 0.9552 0.9572 0.9581 0.9585 0.9589 0.9594 0.9599 0.9604 0.9623 0.9637 0.9637 0.9637 0.9647 "
     ]
    }
   ],
   "source": [
    "for i in range(20):\n",
    "    train_epoch(params, linear1, lr)\n",
    "    print(validation_accuracy(linear1), end=' ')"
   ]
  },
  {
   "cell_type": "markdown",
   "id": "ae642fe8",
   "metadata": {
    "papermill": {
     "duration": 0.01013,
     "end_time": "2025-02-09T13:33:13.968144",
     "exception": false,
     "start_time": "2025-02-09T13:33:13.958014",
     "status": "completed"
    },
    "tags": []
   },
   "source": [
    "__STEP 8 : BASIC OPTIMIZATION__"
   ]
  },
  {
   "cell_type": "markdown",
   "id": "5db27330",
   "metadata": {
    "papermill": {
     "duration": 0.010027,
     "end_time": "2025-02-09T13:33:13.988584",
     "exception": false,
     "start_time": "2025-02-09T13:33:13.978557",
     "status": "completed"
    },
    "tags": []
   },
   "source": [
    "#pytorch creates a module to create a linear module  and parameters all at once \n",
    "#so we are gonna need that for our basic optimization"
   ]
  },
  {
   "cell_type": "code",
   "execution_count": 26,
   "id": "16d1b1e3",
   "metadata": {
    "execution": {
     "iopub.execute_input": "2025-02-09T13:33:14.010770Z",
     "iopub.status.busy": "2025-02-09T13:33:14.010350Z",
     "iopub.status.idle": "2025-02-09T13:33:14.017679Z",
     "shell.execute_reply": "2025-02-09T13:33:14.016573Z"
    },
    "papermill": {
     "duration": 0.02056,
     "end_time": "2025-02-09T13:33:14.019492",
     "exception": false,
     "start_time": "2025-02-09T13:33:13.998932",
     "status": "completed"
    },
    "tags": []
   },
   "outputs": [
    {
     "data": {
      "text/plain": [
       "(torch.Size([784]), torch.Size([1]))"
      ]
     },
     "execution_count": 26,
     "metadata": {},
     "output_type": "execute_result"
    }
   ],
   "source": [
    "model = nn.Linear(28*28, 1) #creating an object from module\n",
    "\n",
    "weight, bias= model.parameters()\n",
    "weights.shape, bias.shape"
   ]
  },
  {
   "cell_type": "code",
   "execution_count": 27,
   "id": "426b850a",
   "metadata": {
    "execution": {
     "iopub.execute_input": "2025-02-09T13:33:14.100413Z",
     "iopub.status.busy": "2025-02-09T13:33:14.100035Z",
     "iopub.status.idle": "2025-02-09T13:33:14.105395Z",
     "shell.execute_reply": "2025-02-09T13:33:14.104283Z"
    },
    "papermill": {
     "duration": 0.076888,
     "end_time": "2025-02-09T13:33:14.107180",
     "exception": false,
     "start_time": "2025-02-09T13:33:14.030292",
     "status": "completed"
    },
    "tags": []
   },
   "outputs": [],
   "source": [
    "class BasicOptim:\n",
    "    def __init__(self, params, lr):\n",
    "        self.params = list(params)\n",
    "        self.lr = lr \n",
    "\n",
    "    def step(self):\n",
    "        for p in self.params:\n",
    "            p.data -= p.grad * lr\n",
    "\n",
    "    def zero_grad(self):\n",
    "        for p in self.params:\n",
    "            p.grad.zero_()"
   ]
  },
  {
   "cell_type": "code",
   "execution_count": 28,
   "id": "60539a81",
   "metadata": {
    "execution": {
     "iopub.execute_input": "2025-02-09T13:33:14.131561Z",
     "iopub.status.busy": "2025-02-09T13:33:14.131201Z",
     "iopub.status.idle": "2025-02-09T13:33:14.135995Z",
     "shell.execute_reply": "2025-02-09T13:33:14.134846Z"
    },
    "papermill": {
     "duration": 0.019341,
     "end_time": "2025-02-09T13:33:14.137869",
     "exception": false,
     "start_time": "2025-02-09T13:33:14.118528",
     "status": "completed"
    },
    "tags": []
   },
   "outputs": [],
   "source": [
    "opt = BasicOptim(model.parameters(), lr=lr)"
   ]
  },
  {
   "cell_type": "code",
   "execution_count": 29,
   "id": "097f3e4c",
   "metadata": {
    "execution": {
     "iopub.execute_input": "2025-02-09T13:33:14.160546Z",
     "iopub.status.busy": "2025-02-09T13:33:14.160217Z",
     "iopub.status.idle": "2025-02-09T13:33:14.164834Z",
     "shell.execute_reply": "2025-02-09T13:33:14.163805Z"
    },
    "papermill": {
     "duration": 0.017967,
     "end_time": "2025-02-09T13:33:14.166529",
     "exception": false,
     "start_time": "2025-02-09T13:33:14.148562",
     "status": "completed"
    },
    "tags": []
   },
   "outputs": [],
   "source": [
    "def train_epoch(model):\n",
    "    for xb , yb in dl:\n",
    "        calc_grad(xb, yb ,model)\n",
    "        opt.step()\n",
    "        opt.zero_grad()"
   ]
  },
  {
   "cell_type": "code",
   "execution_count": 30,
   "id": "929ac560",
   "metadata": {
    "execution": {
     "iopub.execute_input": "2025-02-09T13:33:14.190776Z",
     "iopub.status.busy": "2025-02-09T13:33:14.190409Z",
     "iopub.status.idle": "2025-02-09T13:33:14.282210Z",
     "shell.execute_reply": "2025-02-09T13:33:14.280869Z"
    },
    "papermill": {
     "duration": 0.106326,
     "end_time": "2025-02-09T13:33:14.283935",
     "exception": false,
     "start_time": "2025-02-09T13:33:14.177609",
     "status": "completed"
    },
    "tags": []
   },
   "outputs": [
    {
     "data": {
      "text/plain": [
       "0.4932"
      ]
     },
     "execution_count": 30,
     "metadata": {},
     "output_type": "execute_result"
    }
   ],
   "source": [
    "train_epoch(model)\n",
    "validation_accuracy(model)"
   ]
  },
  {
   "cell_type": "markdown",
   "id": "bf77b3f0",
   "metadata": {
    "papermill": {
     "duration": 0.010404,
     "end_time": "2025-02-09T13:33:14.307858",
     "exception": false,
     "start_time": "2025-02-09T13:33:14.297454",
     "status": "completed"
    },
    "tags": []
   },
   "source": [
    "__STEP 8 : SGD FROM FASTAI__"
   ]
  },
  {
   "cell_type": "code",
   "execution_count": 31,
   "id": "5535ffbd",
   "metadata": {
    "execution": {
     "iopub.execute_input": "2025-02-09T13:33:14.330579Z",
     "iopub.status.busy": "2025-02-09T13:33:14.330249Z",
     "iopub.status.idle": "2025-02-09T13:33:14.335972Z",
     "shell.execute_reply": "2025-02-09T13:33:14.334956Z"
    },
    "papermill": {
     "duration": 0.019135,
     "end_time": "2025-02-09T13:33:14.337542",
     "exception": false,
     "start_time": "2025-02-09T13:33:14.318407",
     "status": "completed"
    },
    "tags": []
   },
   "outputs": [],
   "source": [
    "model = nn.Linear(28*28, 1) #creating an object from module\n",
    "\n",
    "weight, bias= model.parameters()\n",
    "weights.shape, bias.shape\n",
    "\n",
    "opt = SGD(model.parameters(), lr=lr)"
   ]
  },
  {
   "cell_type": "code",
   "execution_count": 32,
   "id": "ec264b11",
   "metadata": {
    "execution": {
     "iopub.execute_input": "2025-02-09T13:33:14.360660Z",
     "iopub.status.busy": "2025-02-09T13:33:14.360188Z",
     "iopub.status.idle": "2025-02-09T13:33:14.365529Z",
     "shell.execute_reply": "2025-02-09T13:33:14.364644Z"
    },
    "papermill": {
     "duration": 0.018951,
     "end_time": "2025-02-09T13:33:14.367336",
     "exception": false,
     "start_time": "2025-02-09T13:33:14.348385",
     "status": "completed"
    },
    "tags": []
   },
   "outputs": [],
   "source": [
    "def train_epoch(model):\n",
    "    for xb , yb in dl:\n",
    "        calc_grad(xb, yb ,model)\n",
    "        opt.step()\n",
    "        opt.zero_grad()"
   ]
  },
  {
   "cell_type": "code",
   "execution_count": 33,
   "id": "5d1beb75",
   "metadata": {
    "execution": {
     "iopub.execute_input": "2025-02-09T13:33:14.390444Z",
     "iopub.status.busy": "2025-02-09T13:33:14.390106Z",
     "iopub.status.idle": "2025-02-09T13:33:14.480309Z",
     "shell.execute_reply": "2025-02-09T13:33:14.479025Z"
    },
    "papermill": {
     "duration": 0.104094,
     "end_time": "2025-02-09T13:33:14.482251",
     "exception": false,
     "start_time": "2025-02-09T13:33:14.378157",
     "status": "completed"
    },
    "tags": []
   },
   "outputs": [
    {
     "data": {
      "text/plain": [
       "0.4932"
      ]
     },
     "execution_count": 33,
     "metadata": {},
     "output_type": "execute_result"
    }
   ],
   "source": [
    "train_epoch(model)\n",
    "validation_accuracy(model)"
   ]
  },
  {
   "cell_type": "markdown",
   "id": "426d7b98",
   "metadata": {
    "papermill": {
     "duration": 0.010755,
     "end_time": "2025-02-09T13:33:14.504317",
     "exception": false,
     "start_time": "2025-02-09T13:33:14.493562",
     "status": "completed"
    },
    "tags": []
   },
   "source": [
    "__STEP 9: TRAIN A MODEL__\n"
   ]
  },
  {
   "cell_type": "code",
   "execution_count": 34,
   "id": "c6fd9edb",
   "metadata": {
    "execution": {
     "iopub.execute_input": "2025-02-09T13:33:14.527554Z",
     "iopub.status.busy": "2025-02-09T13:33:14.527176Z",
     "iopub.status.idle": "2025-02-09T13:33:14.532229Z",
     "shell.execute_reply": "2025-02-09T13:33:14.530938Z"
    },
    "papermill": {
     "duration": 0.018739,
     "end_time": "2025-02-09T13:33:14.533967",
     "exception": false,
     "start_time": "2025-02-09T13:33:14.515228",
     "status": "completed"
    },
    "tags": []
   },
   "outputs": [],
   "source": [
    "def train_model(model, epoch):\n",
    "    for i in range(epoch):\n",
    "        train_epoch(model)\n",
    "        print(validation_accuracy(model), end= ' ')"
   ]
  },
  {
   "cell_type": "code",
   "execution_count": 35,
   "id": "f3f06b49",
   "metadata": {
    "execution": {
     "iopub.execute_input": "2025-02-09T13:33:14.556934Z",
     "iopub.status.busy": "2025-02-09T13:33:14.556462Z",
     "iopub.status.idle": "2025-02-09T13:33:16.237585Z",
     "shell.execute_reply": "2025-02-09T13:33:16.236388Z"
    },
    "papermill": {
     "duration": 1.6946,
     "end_time": "2025-02-09T13:33:16.239575",
     "exception": false,
     "start_time": "2025-02-09T13:33:14.544975",
     "status": "completed"
    },
    "tags": []
   },
   "outputs": [
    {
     "name": "stdout",
     "output_type": "stream",
     "text": [
      "0.7612 0.8603 0.917 0.9345 0.9492 0.956 0.9628 0.9658 0.9667 0.9697 0.9721 0.9736 0.975 0.976 0.977 0.9775 0.978 0.978 0.9785 0.9789 "
     ]
    }
   ],
   "source": [
    "train_model(model, 20)"
   ]
  },
  {
   "cell_type": "markdown",
   "id": "c07e68a8",
   "metadata": {
    "papermill": {
     "duration": 0.012837,
     "end_time": "2025-02-09T13:33:16.264488",
     "exception": false,
     "start_time": "2025-02-09T13:33:16.251651",
     "status": "completed"
    },
    "tags": []
   },
   "source": [
    "#fastai provides a more decent way of doing this. "
   ]
  },
  {
   "cell_type": "code",
   "execution_count": 36,
   "id": "d5cb21b4",
   "metadata": {
    "execution": {
     "iopub.execute_input": "2025-02-09T13:33:16.288152Z",
     "iopub.status.busy": "2025-02-09T13:33:16.287695Z",
     "iopub.status.idle": "2025-02-09T13:33:16.292375Z",
     "shell.execute_reply": "2025-02-09T13:33:16.291256Z"
    },
    "papermill": {
     "duration": 0.01872,
     "end_time": "2025-02-09T13:33:16.294289",
     "exception": false,
     "start_time": "2025-02-09T13:33:16.275569",
     "status": "completed"
    },
    "tags": []
   },
   "outputs": [],
   "source": [
    "dls = DataLoaders(dl , valid_dl)"
   ]
  },
  {
   "cell_type": "code",
   "execution_count": 37,
   "id": "79646a1e",
   "metadata": {
    "execution": {
     "iopub.execute_input": "2025-02-09T13:33:16.319171Z",
     "iopub.status.busy": "2025-02-09T13:33:16.318762Z",
     "iopub.status.idle": "2025-02-09T13:33:16.323998Z",
     "shell.execute_reply": "2025-02-09T13:33:16.322864Z"
    },
    "papermill": {
     "duration": 0.019896,
     "end_time": "2025-02-09T13:33:16.325813",
     "exception": false,
     "start_time": "2025-02-09T13:33:16.305917",
     "status": "completed"
    },
    "tags": []
   },
   "outputs": [],
   "source": [
    "model = nn.Linear(28*28, 1)"
   ]
  },
  {
   "cell_type": "code",
   "execution_count": 38,
   "id": "f12015a2",
   "metadata": {
    "execution": {
     "iopub.execute_input": "2025-02-09T13:33:16.349839Z",
     "iopub.status.busy": "2025-02-09T13:33:16.349411Z",
     "iopub.status.idle": "2025-02-09T13:33:16.355241Z",
     "shell.execute_reply": "2025-02-09T13:33:16.354214Z"
    },
    "papermill": {
     "duration": 0.019499,
     "end_time": "2025-02-09T13:33:16.356981",
     "exception": false,
     "start_time": "2025-02-09T13:33:16.337482",
     "status": "completed"
    },
    "tags": []
   },
   "outputs": [],
   "source": [
    "learn = Learner( dls, model, loss_func= mnist_loss, opt_func = SGD, metrics = batch_accuracy)"
   ]
  },
  {
   "cell_type": "code",
   "execution_count": 39,
   "id": "8d840215",
   "metadata": {
    "execution": {
     "iopub.execute_input": "2025-02-09T13:33:16.380474Z",
     "iopub.status.busy": "2025-02-09T13:33:16.380110Z",
     "iopub.status.idle": "2025-02-09T13:33:18.227494Z",
     "shell.execute_reply": "2025-02-09T13:33:18.226356Z"
    },
    "papermill": {
     "duration": 1.861597,
     "end_time": "2025-02-09T13:33:18.229854",
     "exception": false,
     "start_time": "2025-02-09T13:33:16.368257",
     "status": "completed"
    },
    "tags": []
   },
   "outputs": [
    {
     "data": {
      "text/html": [
       "\n",
       "<style>\n",
       "    /* Turns off some styling */\n",
       "    progress {\n",
       "        /* gets rid of default border in Firefox and Opera. */\n",
       "        border: none;\n",
       "        /* Needs to be in here for Safari polyfill so background images work as expected. */\n",
       "        background-size: auto;\n",
       "    }\n",
       "    progress:not([value]), progress:not([value])::-webkit-progress-bar {\n",
       "        background: repeating-linear-gradient(45deg, #7e7e7e, #7e7e7e 10px, #5c5c5c 10px, #5c5c5c 20px);\n",
       "    }\n",
       "    .progress-bar-interrupted, .progress-bar-interrupted::-webkit-progress-bar {\n",
       "        background: #F44336;\n",
       "    }\n",
       "</style>\n"
      ],
      "text/plain": [
       "<IPython.core.display.HTML object>"
      ]
     },
     "metadata": {},
     "output_type": "display_data"
    },
    {
     "data": {
      "text/html": [
       "<table border=\"1\" class=\"dataframe\">\n",
       "  <thead>\n",
       "    <tr style=\"text-align: left;\">\n",
       "      <th>epoch</th>\n",
       "      <th>train_loss</th>\n",
       "      <th>valid_loss</th>\n",
       "      <th>batch_accuracy</th>\n",
       "      <th>time</th>\n",
       "    </tr>\n",
       "  </thead>\n",
       "  <tbody>\n",
       "    <tr>\n",
       "      <td>0</td>\n",
       "      <td>0.636951</td>\n",
       "      <td>0.503248</td>\n",
       "      <td>0.495584</td>\n",
       "      <td>00:00</td>\n",
       "    </tr>\n",
       "    <tr>\n",
       "      <td>1</td>\n",
       "      <td>0.453753</td>\n",
       "      <td>0.233757</td>\n",
       "      <td>0.788518</td>\n",
       "      <td>00:00</td>\n",
       "    </tr>\n",
       "    <tr>\n",
       "      <td>2</td>\n",
       "      <td>0.169376</td>\n",
       "      <td>0.164225</td>\n",
       "      <td>0.852306</td>\n",
       "      <td>00:00</td>\n",
       "    </tr>\n",
       "    <tr>\n",
       "      <td>3</td>\n",
       "      <td>0.075783</td>\n",
       "      <td>0.101148</td>\n",
       "      <td>0.915604</td>\n",
       "      <td>00:00</td>\n",
       "    </tr>\n",
       "    <tr>\n",
       "      <td>4</td>\n",
       "      <td>0.041184</td>\n",
       "      <td>0.075196</td>\n",
       "      <td>0.934249</td>\n",
       "      <td>00:00</td>\n",
       "    </tr>\n",
       "    <tr>\n",
       "      <td>5</td>\n",
       "      <td>0.027598</td>\n",
       "      <td>0.060749</td>\n",
       "      <td>0.948970</td>\n",
       "      <td>00:00</td>\n",
       "    </tr>\n",
       "    <tr>\n",
       "      <td>6</td>\n",
       "      <td>0.021970</td>\n",
       "      <td>0.051626</td>\n",
       "      <td>0.957311</td>\n",
       "      <td>00:00</td>\n",
       "    </tr>\n",
       "    <tr>\n",
       "      <td>7</td>\n",
       "      <td>0.019432</td>\n",
       "      <td>0.045524</td>\n",
       "      <td>0.962709</td>\n",
       "      <td>00:00</td>\n",
       "    </tr>\n",
       "    <tr>\n",
       "      <td>8</td>\n",
       "      <td>0.018119</td>\n",
       "      <td>0.041226</td>\n",
       "      <td>0.965653</td>\n",
       "      <td>00:00</td>\n",
       "    </tr>\n",
       "    <tr>\n",
       "      <td>9</td>\n",
       "      <td>0.017314</td>\n",
       "      <td>0.038054</td>\n",
       "      <td>0.968106</td>\n",
       "      <td>00:00</td>\n",
       "    </tr>\n",
       "  </tbody>\n",
       "</table>"
      ],
      "text/plain": [
       "<IPython.core.display.HTML object>"
      ]
     },
     "metadata": {},
     "output_type": "display_data"
    }
   ],
   "source": [
    "learn.fit(10, lr=lr)"
   ]
  },
  {
   "cell_type": "markdown",
   "id": "c51e9006",
   "metadata": {
    "papermill": {
     "duration": 0.011088,
     "end_time": "2025-02-09T13:33:18.254266",
     "exception": false,
     "start_time": "2025-02-09T13:33:18.243178",
     "status": "completed"
    },
    "tags": []
   },
   "source": [
    "__STEP 9 : A SIMPLE NEURAL NETWORK FUNCTION__"
   ]
  },
  {
   "cell_type": "code",
   "execution_count": 40,
   "id": "82cf046a",
   "metadata": {
    "execution": {
     "iopub.execute_input": "2025-02-09T13:33:18.278370Z",
     "iopub.status.busy": "2025-02-09T13:33:18.277989Z",
     "iopub.status.idle": "2025-02-09T13:33:18.284062Z",
     "shell.execute_reply": "2025-02-09T13:33:18.282914Z"
    },
    "papermill": {
     "duration": 0.02055,
     "end_time": "2025-02-09T13:33:18.286111",
     "exception": false,
     "start_time": "2025-02-09T13:33:18.265561",
     "status": "completed"
    },
    "tags": []
   },
   "outputs": [],
   "source": [
    "simple_net = nn.Sequential(\n",
    "    nn.Linear(28*28, 30),\n",
    "    nn.ReLU(),\n",
    "    nn.Linear(30, 1)\n",
    ")"
   ]
  },
  {
   "cell_type": "code",
   "execution_count": 41,
   "id": "d2be9ae5",
   "metadata": {
    "execution": {
     "iopub.execute_input": "2025-02-09T13:33:18.311496Z",
     "iopub.status.busy": "2025-02-09T13:33:18.311164Z",
     "iopub.status.idle": "2025-02-09T13:33:18.316014Z",
     "shell.execute_reply": "2025-02-09T13:33:18.314855Z"
    },
    "papermill": {
     "duration": 0.019248,
     "end_time": "2025-02-09T13:33:18.317821",
     "exception": false,
     "start_time": "2025-02-09T13:33:18.298573",
     "status": "completed"
    },
    "tags": []
   },
   "outputs": [],
   "source": [
    "learn = Learner(dls, simple_net, loss_func= mnist_loss, opt_func=SGD, metrics = batch_accuracy)"
   ]
  },
  {
   "cell_type": "code",
   "execution_count": 42,
   "id": "16581c84",
   "metadata": {
    "execution": {
     "iopub.execute_input": "2025-02-09T13:33:18.342247Z",
     "iopub.status.busy": "2025-02-09T13:33:18.341923Z",
     "iopub.status.idle": "2025-02-09T13:33:27.311005Z",
     "shell.execute_reply": "2025-02-09T13:33:27.309804Z"
    },
    "papermill": {
     "duration": 8.983198,
     "end_time": "2025-02-09T13:33:27.312818",
     "exception": false,
     "start_time": "2025-02-09T13:33:18.329620",
     "status": "completed"
    },
    "tags": []
   },
   "outputs": [
    {
     "data": {
      "text/html": [
       "\n",
       "<style>\n",
       "    /* Turns off some styling */\n",
       "    progress {\n",
       "        /* gets rid of default border in Firefox and Opera. */\n",
       "        border: none;\n",
       "        /* Needs to be in here for Safari polyfill so background images work as expected. */\n",
       "        background-size: auto;\n",
       "    }\n",
       "    progress:not([value]), progress:not([value])::-webkit-progress-bar {\n",
       "        background: repeating-linear-gradient(45deg, #7e7e7e, #7e7e7e 10px, #5c5c5c 10px, #5c5c5c 20px);\n",
       "    }\n",
       "    .progress-bar-interrupted, .progress-bar-interrupted::-webkit-progress-bar {\n",
       "        background: #F44336;\n",
       "    }\n",
       "</style>\n"
      ],
      "text/plain": [
       "<IPython.core.display.HTML object>"
      ]
     },
     "metadata": {},
     "output_type": "display_data"
    },
    {
     "data": {
      "text/html": [
       "<table border=\"1\" class=\"dataframe\">\n",
       "  <thead>\n",
       "    <tr style=\"text-align: left;\">\n",
       "      <th>epoch</th>\n",
       "      <th>train_loss</th>\n",
       "      <th>valid_loss</th>\n",
       "      <th>batch_accuracy</th>\n",
       "      <th>time</th>\n",
       "    </tr>\n",
       "  </thead>\n",
       "  <tbody>\n",
       "    <tr>\n",
       "      <td>0</td>\n",
       "      <td>0.310558</td>\n",
       "      <td>0.410624</td>\n",
       "      <td>0.506379</td>\n",
       "      <td>00:00</td>\n",
       "    </tr>\n",
       "    <tr>\n",
       "      <td>1</td>\n",
       "      <td>0.144614</td>\n",
       "      <td>0.227915</td>\n",
       "      <td>0.808636</td>\n",
       "      <td>00:00</td>\n",
       "    </tr>\n",
       "    <tr>\n",
       "      <td>2</td>\n",
       "      <td>0.080026</td>\n",
       "      <td>0.114803</td>\n",
       "      <td>0.915113</td>\n",
       "      <td>00:00</td>\n",
       "    </tr>\n",
       "    <tr>\n",
       "      <td>3</td>\n",
       "      <td>0.052637</td>\n",
       "      <td>0.077529</td>\n",
       "      <td>0.942591</td>\n",
       "      <td>00:00</td>\n",
       "    </tr>\n",
       "    <tr>\n",
       "      <td>4</td>\n",
       "      <td>0.039957</td>\n",
       "      <td>0.060574</td>\n",
       "      <td>0.956330</td>\n",
       "      <td>00:00</td>\n",
       "    </tr>\n",
       "    <tr>\n",
       "      <td>5</td>\n",
       "      <td>0.033486</td>\n",
       "      <td>0.051077</td>\n",
       "      <td>0.964181</td>\n",
       "      <td>00:00</td>\n",
       "    </tr>\n",
       "    <tr>\n",
       "      <td>6</td>\n",
       "      <td>0.029774</td>\n",
       "      <td>0.045096</td>\n",
       "      <td>0.967125</td>\n",
       "      <td>00:00</td>\n",
       "    </tr>\n",
       "    <tr>\n",
       "      <td>7</td>\n",
       "      <td>0.027365</td>\n",
       "      <td>0.041007</td>\n",
       "      <td>0.969087</td>\n",
       "      <td>00:00</td>\n",
       "    </tr>\n",
       "    <tr>\n",
       "      <td>8</td>\n",
       "      <td>0.025633</td>\n",
       "      <td>0.038035</td>\n",
       "      <td>0.968106</td>\n",
       "      <td>00:00</td>\n",
       "    </tr>\n",
       "    <tr>\n",
       "      <td>9</td>\n",
       "      <td>0.024294</td>\n",
       "      <td>0.035767</td>\n",
       "      <td>0.970559</td>\n",
       "      <td>00:00</td>\n",
       "    </tr>\n",
       "    <tr>\n",
       "      <td>10</td>\n",
       "      <td>0.023209</td>\n",
       "      <td>0.033973</td>\n",
       "      <td>0.972031</td>\n",
       "      <td>00:00</td>\n",
       "    </tr>\n",
       "    <tr>\n",
       "      <td>11</td>\n",
       "      <td>0.022303</td>\n",
       "      <td>0.032506</td>\n",
       "      <td>0.972522</td>\n",
       "      <td>00:00</td>\n",
       "    </tr>\n",
       "    <tr>\n",
       "      <td>12</td>\n",
       "      <td>0.021530</td>\n",
       "      <td>0.031276</td>\n",
       "      <td>0.973013</td>\n",
       "      <td>00:00</td>\n",
       "    </tr>\n",
       "    <tr>\n",
       "      <td>13</td>\n",
       "      <td>0.020862</td>\n",
       "      <td>0.030220</td>\n",
       "      <td>0.973503</td>\n",
       "      <td>00:00</td>\n",
       "    </tr>\n",
       "    <tr>\n",
       "      <td>14</td>\n",
       "      <td>0.020275</td>\n",
       "      <td>0.029300</td>\n",
       "      <td>0.974485</td>\n",
       "      <td>00:00</td>\n",
       "    </tr>\n",
       "    <tr>\n",
       "      <td>15</td>\n",
       "      <td>0.019755</td>\n",
       "      <td>0.028488</td>\n",
       "      <td>0.975466</td>\n",
       "      <td>00:00</td>\n",
       "    </tr>\n",
       "    <tr>\n",
       "      <td>16</td>\n",
       "      <td>0.019288</td>\n",
       "      <td>0.027764</td>\n",
       "      <td>0.976448</td>\n",
       "      <td>00:00</td>\n",
       "    </tr>\n",
       "    <tr>\n",
       "      <td>17</td>\n",
       "      <td>0.018868</td>\n",
       "      <td>0.027113</td>\n",
       "      <td>0.976448</td>\n",
       "      <td>00:00</td>\n",
       "    </tr>\n",
       "    <tr>\n",
       "      <td>18</td>\n",
       "      <td>0.018486</td>\n",
       "      <td>0.026526</td>\n",
       "      <td>0.976938</td>\n",
       "      <td>00:00</td>\n",
       "    </tr>\n",
       "    <tr>\n",
       "      <td>19</td>\n",
       "      <td>0.018136</td>\n",
       "      <td>0.025994</td>\n",
       "      <td>0.978410</td>\n",
       "      <td>00:00</td>\n",
       "    </tr>\n",
       "    <tr>\n",
       "      <td>20</td>\n",
       "      <td>0.017814</td>\n",
       "      <td>0.025508</td>\n",
       "      <td>0.979392</td>\n",
       "      <td>00:00</td>\n",
       "    </tr>\n",
       "    <tr>\n",
       "      <td>21</td>\n",
       "      <td>0.017515</td>\n",
       "      <td>0.025064</td>\n",
       "      <td>0.979392</td>\n",
       "      <td>00:00</td>\n",
       "    </tr>\n",
       "    <tr>\n",
       "      <td>22</td>\n",
       "      <td>0.017237</td>\n",
       "      <td>0.024656</td>\n",
       "      <td>0.979882</td>\n",
       "      <td>00:00</td>\n",
       "    </tr>\n",
       "    <tr>\n",
       "      <td>23</td>\n",
       "      <td>0.016978</td>\n",
       "      <td>0.024280</td>\n",
       "      <td>0.980373</td>\n",
       "      <td>00:00</td>\n",
       "    </tr>\n",
       "    <tr>\n",
       "      <td>24</td>\n",
       "      <td>0.016734</td>\n",
       "      <td>0.023933</td>\n",
       "      <td>0.980864</td>\n",
       "      <td>00:00</td>\n",
       "    </tr>\n",
       "    <tr>\n",
       "      <td>25</td>\n",
       "      <td>0.016505</td>\n",
       "      <td>0.023611</td>\n",
       "      <td>0.980864</td>\n",
       "      <td>00:00</td>\n",
       "    </tr>\n",
       "    <tr>\n",
       "      <td>26</td>\n",
       "      <td>0.016288</td>\n",
       "      <td>0.023312</td>\n",
       "      <td>0.980864</td>\n",
       "      <td>00:00</td>\n",
       "    </tr>\n",
       "    <tr>\n",
       "      <td>27</td>\n",
       "      <td>0.016084</td>\n",
       "      <td>0.023035</td>\n",
       "      <td>0.981354</td>\n",
       "      <td>00:00</td>\n",
       "    </tr>\n",
       "    <tr>\n",
       "      <td>28</td>\n",
       "      <td>0.015889</td>\n",
       "      <td>0.022776</td>\n",
       "      <td>0.980864</td>\n",
       "      <td>00:00</td>\n",
       "    </tr>\n",
       "    <tr>\n",
       "      <td>29</td>\n",
       "      <td>0.015705</td>\n",
       "      <td>0.022535</td>\n",
       "      <td>0.981845</td>\n",
       "      <td>00:00</td>\n",
       "    </tr>\n",
       "    <tr>\n",
       "      <td>30</td>\n",
       "      <td>0.015529</td>\n",
       "      <td>0.022309</td>\n",
       "      <td>0.981845</td>\n",
       "      <td>00:00</td>\n",
       "    </tr>\n",
       "    <tr>\n",
       "      <td>31</td>\n",
       "      <td>0.015361</td>\n",
       "      <td>0.022097</td>\n",
       "      <td>0.982336</td>\n",
       "      <td>00:00</td>\n",
       "    </tr>\n",
       "    <tr>\n",
       "      <td>32</td>\n",
       "      <td>0.015200</td>\n",
       "      <td>0.021899</td>\n",
       "      <td>0.982336</td>\n",
       "      <td>00:00</td>\n",
       "    </tr>\n",
       "    <tr>\n",
       "      <td>33</td>\n",
       "      <td>0.015046</td>\n",
       "      <td>0.021713</td>\n",
       "      <td>0.982826</td>\n",
       "      <td>00:00</td>\n",
       "    </tr>\n",
       "    <tr>\n",
       "      <td>34</td>\n",
       "      <td>0.014899</td>\n",
       "      <td>0.021538</td>\n",
       "      <td>0.982826</td>\n",
       "      <td>00:00</td>\n",
       "    </tr>\n",
       "    <tr>\n",
       "      <td>35</td>\n",
       "      <td>0.014758</td>\n",
       "      <td>0.021372</td>\n",
       "      <td>0.982826</td>\n",
       "      <td>00:00</td>\n",
       "    </tr>\n",
       "    <tr>\n",
       "      <td>36</td>\n",
       "      <td>0.014622</td>\n",
       "      <td>0.021216</td>\n",
       "      <td>0.982336</td>\n",
       "      <td>00:00</td>\n",
       "    </tr>\n",
       "    <tr>\n",
       "      <td>37</td>\n",
       "      <td>0.014491</td>\n",
       "      <td>0.021069</td>\n",
       "      <td>0.982336</td>\n",
       "      <td>00:00</td>\n",
       "    </tr>\n",
       "    <tr>\n",
       "      <td>38</td>\n",
       "      <td>0.014365</td>\n",
       "      <td>0.020929</td>\n",
       "      <td>0.982826</td>\n",
       "      <td>00:00</td>\n",
       "    </tr>\n",
       "    <tr>\n",
       "      <td>39</td>\n",
       "      <td>0.014243</td>\n",
       "      <td>0.020796</td>\n",
       "      <td>0.982826</td>\n",
       "      <td>00:00</td>\n",
       "    </tr>\n",
       "  </tbody>\n",
       "</table>"
      ],
      "text/plain": [
       "<IPython.core.display.HTML object>"
      ]
     },
     "metadata": {},
     "output_type": "display_data"
    }
   ],
   "source": [
    "learn.fit(40, 0.1)"
   ]
  }
 ],
 "metadata": {
  "kaggle": {
   "accelerator": "none",
   "dataSources": [],
   "dockerImageVersionId": 30886,
   "isGpuEnabled": false,
   "isInternetEnabled": true,
   "language": "python",
   "sourceType": "notebook"
  },
  "kernelspec": {
   "display_name": "Python 3",
   "language": "python",
   "name": "python3"
  },
  "language_info": {
   "codemirror_mode": {
    "name": "ipython",
    "version": 3
   },
   "file_extension": ".py",
   "mimetype": "text/x-python",
   "name": "python",
   "nbconvert_exporter": "python",
   "pygments_lexer": "ipython3",
   "version": "3.10.12"
  },
  "papermill": {
   "default_parameters": {},
   "duration": 48.634085,
   "end_time": "2025-02-09T13:33:29.967066",
   "environment_variables": {},
   "exception": null,
   "input_path": "__notebook__.ipynb",
   "output_path": "__notebook__.ipynb",
   "parameters": {},
   "start_time": "2025-02-09T13:32:41.332981",
   "version": "2.6.0"
  }
 },
 "nbformat": 4,
 "nbformat_minor": 5
}
