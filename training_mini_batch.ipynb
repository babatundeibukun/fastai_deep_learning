{
  "nbformat": 4,
  "nbformat_minor": 0,
  "metadata": {
    "colab": {
      "provenance": [],
      "authorship_tag": "ABX9TyNBYI4Cf0MjEt5zOZJDB3no",
      "include_colab_link": true
    },
    "kernelspec": {
      "name": "python3",
      "display_name": "Python 3"
    },
    "language_info": {
      "name": "python"
    }
  },
  "cells": [
    {
      "cell_type": "markdown",
      "metadata": {
        "id": "view-in-github",
        "colab_type": "text"
      },
      "source": [
        "<a href=\"https://colab.research.google.com/github/babatundeibukun/fastai_deep_learning/blob/main/training_mini_batch.ipynb\" target=\"_parent\"><img src=\"https://colab.research.google.com/assets/colab-badge.svg\" alt=\"Open In Colab\"/></a>"
      ]
    },
    {
      "cell_type": "code",
      "execution_count": 3,
      "metadata": {
        "id": "3U4nnH_x_xCZ"
      },
      "outputs": [],
      "source": [
        "#i need that data that contaons just 3's and 7's\n",
        "#that is my first step\n",
        "#importing all i need to make my life easy\n",
        "\n",
        "\n",
        "#hide\n",
        "from fastai.vision.all import *\n",
        "#from fastbook import *\n",
        "\n",
        "matplotlib.rc('image', cmap='Greys')"
      ]
    },
    {
      "cell_type": "code",
      "source": [
        "path = untar_data(URLs.MNIST_SAMPLE)\n"
      ],
      "metadata": {
        "id": "0MSVB0YuA0vB"
      },
      "execution_count": 82,
      "outputs": []
    },
    {
      "cell_type": "code",
      "source": [
        "#We can see what's in this directory by using ls, a method added by fastai\n",
        "path.ls()"
      ],
      "metadata": {
        "colab": {
          "base_uri": "https://localhost:8080/"
        },
        "id": "e7GhTKItBIc9",
        "outputId": "18d6dddb-dc60-4d01-f3ec-898d4a8dca3e"
      },
      "execution_count": 83,
      "outputs": [
        {
          "output_type": "execute_result",
          "data": {
            "text/plain": [
              "(#3) [Path('/root/.fastai/data/mnist_sample/valid'),Path('/root/.fastai/data/mnist_sample/labels.csv'),Path('/root/.fastai/data/mnist_sample/train')]"
            ]
          },
          "metadata": {},
          "execution_count": 83
        }
      ]
    },
    {
      "cell_type": "code",
      "source": [
        "(path/'train').ls()\n"
      ],
      "metadata": {
        "colab": {
          "base_uri": "https://localhost:8080/"
        },
        "id": "QNXV7Vb-BLU-",
        "outputId": "f23d8fa5-e15d-4777-abef-45f36afd13fe"
      },
      "execution_count": 84,
      "outputs": [
        {
          "output_type": "execute_result",
          "data": {
            "text/plain": [
              "(#2) [Path('/root/.fastai/data/mnist_sample/train/7'),Path('/root/.fastai/data/mnist_sample/train/3')]"
            ]
          },
          "metadata": {},
          "execution_count": 84
        }
      ]
    },
    {
      "cell_type": "code",
      "source": [
        "threes = (path/'train'/'3').ls().sorted()\n",
        "sevens = (path/'train'/'7').ls().sorted()\n",
        "threes"
      ],
      "metadata": {
        "colab": {
          "base_uri": "https://localhost:8080/"
        },
        "id": "Nbvyy9moBWa8",
        "outputId": "921f8e5a-9c21-48d4-e5e6-a64946a2cde9"
      },
      "execution_count": 85,
      "outputs": [
        {
          "output_type": "execute_result",
          "data": {
            "text/plain": [
              "(#6131) [Path('/root/.fastai/data/mnist_sample/train/3/10.png'),Path('/root/.fastai/data/mnist_sample/train/3/10000.png'),Path('/root/.fastai/data/mnist_sample/train/3/10011.png'),Path('/root/.fastai/data/mnist_sample/train/3/10031.png'),Path('/root/.fastai/data/mnist_sample/train/3/10034.png'),Path('/root/.fastai/data/mnist_sample/train/3/10042.png'),Path('/root/.fastai/data/mnist_sample/train/3/10052.png'),Path('/root/.fastai/data/mnist_sample/train/3/1007.png'),Path('/root/.fastai/data/mnist_sample/train/3/10074.png'),Path('/root/.fastai/data/mnist_sample/train/3/10091.png'),Path('/root/.fastai/data/mnist_sample/train/3/10093.png'),Path('/root/.fastai/data/mnist_sample/train/3/10097.png'),Path('/root/.fastai/data/mnist_sample/train/3/10099.png'),Path('/root/.fastai/data/mnist_sample/train/3/10116.png'),Path('/root/.fastai/data/mnist_sample/train/3/10125.png'),Path('/root/.fastai/data/mnist_sample/train/3/10137.png'),Path('/root/.fastai/data/mnist_sample/train/3/10141.png'),Path('/root/.fastai/data/mnist_sample/train/3/10144.png'),Path('/root/.fastai/data/mnist_sample/train/3/10155.png'),Path('/root/.fastai/data/mnist_sample/train/3/10161.png')...]"
            ]
          },
          "metadata": {},
          "execution_count": 85
        }
      ]
    },
    {
      "cell_type": "code",
      "source": [
        "seven_tensors = [tensor(Image.open(o)) for o in sevens]\n",
        "three_tensors = [tensor(Image.open(o)) for o in threes]\n",
        "len(three_tensors),len(seven_tensors)"
      ],
      "metadata": {
        "colab": {
          "base_uri": "https://localhost:8080/"
        },
        "id": "iBqkCqi9BZ87",
        "outputId": "62188a0f-45eb-42dc-b816-fc548c6170aa"
      },
      "execution_count": 86,
      "outputs": [
        {
          "output_type": "execute_result",
          "data": {
            "text/plain": [
              "(6131, 6265)"
            ]
          },
          "metadata": {},
          "execution_count": 86
        }
      ]
    },
    {
      "cell_type": "markdown",
      "source": [
        "#My MUSINGS"
      ],
      "metadata": {
        "id": "JjlIo77GCrhO"
      }
    },
    {
      "cell_type": "code",
      "source": [
        "#I need the validation dataset but we will talk about it later\n",
        "#this problem won't exist for real if i had a datset but now , i don't ,\n",
        "#there is no point bitching around , I have to solve my problem.\n",
        "\n",
        "\n",
        "#i am interested in the current shape of my seven_tensors , i tried it but\n",
        "#realized that  list dont have shapes , so what do i do?\n",
        "#convert the list into into rank3 tensor\n"
      ],
      "metadata": {
        "id": "G9F_N2lLBtiB"
      },
      "execution_count": 87,
      "outputs": []
    },
    {
      "cell_type": "code",
      "source": [
        "stacked_seven = torch.stack(seven_tensors).float()/255\n",
        "stacked_seven.shape"
      ],
      "metadata": {
        "colab": {
          "base_uri": "https://localhost:8080/"
        },
        "id": "-X3f6TJBCo_A",
        "outputId": "03899122-2812-4048-c2f3-28856ea943d4"
      },
      "execution_count": 88,
      "outputs": [
        {
          "output_type": "execute_result",
          "data": {
            "text/plain": [
              "torch.Size([6265, 28, 28])"
            ]
          },
          "metadata": {},
          "execution_count": 88
        }
      ]
    },
    {
      "cell_type": "code",
      "source": [
        "stacked_three = torch.stack(three_tensors).float()/255\n",
        "stacked_three.shape"
      ],
      "metadata": {
        "colab": {
          "base_uri": "https://localhost:8080/"
        },
        "id": "0K9OQ3vqD-fz",
        "outputId": "fe0d83ed-d72d-4722-bdc9-846adb90187d"
      },
      "execution_count": 89,
      "outputs": [
        {
          "output_type": "execute_result",
          "data": {
            "text/plain": [
              "torch.Size([6131, 28, 28])"
            ]
          },
          "metadata": {},
          "execution_count": 89
        }
      ]
    },
    {
      "cell_type": "markdown",
      "source": [
        "#MY THOUGHTS"
      ],
      "metadata": {
        "id": "-8I5belFEjDl"
      }
    },
    {
      "cell_type": "code",
      "source": [
        "#great , I crossed that first hurdle , but that isnt surely enough .\n",
        "#I need to find a way to concatenate these two into one one long list"
      ],
      "metadata": {
        "id": "t3Vaz-t5EbGj"
      },
      "execution_count": 90,
      "outputs": []
    },
    {
      "cell_type": "markdown",
      "source": [
        "#MY MUSING"
      ],
      "metadata": {
        "id": "bybXDpjqF24f"
      }
    },
    {
      "cell_type": "code",
      "source": [
        "#the code below stressed as i had too much error in my thinking, i knew from my normal pandas work that i can concatenate only when i have them in a list like format\n",
        "#but i hesistated , this hesitation is scary because how can I?  Is this not common knowledge?\n",
        "# lastly i fumbled when i was doing torch.cat , initially , i dint put cat, , at some point i even put tensor!! damn it!"
      ],
      "metadata": {
        "id": "dHe6sY7_F_Kw"
      },
      "execution_count": 91,
      "outputs": []
    },
    {
      "cell_type": "code",
      "source": [
        "train_x = torch.cat([stacked_seven, stacked_three]).view(-1, 28*28)"
      ],
      "metadata": {
        "id": "IKLxnIWhEa_2"
      },
      "execution_count": 92,
      "outputs": []
    },
    {
      "cell_type": "code",
      "source": [
        "# i am interested to seeing what this looks like\n",
        "#i expect a rank-2 tensor\n",
        "train_x.shape"
      ],
      "metadata": {
        "colab": {
          "base_uri": "https://localhost:8080/"
        },
        "id": "9_C2QXA-G_9a",
        "outputId": "4493c521-7952-4aa9-988f-7bbeeecf8441"
      },
      "execution_count": 93,
      "outputs": [
        {
          "output_type": "execute_result",
          "data": {
            "text/plain": [
              "torch.Size([12396, 784])"
            ]
          },
          "metadata": {},
          "execution_count": 93
        }
      ]
    },
    {
      "cell_type": "markdown",
      "source": [
        "#MY MUSING"
      ],
      "metadata": {
        "id": "5EK1ubjRH3Hw"
      }
    },
    {
      "cell_type": "code",
      "source": [
        "#but we need a train_y , because whats deep learning without a truth value.\n",
        "\n",
        "train_y = tensor(len(seven_tensors)*[0]  + len(three_tensors)*[1]).unsqueeze(1)"
      ],
      "metadata": {
        "id": "LPOZmTYmHYJd"
      },
      "execution_count": 94,
      "outputs": []
    },
    {
      "cell_type": "code",
      "source": [
        "len(train_y)"
      ],
      "metadata": {
        "colab": {
          "base_uri": "https://localhost:8080/"
        },
        "id": "YlDEdEMyJc-8",
        "outputId": "7a40d3ff-0a72-4640-ba35-ab38d4a63052"
      },
      "execution_count": 95,
      "outputs": [
        {
          "output_type": "execute_result",
          "data": {
            "text/plain": [
              "12396"
            ]
          },
          "metadata": {},
          "execution_count": 95
        }
      ]
    },
    {
      "cell_type": "code",
      "source": [
        "#but in pytorch , when we index a dataset , we want it to return a a tuple that looks like this , (a,b)\n",
        "#so :\n",
        "ds = list(zip(train_x, train_y))\n",
        "x, y = ds[0]\n",
        "x.shape, y"
      ],
      "metadata": {
        "colab": {
          "base_uri": "https://localhost:8080/"
        },
        "id": "UskFWq8xJhct",
        "outputId": "05a5d90e-c182-4110-f540-8df800a60227"
      },
      "execution_count": 96,
      "outputs": [
        {
          "output_type": "execute_result",
          "data": {
            "text/plain": [
              "(torch.Size([784]), tensor([0]))"
            ]
          },
          "metadata": {},
          "execution_count": 96
        }
      ]
    },
    {
      "cell_type": "code",
      "source": [
        "\n",
        "valid_3_tens = torch.stack([tensor(Image.open(o))\n",
        "                            for o in (path/'valid'/'3').ls()])\n",
        "valid_3_tens = valid_3_tens.float()/255\n",
        "valid_7_tens = torch.stack([tensor(Image.open(o))\n",
        "                            for o in (path/'valid'/'7').ls()])\n",
        "valid_7_tens = valid_7_tens.float()/255\n",
        "valid_3_tens.shape,valid_7_tens.shape\n",
        ""
      ],
      "metadata": {
        "colab": {
          "base_uri": "https://localhost:8080/"
        },
        "id": "93v2IRvv1dew",
        "outputId": "103f45ec-9803-41ac-ec5d-bf0e4029887e"
      },
      "execution_count": 97,
      "outputs": [
        {
          "output_type": "execute_result",
          "data": {
            "text/plain": [
              "(torch.Size([1010, 28, 28]), torch.Size([1028, 28, 28]))"
            ]
          },
          "metadata": {},
          "execution_count": 97
        }
      ]
    },
    {
      "cell_type": "code",
      "source": [
        "valid_x = torch.cat([valid_3_tens, valid_7_tens]).view(-1, 28*28)\n",
        "valid_y = tensor([1]*len(valid_3_tens) + [0]*len(valid_7_tens)).unsqueeze(1)\n",
        "valid_dset = list(zip(valid_x,valid_y))"
      ],
      "metadata": {
        "id": "W7WIz35P1BEW"
      },
      "execution_count": 98,
      "outputs": []
    },
    {
      "cell_type": "code",
      "source": [
        "valid_dl = DataLoader(valid_dset, batch_size=256)\n"
      ],
      "metadata": {
        "id": "7K0PGpsmJMph"
      },
      "execution_count": 168,
      "outputs": []
    },
    {
      "cell_type": "code",
      "source": [
        "#now we have a great working dataset , now lets go to the first step."
      ],
      "metadata": {
        "id": "KwQ6dc18Lsyy"
      },
      "execution_count": 99,
      "outputs": []
    },
    {
      "cell_type": "markdown",
      "source": [
        "#STEP 1 : Initialize the weights"
      ],
      "metadata": {
        "id": "L4NzOXHvNMWN"
      }
    },
    {
      "cell_type": "code",
      "source": [
        "def init_params(size, std=1.0):\n",
        "  return (torch.randn(size)*std).requires_grad_()"
      ],
      "metadata": {
        "id": "-x8BXfIGNL6m"
      },
      "execution_count": 130,
      "outputs": []
    },
    {
      "cell_type": "markdown",
      "source": [
        "#STEP 2 : Make predictions"
      ],
      "metadata": {
        "id": "2lUrvugjOpDN"
      }
    },
    {
      "cell_type": "markdown",
      "source": [
        "but to be sure we are doing well on predictions. I want to first check the prediction for the first dataset\n"
      ],
      "metadata": {
        "id": "9ZYd7oayPVh7"
      }
    },
    {
      "cell_type": "code",
      "source": [
        "#let me initialize my weights\n",
        "\n",
        "weights = init_params(784)\n",
        "bias = init_params(1)"
      ],
      "metadata": {
        "id": "CBWl-HD7PkPU"
      },
      "execution_count": 131,
      "outputs": []
    },
    {
      "cell_type": "code",
      "source": [
        "y_preds = ((train_x[0])*(weights.T)).sum() + bias\n",
        "y_preds"
      ],
      "metadata": {
        "colab": {
          "base_uri": "https://localhost:8080/"
        },
        "id": "Vk4TfBf8N4Ui",
        "outputId": "6be2b5c1-c48c-420c-caa3-1531b4fbfb4c"
      },
      "execution_count": 132,
      "outputs": [
        {
          "output_type": "execute_result",
          "data": {
            "text/plain": [
              "tensor([-8.0561], grad_fn=<AddBackward0>)"
            ]
          },
          "metadata": {},
          "execution_count": 132
        }
      ]
    },
    {
      "cell_type": "markdown",
      "source": [
        "Now lets do it on all the dataset , I mean , we can loop but that would be stupid for sure when there is matrix multiplication."
      ],
      "metadata": {
        "id": "je7eYO_oQ-e1"
      }
    },
    {
      "cell_type": "code",
      "source": [
        "def linear1(xb):\n",
        "  return xb@weights + bias"
      ],
      "metadata": {
        "id": "bXtGMR3UQ11t"
      },
      "execution_count": 133,
      "outputs": []
    },
    {
      "cell_type": "code",
      "source": [
        "#the code is literally batch gradient descent"
      ],
      "metadata": {
        "id": "hMGoy131TJgU"
      },
      "execution_count": 134,
      "outputs": []
    },
    {
      "cell_type": "code",
      "source": [
        "preds = linear1(train_x)\n",
        "preds"
      ],
      "metadata": {
        "colab": {
          "base_uri": "https://localhost:8080/"
        },
        "id": "zqVfc-nITE-C",
        "outputId": "811c6da3-99b2-4a7f-bcb6-5ed84b8c8501"
      },
      "execution_count": 135,
      "outputs": [
        {
          "output_type": "execute_result",
          "data": {
            "text/plain": [
              "tensor([ -8.0561,   4.5531, -16.6335,  ...,   7.9521,   1.5664,  -5.6556],\n",
              "       grad_fn=<AddBackward0>)"
            ]
          },
          "metadata": {},
          "execution_count": 135
        }
      ]
    },
    {
      "cell_type": "markdown",
      "source": [
        "# Current Accuracy"
      ],
      "metadata": {
        "id": "f8dvJDPXTXUC"
      }
    },
    {
      "cell_type": "code",
      "source": [
        "correct = (preds > 0.0).float() == train_y\n",
        "correct"
      ],
      "metadata": {
        "colab": {
          "base_uri": "https://localhost:8080/"
        },
        "id": "3A-fiYLYTWty",
        "outputId": "284e2ff1-97c5-48a1-d190-87c150ba9461"
      },
      "execution_count": 136,
      "outputs": [
        {
          "output_type": "execute_result",
          "data": {
            "text/plain": [
              "tensor([[ True, False,  True,  ..., False, False,  True],\n",
              "        [ True, False,  True,  ..., False, False,  True],\n",
              "        [ True, False,  True,  ..., False, False,  True],\n",
              "        ...,\n",
              "        [False,  True, False,  ...,  True,  True, False],\n",
              "        [False,  True, False,  ...,  True,  True, False],\n",
              "        [False,  True, False,  ...,  True,  True, False]])"
            ]
          },
          "metadata": {},
          "execution_count": 136
        }
      ]
    },
    {
      "cell_type": "code",
      "source": [
        "correct.float().mean()"
      ],
      "metadata": {
        "colab": {
          "base_uri": "https://localhost:8080/"
        },
        "id": "xmWRVdjhVFn9",
        "outputId": "1ac5f165-fbcb-43db-adf8-f7cface21d14"
      },
      "execution_count": 137,
      "outputs": [
        {
          "output_type": "execute_result",
          "data": {
            "text/plain": [
              "tensor(0.5013)"
            ]
          },
          "metadata": {},
          "execution_count": 137
        }
      ]
    },
    {
      "cell_type": "markdown",
      "source": [
        "#step  3 : The loss function for a binary clasification"
      ],
      "metadata": {
        "id": "Lyzq-IlSSbw7"
      }
    },
    {
      "cell_type": "code",
      "source": [
        "def mnist_loss(preds, trgts):\n",
        "  preds = preds.sigmoid()\n",
        "  return torch.where(trgts==1, 1-preds, preds).mean()"
      ],
      "metadata": {
        "id": "Ki19EjpuTAcB"
      },
      "execution_count": 138,
      "outputs": []
    },
    {
      "cell_type": "code",
      "source": [
        "#the goal of the BCE is to keep the loss as low as possible"
      ],
      "metadata": {
        "id": "_BvA5izmUvFC"
      },
      "execution_count": 139,
      "outputs": []
    },
    {
      "cell_type": "markdown",
      "source": [
        "lets test what we have above"
      ],
      "metadata": {
        "id": "FtrluxDkTjep"
      }
    },
    {
      "cell_type": "code",
      "source": [
        "trgts = tensor([1.0, 0, 1.0])\n",
        "preds = tensor([0.9, 0.4, 0.8])"
      ],
      "metadata": {
        "id": "j4VqO6MaTh7m"
      },
      "execution_count": 140,
      "outputs": []
    },
    {
      "cell_type": "code",
      "source": [
        "torch.where(trgts==1, 1-preds, preds)"
      ],
      "metadata": {
        "colab": {
          "base_uri": "https://localhost:8080/"
        },
        "id": "CXpDJmGGVB81",
        "outputId": "b7dff3e6-f5da-40b1-adc8-b9d748beffd2"
      },
      "execution_count": 141,
      "outputs": [
        {
          "output_type": "execute_result",
          "data": {
            "text/plain": [
              "tensor([0.1000, 0.4000, 0.2000])"
            ]
          },
          "metadata": {},
          "execution_count": 141
        }
      ]
    },
    {
      "cell_type": "code",
      "source": [
        "torch.where(trgts==1, 1-preds, preds).mean()"
      ],
      "metadata": {
        "colab": {
          "base_uri": "https://localhost:8080/"
        },
        "id": "BumTuWvIVXxN",
        "outputId": "ad53215f-e565-40ba-b1ba-fbf0cda28305"
      },
      "execution_count": 142,
      "outputs": [
        {
          "output_type": "execute_result",
          "data": {
            "text/plain": [
              "tensor(0.2333)"
            ]
          },
          "metadata": {},
          "execution_count": 142
        }
      ]
    },
    {
      "cell_type": "code",
      "source": [
        "mnist_loss(preds, trgts)"
      ],
      "metadata": {
        "colab": {
          "base_uri": "https://localhost:8080/"
        },
        "id": "DILzh0HAWLyc",
        "outputId": "90bb2fd1-7f2f-4e02-adb0-9a9faf1e15b8"
      },
      "execution_count": 143,
      "outputs": [
        {
          "output_type": "execute_result",
          "data": {
            "text/plain": [
              "tensor(0.3993)"
            ]
          },
          "metadata": {},
          "execution_count": 143
        }
      ]
    },
    {
      "cell_type": "markdown",
      "source": [
        "#putting it all together"
      ],
      "metadata": {
        "id": "ABxJ6bvXYwZ9"
      }
    },
    {
      "cell_type": "code",
      "source": [
        "#lets call out dataLoader\n",
        "df = DataLoader(ds, batch_size= 256, shuffle= True)\n",
        "xb,yb = first(df)\n",
        "xb.shape,yb.shape\n"
      ],
      "metadata": {
        "colab": {
          "base_uri": "https://localhost:8080/"
        },
        "id": "RPC3t1-4Y_EO",
        "outputId": "6e387973-84b4-49ed-bd40-887c9e05695b"
      },
      "execution_count": 144,
      "outputs": [
        {
          "output_type": "execute_result",
          "data": {
            "text/plain": [
              "(torch.Size([256, 784]), torch.Size([256, 1]))"
            ]
          },
          "metadata": {},
          "execution_count": 144
        }
      ]
    },
    {
      "cell_type": "markdown",
      "source": [
        "#Testing for batchsize of 4 and seeing the possibilities."
      ],
      "metadata": {
        "id": "kx-F9XFNcWMg"
      }
    },
    {
      "cell_type": "code",
      "source": [
        "#step 1\n",
        "#find the y_preds\n",
        "\n",
        "preds = linear1(train_x[:4])\n",
        "preds"
      ],
      "metadata": {
        "colab": {
          "base_uri": "https://localhost:8080/"
        },
        "id": "p7vjj7UocUrF",
        "outputId": "f7332088-28ca-4389-ba95-46f4ebbd6899"
      },
      "execution_count": 145,
      "outputs": [
        {
          "output_type": "execute_result",
          "data": {
            "text/plain": [
              "tensor([ -8.0561,   4.5531, -16.6335,  -3.2143], grad_fn=<AddBackward0>)"
            ]
          },
          "metadata": {},
          "execution_count": 145
        }
      ]
    },
    {
      "cell_type": "code",
      "source": [
        "#step 2\n",
        "#find the loss\n",
        "loss = mnist_loss(preds, train_y[:4])\n",
        "loss"
      ],
      "metadata": {
        "colab": {
          "base_uri": "https://localhost:8080/"
        },
        "id": "MsM-1z31c43m",
        "outputId": "8e04c6f9-5f79-4e50-95e7-f75e53833442"
      },
      "execution_count": 146,
      "outputs": [
        {
          "output_type": "execute_result",
          "data": {
            "text/plain": [
              "tensor(0.2571, grad_fn=<MeanBackward0>)"
            ]
          },
          "metadata": {},
          "execution_count": 146
        }
      ]
    },
    {
      "cell_type": "code",
      "source": [
        "#step 3\n",
        "#calculate grad\n",
        "loss.backward()"
      ],
      "metadata": {
        "id": "DlXHSl9VdO_7"
      },
      "execution_count": 147,
      "outputs": []
    },
    {
      "cell_type": "code",
      "source": [
        "#check for the gradients calculated\n",
        "#since it is too large , I will deal with the mean\n",
        "weights.grad.mean(), bias.grad"
      ],
      "metadata": {
        "colab": {
          "base_uri": "https://localhost:8080/"
        },
        "id": "zDRaGfFJd2oK",
        "outputId": "b77e9342-ff66-4cdc-9eca-2f6a7c2c468c"
      },
      "execution_count": 148,
      "outputs": [
        {
          "output_type": "execute_result",
          "data": {
            "text/plain": [
              "(tensor(0.0014), tensor([0.0119]))"
            ]
          },
          "metadata": {},
          "execution_count": 148
        }
      ]
    },
    {
      "cell_type": "markdown",
      "source": [
        "#calculating the gradient"
      ],
      "metadata": {
        "id": "PpcJou3Kmb0O"
      }
    },
    {
      "cell_type": "code",
      "source": [
        "#I want to put all of this into a function to make it so compact.\n",
        "\n",
        "def calc_grad(xb, yb, model):\n",
        "  preds = model(xb)  #i struggled here, ultimatly , model is anything that takes in an  argument.\n",
        "  loss = mnist_loss(preds, yb)\n",
        "  loss.backward()\n"
      ],
      "metadata": {
        "id": "WS8mwpbaejen"
      },
      "execution_count": 149,
      "outputs": []
    },
    {
      "cell_type": "markdown",
      "source": [
        "#Train the weight for an epoch."
      ],
      "metadata": {
        "id": "hiwAraAUmqoP"
      }
    },
    {
      "cell_type": "code",
      "source": [
        "def train_epoch(model, lr, params):\n",
        "  for xb, yb in df:\n",
        "    calc_grad(xb, yb, model)\n",
        "    for p in params:\n",
        "      p.data -= p.grad * lr\n",
        "      p.grad.zero_()"
      ],
      "metadata": {
        "id": "c7Jl99Z-mp0f"
      },
      "execution_count": 177,
      "outputs": []
    },
    {
      "cell_type": "markdown",
      "source": [
        "#lets calculate the accuracy for the 4 batch size"
      ],
      "metadata": {
        "id": "VvMY5ypNw2Nw"
      }
    },
    {
      "cell_type": "code",
      "source": [
        "correct = (preds > 0.5).float() == train_y[:4]\n",
        "correct"
      ],
      "metadata": {
        "colab": {
          "base_uri": "https://localhost:8080/"
        },
        "id": "tsXc3YbImpvq",
        "outputId": "b5634979-7545-4f53-a74f-f893c14284cd"
      },
      "execution_count": 178,
      "outputs": [
        {
          "output_type": "execute_result",
          "data": {
            "text/plain": [
              "tensor([[ True, False,  True,  True],\n",
              "        [ True, False,  True,  True],\n",
              "        [ True, False,  True,  True],\n",
              "        [ True, False,  True,  True]])"
            ]
          },
          "metadata": {},
          "execution_count": 178
        }
      ]
    },
    {
      "cell_type": "code",
      "source": [
        "correct.float().mean()"
      ],
      "metadata": {
        "colab": {
          "base_uri": "https://localhost:8080/"
        },
        "id": "sADytBV2xupG",
        "outputId": "21435527-7b20-4228-e4f0-1075d3c9235a"
      },
      "execution_count": 179,
      "outputs": [
        {
          "output_type": "execute_result",
          "data": {
            "text/plain": [
              "tensor(0.7500)"
            ]
          },
          "metadata": {},
          "execution_count": 179
        }
      ]
    },
    {
      "cell_type": "markdown",
      "source": [
        "#Now i want to create a function for batch accuracy"
      ],
      "metadata": {
        "id": "rVwI5sqYx1nH"
      }
    },
    {
      "cell_type": "code",
      "source": [
        "def batch_accuracy(model, yb):\n",
        "  correct = (preds > 0.5).float()== yb\n",
        "  return correct.float().mean()\n"
      ],
      "metadata": {
        "id": "MXmGKH5Kx7os"
      },
      "execution_count": 180,
      "outputs": []
    },
    {
      "cell_type": "code",
      "source": [
        "#let me test the above code and see if it is working\n",
        "batch_accuracy(linear1(train_x[:4]), train_y[:4])"
      ],
      "metadata": {
        "colab": {
          "base_uri": "https://localhost:8080/"
        },
        "id": "SjuR2lKtzQH5",
        "outputId": "95b306a0-b3cc-4a05-d520-2d6f76ee72ce"
      },
      "execution_count": 181,
      "outputs": [
        {
          "output_type": "execute_result",
          "data": {
            "text/plain": [
              "tensor(0.7500)"
            ]
          },
          "metadata": {},
          "execution_count": 181
        }
      ]
    },
    {
      "cell_type": "markdown",
      "source": [
        "#validation accuracy"
      ],
      "metadata": {
        "id": "n0nFGJebywEN"
      }
    },
    {
      "cell_type": "code",
      "source": [
        "def validate_epoch(model):\n",
        "    accs = [batch_accuracy(model(xb), yb) for xb,yb in valid_dl]\n",
        "    return round(torch.stack(accs).mean().item(), 4)\n"
      ],
      "metadata": {
        "id": "RrjaemG-yvLV"
      },
      "execution_count": 182,
      "outputs": []
    },
    {
      "cell_type": "markdown",
      "source": [
        "#Great that was a random result since the weight initialized was random"
      ],
      "metadata": {
        "id": "UWTY5dnm5P3n"
      }
    },
    {
      "cell_type": "code",
      "source": [
        "#let me test the code i just wrote\n",
        "validate_epoch(linear1)"
      ],
      "metadata": {
        "colab": {
          "base_uri": "https://localhost:8080/"
        },
        "id": "wElO8kgpys2p",
        "outputId": "5f807266-439a-4fb4-ce35-c64ebe26c861"
      },
      "execution_count": 183,
      "outputs": [
        {
          "output_type": "execute_result",
          "data": {
            "text/plain": [
              "0.5034"
            ]
          },
          "metadata": {},
          "execution_count": 183
        }
      ]
    },
    {
      "cell_type": "markdown",
      "source": [
        "#Train for an epoch"
      ],
      "metadata": {
        "id": "L4LrUmEk54nb"
      }
    },
    {
      "cell_type": "code",
      "source": [
        "lr =1.0\n",
        "params = weights,bias"
      ],
      "metadata": {
        "id": "k-kwSXUl6W6d"
      },
      "execution_count": 184,
      "outputs": []
    },
    {
      "cell_type": "code",
      "source": [
        "train_epoch(linear1, lr, params)"
      ],
      "metadata": {
        "id": "k_qig-Op52hs"
      },
      "execution_count": 186,
      "outputs": []
    },
    {
      "cell_type": "code",
      "source": [
        "validate_epoch(linear1)"
      ],
      "metadata": {
        "colab": {
          "base_uri": "https://localhost:8080/"
        },
        "id": "x5StcMNc5maY",
        "outputId": "b25d992c-4fbe-424a-ce52-aa6634d721cc"
      },
      "execution_count": 187,
      "outputs": [
        {
          "output_type": "execute_result",
          "data": {
            "text/plain": [
              "0.5034"
            ]
          },
          "metadata": {},
          "execution_count": 187
        }
      ]
    },
    {
      "cell_type": "code",
      "source": [
        "for i in range(20):\n",
        "    train_epoch(linear1, lr, params)\n",
        "    print(validate_epoch(linear1), end=' ')"
      ],
      "metadata": {
        "colab": {
          "base_uri": "https://localhost:8080/"
        },
        "id": "3UZWqQyJ5JLw",
        "outputId": "beba51ed-4328-4435-b257-e014f3947fe4"
      },
      "execution_count": 174,
      "outputs": [
        {
          "output_type": "stream",
          "name": "stdout",
          "text": [
            "0.5034 0.5034 0.5034 0.5034 0.5034 0.5034 0.5034 0.5034 0.5034 0.5034 0.5034 0.5034 0.5034 0.5034 0.5034 0.5034 0.5034 0.5034 0.5034 0.5034 "
          ]
        }
      ]
    }
  ]
}