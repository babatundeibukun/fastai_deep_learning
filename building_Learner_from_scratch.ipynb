{
  "metadata": {
    "kernelspec": {
      "language": "python",
      "display_name": "Python 3",
      "name": "python3"
    },
    "language_info": {
      "name": "python",
      "version": "3.10.12",
      "mimetype": "text/x-python",
      "codemirror_mode": {
        "name": "ipython",
        "version": 3
      },
      "pygments_lexer": "ipython3",
      "nbconvert_exporter": "python",
      "file_extension": ".py"
    },
    "kaggle": {
      "accelerator": "none",
      "dataSources": [],
      "dockerImageVersionId": 30886,
      "isInternetEnabled": true,
      "language": "python",
      "sourceType": "notebook",
      "isGpuEnabled": false
    },
    "colab": {
      "name": "building_Learner_from_scratch",
      "provenance": [],
      "include_colab_link": true
    }
  },
  "nbformat_minor": 0,
  "nbformat": 4,
  "cells": [
    {
      "cell_type": "markdown",
      "metadata": {
        "id": "view-in-github",
        "colab_type": "text"
      },
      "source": [
        "<a href=\"https://colab.research.google.com/github/babatundeibukun/fastai_deep_learning/blob/main/building_Learner_from_scratch.ipynb\" target=\"_parent\"><img src=\"https://colab.research.google.com/assets/colab-badge.svg\" alt=\"Open In Colab\"/></a>"
      ]
    },
    {
      "cell_type": "code",
      "source": [
        "# This Python 3 environment comes with many helpful analytics libraries installed\n",
        "# It is defined by the kaggle/python Docker image: https://github.com/kaggle/docker-python\n",
        "# For example, here's several helpful packages to load\n",
        "\n",
        "import numpy as np # linear algebra\n",
        "import pandas as pd # data processing, CSV file I/O (e.g. pd.read_csv)\n",
        "\n",
        "# Input data files are available in the read-only \"../input/\" directory\n",
        "# For example, running this (by clicking run or pressing Shift+Enter) will list all files under the input directory\n",
        "\n",
        "import os\n",
        "for dirname, _, filenames in os.walk('/kaggle/input'):\n",
        "    for filename in filenames:\n",
        "        print(os.path.join(dirname, filename))\n",
        "\n",
        "# You can write up to 20GB to the current directory (/kaggle/working/) that gets preserved as output when you create a version using \"Save & Run All\"\n",
        "# You can also write temporary files to /kaggle/temp/, but they won't be saved outside of the current session"
      ],
      "metadata": {
        "_uuid": "8f2839f25d086af736a60e9eeb907d3b93b6e0e5",
        "_cell_guid": "b1076dfc-b9ad-4769-8c92-a6c4dae69d19",
        "trusted": true,
        "execution": {
          "iopub.status.busy": "2025-02-09T13:40:05.277063Z",
          "iopub.execute_input": "2025-02-09T13:40:05.277389Z",
          "iopub.status.idle": "2025-02-09T13:40:05.698494Z",
          "shell.execute_reply.started": "2025-02-09T13:40:05.27732Z",
          "shell.execute_reply": "2025-02-09T13:40:05.697153Z"
        },
        "id": "LkyR4v4eDeZQ"
      },
      "outputs": [],
      "execution_count": null
    },
    {
      "cell_type": "code",
      "source": [
        "#i need that data that contaons just 3's and 7's\n",
        "#that is my first step\n",
        "#importing all i need to make my life easy\n",
        "\n",
        "\n",
        "#hide\n",
        "from fastai.vision.all import *\n",
        "#from fastbook import *\n",
        "\n",
        "matplotlib.rc('image', cmap='Greys')"
      ],
      "metadata": {
        "trusted": true,
        "execution": {
          "iopub.status.busy": "2025-02-09T13:40:10.09382Z",
          "iopub.execute_input": "2025-02-09T13:40:10.094131Z",
          "iopub.status.idle": "2025-02-09T13:40:23.970207Z",
          "shell.execute_reply.started": "2025-02-09T13:40:10.094107Z",
          "shell.execute_reply": "2025-02-09T13:40:23.969129Z"
        },
        "id": "wRh36ClTDeZY"
      },
      "outputs": [],
      "execution_count": null
    },
    {
      "cell_type": "code",
      "source": [
        "path = untar_data(URLs.MNIST_SAMPLE)\n"
      ],
      "metadata": {
        "trusted": true,
        "execution": {
          "iopub.status.busy": "2025-02-09T13:40:24.586655Z",
          "iopub.execute_input": "2025-02-09T13:40:24.58698Z",
          "iopub.status.idle": "2025-02-09T13:40:30.119747Z",
          "shell.execute_reply.started": "2025-02-09T13:40:24.586955Z",
          "shell.execute_reply": "2025-02-09T13:40:30.118704Z"
        },
        "id": "Bvidr-FtDeZZ",
        "outputId": "b1def523-6bc2-4c0f-9afe-ccb843f414e1"
      },
      "outputs": [
        {
          "output_type": "display_data",
          "data": {
            "text/plain": "<IPython.core.display.HTML object>",
            "text/html": "\n<style>\n    /* Turns off some styling */\n    progress {\n        /* gets rid of default border in Firefox and Opera. */\n        border: none;\n        /* Needs to be in here for Safari polyfill so background images work as expected. */\n        background-size: auto;\n    }\n    progress:not([value]), progress:not([value])::-webkit-progress-bar {\n        background: repeating-linear-gradient(45deg, #7e7e7e, #7e7e7e 10px, #5c5c5c 10px, #5c5c5c 20px);\n    }\n    .progress-bar-interrupted, .progress-bar-interrupted::-webkit-progress-bar {\n        background: #F44336;\n    }\n</style>\n"
          },
          "metadata": {}
        },
        {
          "output_type": "display_data",
          "data": {
            "text/plain": "<IPython.core.display.HTML object>",
            "text/html": "\n    <div>\n      <progress value='3219456' class='' max='3214948' style='width:300px; height:20px; vertical-align: middle;'></progress>\n      100.14% [3219456/3214948 00:01&lt;00:00]\n    </div>\n    "
          },
          "metadata": {}
        }
      ],
      "execution_count": null
    },
    {
      "cell_type": "code",
      "source": [
        "path.ls()"
      ],
      "metadata": {
        "trusted": true,
        "execution": {
          "iopub.status.busy": "2025-02-09T13:40:36.993037Z",
          "iopub.execute_input": "2025-02-09T13:40:36.99343Z",
          "iopub.status.idle": "2025-02-09T13:40:37.000684Z",
          "shell.execute_reply.started": "2025-02-09T13:40:36.993401Z",
          "shell.execute_reply": "2025-02-09T13:40:36.9996Z"
        },
        "id": "IgfexZz1DeZb",
        "outputId": "dd0be964-94d4-4f91-f23e-0eef0577abbb"
      },
      "outputs": [
        {
          "execution_count": 4,
          "output_type": "execute_result",
          "data": {
            "text/plain": "(#3) [Path('/root/.fastai/data/mnist_sample/valid'),Path('/root/.fastai/data/mnist_sample/labels.csv'),Path('/root/.fastai/data/mnist_sample/train')]"
          },
          "metadata": {}
        }
      ],
      "execution_count": null
    },
    {
      "cell_type": "code",
      "source": [
        "(path/'train').ls()\n"
      ],
      "metadata": {
        "trusted": true,
        "execution": {
          "iopub.status.busy": "2025-02-09T13:41:09.563896Z",
          "iopub.execute_input": "2025-02-09T13:41:09.564414Z",
          "iopub.status.idle": "2025-02-09T13:41:09.572701Z",
          "shell.execute_reply.started": "2025-02-09T13:41:09.564351Z",
          "shell.execute_reply": "2025-02-09T13:41:09.571002Z"
        },
        "id": "87DqJFRfDeZc",
        "outputId": "38d80873-1776-486a-f98c-b77beef02e70"
      },
      "outputs": [
        {
          "execution_count": 5,
          "output_type": "execute_result",
          "data": {
            "text/plain": "(#2) [Path('/root/.fastai/data/mnist_sample/train/7'),Path('/root/.fastai/data/mnist_sample/train/3')]"
          },
          "metadata": {}
        }
      ],
      "execution_count": null
    },
    {
      "cell_type": "code",
      "source": [
        "threes = (path/'train'/'3').ls().sorted()\n",
        "sevens = (path/'train'/'7').ls().sorted()\n"
      ],
      "metadata": {
        "trusted": true,
        "execution": {
          "iopub.status.busy": "2025-02-09T13:41:58.704522Z",
          "iopub.execute_input": "2025-02-09T13:41:58.70496Z",
          "iopub.status.idle": "2025-02-09T13:41:58.819751Z",
          "shell.execute_reply.started": "2025-02-09T13:41:58.704927Z",
          "shell.execute_reply": "2025-02-09T13:41:58.818693Z"
        },
        "id": "x1hwBwX0DeZc"
      },
      "outputs": [],
      "execution_count": null
    },
    {
      "cell_type": "code",
      "source": [
        "seven_tensors = [tensor(Image.open(o)) for o in sevens]\n",
        "three_tensors = [tensor(Image.open(o)) for o in threes]\n",
        "len(three_tensors),len(seven_tensors)"
      ],
      "metadata": {
        "trusted": true,
        "execution": {
          "iopub.status.busy": "2025-02-09T13:44:25.056285Z",
          "iopub.execute_input": "2025-02-09T13:44:25.056687Z",
          "iopub.status.idle": "2025-02-09T13:44:28.421637Z",
          "shell.execute_reply.started": "2025-02-09T13:44:25.056658Z",
          "shell.execute_reply": "2025-02-09T13:44:28.42059Z"
        },
        "id": "-eupEri-DeZd",
        "outputId": "d84f4be8-5cbe-4d84-b5b4-00b60ae26aaf"
      },
      "outputs": [
        {
          "execution_count": 9,
          "output_type": "execute_result",
          "data": {
            "text/plain": "(6131, 6265)"
          },
          "metadata": {}
        }
      ],
      "execution_count": null
    },
    {
      "cell_type": "markdown",
      "source": [
        "__STACKING TENSORS__\n"
      ],
      "metadata": {
        "id": "bP-PJ65MDeZe"
      }
    },
    {
      "cell_type": "code",
      "source": [
        "stacked_threes = torch.stack(three_tensors).float()/255\n",
        "stacked_sevens = torch.stack(seven_tensors).float()/255"
      ],
      "metadata": {
        "trusted": true,
        "execution": {
          "iopub.status.busy": "2025-02-09T13:48:19.965868Z",
          "iopub.execute_input": "2025-02-09T13:48:19.966239Z",
          "iopub.status.idle": "2025-02-09T13:48:20.104108Z",
          "shell.execute_reply.started": "2025-02-09T13:48:19.966209Z",
          "shell.execute_reply": "2025-02-09T13:48:20.102947Z"
        },
        "id": "6AqTx8n2DeZh"
      },
      "outputs": [],
      "execution_count": null
    },
    {
      "cell_type": "code",
      "source": [
        "stacked_threes.shape, stacked_sevens.shape"
      ],
      "metadata": {
        "trusted": true,
        "execution": {
          "iopub.status.busy": "2025-02-09T13:49:38.832632Z",
          "iopub.execute_input": "2025-02-09T13:49:38.832981Z",
          "iopub.status.idle": "2025-02-09T13:49:38.838483Z",
          "shell.execute_reply.started": "2025-02-09T13:49:38.83295Z",
          "shell.execute_reply": "2025-02-09T13:49:38.837611Z"
        },
        "id": "Yv3nJC3PDeZi",
        "outputId": "b22b0c5e-ded1-4eea-e6c0-21c7af635147"
      },
      "outputs": [
        {
          "execution_count": 11,
          "output_type": "execute_result",
          "data": {
            "text/plain": "(torch.Size([6131, 28, 28]), torch.Size([6265, 28, 28]))"
          },
          "metadata": {}
        }
      ],
      "execution_count": null
    },
    {
      "cell_type": "markdown",
      "source": [
        "__CONVERT THEM TO RANK 2 TENSORS__"
      ],
      "metadata": {
        "id": "bnKUH5duDeZj"
      }
    },
    {
      "cell_type": "code",
      "source": [
        "train_x = torch.cat([stacked_threes, stacked_sevens]).view(-1, 28*28)\n",
        "train_x.shape"
      ],
      "metadata": {
        "trusted": true,
        "execution": {
          "iopub.status.busy": "2025-02-09T13:53:03.758787Z",
          "iopub.execute_input": "2025-02-09T13:53:03.759163Z",
          "iopub.status.idle": "2025-02-09T13:53:03.79163Z",
          "shell.execute_reply.started": "2025-02-09T13:53:03.759134Z",
          "shell.execute_reply": "2025-02-09T13:53:03.790633Z"
        },
        "id": "PodJhVAKDeZk",
        "outputId": "a6ddad00-6433-442d-856d-b49693bb9b37"
      },
      "outputs": [
        {
          "execution_count": 12,
          "output_type": "execute_result",
          "data": {
            "text/plain": "torch.Size([12396, 784])"
          },
          "metadata": {}
        }
      ],
      "execution_count": null
    },
    {
      "cell_type": "markdown",
      "source": [
        "__CREATE TRAIN_Y__"
      ],
      "metadata": {
        "id": "g0WCdGk_DeZl"
      }
    },
    {
      "cell_type": "code",
      "source": [
        "train_y = tensor([1]*len(stacked_threes) + [0]*len(stacked_sevens)).unsqueeze(1)\n",
        "train_y.shape"
      ],
      "metadata": {
        "trusted": true,
        "execution": {
          "iopub.status.busy": "2025-02-09T13:58:35.33419Z",
          "iopub.execute_input": "2025-02-09T13:58:35.334703Z",
          "iopub.status.idle": "2025-02-09T13:58:35.361409Z",
          "shell.execute_reply.started": "2025-02-09T13:58:35.334664Z",
          "shell.execute_reply": "2025-02-09T13:58:35.360084Z"
        },
        "id": "rCkJevQCDeZl",
        "outputId": "f53bb032-b54e-4a69-c3fc-6e7f553fcc66"
      },
      "outputs": [
        {
          "execution_count": 14,
          "output_type": "execute_result",
          "data": {
            "text/plain": "torch.Size([12396, 1])"
          },
          "metadata": {}
        }
      ],
      "execution_count": null
    },
    {
      "cell_type": "markdown",
      "source": [
        "__CREATE OUR DATASET__"
      ],
      "metadata": {
        "id": "WzDEfOVhDeZm"
      }
    },
    {
      "cell_type": "code",
      "source": [
        "ds = list(zip(train_x, train_y))\n",
        "x, y = ds[0]\n",
        "x.shape, y"
      ],
      "metadata": {
        "trusted": true,
        "execution": {
          "iopub.status.busy": "2025-02-09T14:01:01.193184Z",
          "iopub.execute_input": "2025-02-09T14:01:01.193733Z",
          "iopub.status.idle": "2025-02-09T14:01:01.528914Z",
          "shell.execute_reply.started": "2025-02-09T14:01:01.193691Z",
          "shell.execute_reply": "2025-02-09T14:01:01.527891Z"
        },
        "id": "iBQILeaeDeZm",
        "outputId": "d61553b9-61dc-4e20-b978-4f21d5aeb818"
      },
      "outputs": [
        {
          "execution_count": 15,
          "output_type": "execute_result",
          "data": {
            "text/plain": "(torch.Size([784]), tensor([1]))"
          },
          "metadata": {}
        }
      ],
      "execution_count": null
    },
    {
      "cell_type": "code",
      "source": [
        "dl = DataLoader(ds , batch_size = 256)\n",
        "xb, yb = first(dl)\n",
        "xb.shape, yb.shape"
      ],
      "metadata": {
        "trusted": true,
        "execution": {
          "iopub.status.busy": "2025-02-09T14:02:27.852996Z",
          "iopub.execute_input": "2025-02-09T14:02:27.853423Z",
          "iopub.status.idle": "2025-02-09T14:02:27.879419Z",
          "shell.execute_reply.started": "2025-02-09T14:02:27.853389Z",
          "shell.execute_reply": "2025-02-09T14:02:27.878266Z"
        },
        "id": "KkZTSMQRDeZo",
        "outputId": "7700ddfc-8249-4cfd-dc8b-961034b5080b"
      },
      "outputs": [
        {
          "execution_count": 16,
          "output_type": "execute_result",
          "data": {
            "text/plain": "(torch.Size([256, 784]), torch.Size([256, 1]))"
          },
          "metadata": {}
        }
      ],
      "execution_count": null
    },
    {
      "cell_type": "markdown",
      "source": [
        "__VALIDATION DATASET__"
      ],
      "metadata": {
        "id": "e5-_ewUSDeZp"
      }
    },
    {
      "cell_type": "code",
      "source": [
        "valid_3_tens = torch.stack([tensor(Image.open(o))\n",
        "                            for o in (path/'valid'/'3').ls()])\n",
        "valid_3_tens = valid_3_tens.float()/255\n",
        "valid_7_tens = torch.stack([tensor(Image.open(o))\n",
        "                            for o in (path/'valid'/'7').ls()])\n",
        "valid_7_tens = valid_7_tens.float()/255\n",
        "valid_3_tens.shape,valid_7_tens.shape"
      ],
      "metadata": {
        "trusted": true,
        "execution": {
          "iopub.status.busy": "2025-02-09T14:04:03.506862Z",
          "iopub.execute_input": "2025-02-09T14:04:03.507216Z",
          "iopub.status.idle": "2025-02-09T14:04:04.082337Z",
          "shell.execute_reply.started": "2025-02-09T14:04:03.50719Z",
          "shell.execute_reply": "2025-02-09T14:04:04.081167Z"
        },
        "id": "DAFdG42vDeZr",
        "outputId": "e53aabf1-d891-493b-9ff2-3c90eda39359"
      },
      "outputs": [
        {
          "execution_count": 17,
          "output_type": "execute_result",
          "data": {
            "text/plain": "(torch.Size([1010, 28, 28]), torch.Size([1028, 28, 28]))"
          },
          "metadata": {}
        }
      ],
      "execution_count": null
    },
    {
      "cell_type": "code",
      "source": [
        "valid_x = torch.cat([valid_3_tens, valid_7_tens]).view(-1, 28*28)\n",
        "valid_y = tensor([1]*len(valid_3_tens) + [0]*len(valid_7_tens)).unsqueeze(1)\n",
        "valid_dset = list(zip(valid_x,valid_y))"
      ],
      "metadata": {
        "trusted": true,
        "execution": {
          "iopub.status.busy": "2025-02-09T14:04:06.79294Z",
          "iopub.execute_input": "2025-02-09T14:04:06.793316Z",
          "iopub.status.idle": "2025-02-09T14:04:06.810311Z",
          "shell.execute_reply.started": "2025-02-09T14:04:06.793285Z",
          "shell.execute_reply": "2025-02-09T14:04:06.809473Z"
        },
        "id": "yRJ3aV4eDeZs"
      },
      "outputs": [],
      "execution_count": null
    },
    {
      "cell_type": "code",
      "source": [
        "valid_dl = DataLoader(valid_dset, batch_size=256)"
      ],
      "metadata": {
        "trusted": true,
        "execution": {
          "iopub.status.busy": "2025-02-09T14:04:24.892917Z",
          "iopub.execute_input": "2025-02-09T14:04:24.893283Z",
          "iopub.status.idle": "2025-02-09T14:04:24.898107Z",
          "shell.execute_reply.started": "2025-02-09T14:04:24.893252Z",
          "shell.execute_reply": "2025-02-09T14:04:24.896889Z"
        },
        "id": "ynp8Pk3mDeZs"
      },
      "outputs": [],
      "execution_count": null
    },
    {
      "cell_type": "markdown",
      "source": [
        "__STEP 1 : INITIALIZE WEIGHTS FUNCTION__"
      ],
      "metadata": {
        "id": "NAThKl76DeZs"
      }
    },
    {
      "cell_type": "code",
      "source": [
        "def init_params(size, std=1.0):\n",
        "    return (torch.randn(size)*std).requires_grad_()"
      ],
      "metadata": {
        "trusted": true,
        "execution": {
          "iopub.status.busy": "2025-02-09T14:58:39.368418Z",
          "iopub.execute_input": "2025-02-09T14:58:39.368793Z",
          "iopub.status.idle": "2025-02-09T14:58:39.373484Z",
          "shell.execute_reply.started": "2025-02-09T14:58:39.368764Z",
          "shell.execute_reply": "2025-02-09T14:58:39.372382Z"
        },
        "id": "vVTshycoDeZt"
      },
      "outputs": [],
      "execution_count": null
    },
    {
      "cell_type": "markdown",
      "source": [
        "__STEP 2: PREDICTION FUNCTION__"
      ],
      "metadata": {
        "id": "8JMHaPngDeZt"
      }
    },
    {
      "cell_type": "code",
      "source": [
        "def linear1(xb):\n",
        "    preds = xb@weights + bias\n",
        "    return preds"
      ],
      "metadata": {
        "trusted": true,
        "execution": {
          "iopub.status.busy": "2025-02-09T14:58:39.374799Z",
          "iopub.execute_input": "2025-02-09T14:58:39.375188Z",
          "iopub.status.idle": "2025-02-09T14:58:39.392401Z",
          "shell.execute_reply.started": "2025-02-09T14:58:39.37516Z",
          "shell.execute_reply": "2025-02-09T14:58:39.391473Z"
        },
        "id": "Oz6n_zseDeZt"
      },
      "outputs": [],
      "execution_count": null
    },
    {
      "cell_type": "markdown",
      "source": [
        "__STEP 3 : LOSS FUNCTION__"
      ],
      "metadata": {
        "id": "FLyX-B0GDeZu"
      }
    },
    {
      "cell_type": "code",
      "source": [
        "def mnist_loss(preds, targets):\n",
        "    preds = preds.sigmoid()\n",
        "    return torch.where(targets==1.0, 1-preds, preds).mean()"
      ],
      "metadata": {
        "trusted": true,
        "execution": {
          "iopub.status.busy": "2025-02-09T14:58:39.411508Z",
          "iopub.execute_input": "2025-02-09T14:58:39.411841Z",
          "iopub.status.idle": "2025-02-09T14:58:39.416641Z",
          "shell.execute_reply.started": "2025-02-09T14:58:39.411817Z",
          "shell.execute_reply": "2025-02-09T14:58:39.415432Z"
        },
        "id": "an0-De-NDeZu"
      },
      "outputs": [],
      "execution_count": null
    },
    {
      "cell_type": "markdown",
      "source": [
        "__STEP 4 : CALC GRAD__"
      ],
      "metadata": {
        "id": "3r-ngJkIDeZu"
      }
    },
    {
      "cell_type": "code",
      "source": [
        "def calc_grad(xb, yb , model):\n",
        "    preds = model(xb)\n",
        "    loss= mnist_loss(preds, yb)\n",
        "    loss.backward()"
      ],
      "metadata": {
        "trusted": true,
        "execution": {
          "iopub.status.busy": "2025-02-09T14:58:39.417952Z",
          "iopub.execute_input": "2025-02-09T14:58:39.418263Z",
          "iopub.status.idle": "2025-02-09T14:58:39.434098Z",
          "shell.execute_reply.started": "2025-02-09T14:58:39.418238Z",
          "shell.execute_reply": "2025-02-09T14:58:39.433009Z"
        },
        "id": "Urs257RQDeZv"
      },
      "outputs": [],
      "execution_count": null
    },
    {
      "cell_type": "markdown",
      "source": [
        "__STEP 5 : BATCH ACCURACY__"
      ],
      "metadata": {
        "id": "A0sM9R1HDeZv"
      }
    },
    {
      "cell_type": "code",
      "source": [
        "def batch_accuracy(xb, yb):\n",
        "    preds = xb.sigmoid()\n",
        "    corrects = (preds > 0.5).float() == yb\n",
        "    return corrects.float().mean()\n",
        ""
      ],
      "metadata": {
        "trusted": true,
        "execution": {
          "iopub.status.busy": "2025-02-09T14:58:39.435827Z",
          "iopub.execute_input": "2025-02-09T14:58:39.436202Z",
          "iopub.status.idle": "2025-02-09T14:58:39.455392Z",
          "shell.execute_reply.started": "2025-02-09T14:58:39.436171Z",
          "shell.execute_reply": "2025-02-09T14:58:39.454246Z"
        },
        "id": "CtIEkSqUDeZw"
      },
      "outputs": [],
      "execution_count": null
    },
    {
      "cell_type": "markdown",
      "source": [
        "__STEP 5 : VALIDATION_ACCURACY FUNCTION__"
      ],
      "metadata": {
        "id": "3Rlr7QwkDeZw"
      }
    },
    {
      "cell_type": "code",
      "source": [
        "def validation_accuracy(model):\n",
        "    accs = [batch_accuracy(model(xb), yb) for  xb, yb in valid_dl]\n",
        "    return round(torch.stack(accs).mean().item(), 4)"
      ],
      "metadata": {
        "trusted": true,
        "execution": {
          "iopub.status.busy": "2025-02-09T14:58:39.461842Z",
          "iopub.execute_input": "2025-02-09T14:58:39.46233Z",
          "iopub.status.idle": "2025-02-09T14:58:39.473798Z",
          "shell.execute_reply.started": "2025-02-09T14:58:39.462279Z",
          "shell.execute_reply": "2025-02-09T14:58:39.472855Z"
        },
        "id": "Pg5zd5xADeZx"
      },
      "outputs": [],
      "execution_count": null
    },
    {
      "cell_type": "markdown",
      "source": [
        "__STEP 5 : TRAIN EPOCH FUNCTION__"
      ],
      "metadata": {
        "id": "O7-cN9qvDeZx"
      }
    },
    {
      "cell_type": "code",
      "source": [
        "def train_epoch(model, params , lr):\n",
        "    for xb, yb in dl:\n",
        "        calc_grad(xb, yb, model)\n",
        "        for p in params:\n",
        "            p.data -= p.grad *lr\n",
        "            p.grad.zero_()"
      ],
      "metadata": {
        "trusted": true,
        "execution": {
          "iopub.status.busy": "2025-02-09T14:58:39.474998Z",
          "iopub.execute_input": "2025-02-09T14:58:39.475324Z",
          "iopub.status.idle": "2025-02-09T14:58:39.493947Z",
          "shell.execute_reply.started": "2025-02-09T14:58:39.475276Z",
          "shell.execute_reply": "2025-02-09T14:58:39.492864Z"
        },
        "id": "4KQahBLmDeZy"
      },
      "outputs": [],
      "execution_count": null
    },
    {
      "cell_type": "code",
      "source": [
        "weights = init_params(28*28, 1)\n",
        "bias = init_params(1)\n",
        "weights.shape, bias.shape"
      ],
      "metadata": {
        "trusted": true,
        "execution": {
          "iopub.status.busy": "2025-02-09T14:58:39.495875Z",
          "iopub.execute_input": "2025-02-09T14:58:39.496255Z",
          "iopub.status.idle": "2025-02-09T14:58:39.514581Z",
          "shell.execute_reply.started": "2025-02-09T14:58:39.496226Z",
          "shell.execute_reply": "2025-02-09T14:58:39.513651Z"
        },
        "id": "F9gTHS9zDeZy",
        "outputId": "640cd124-799a-403e-80ff-739de6c4341a"
      },
      "outputs": [
        {
          "execution_count": 60,
          "output_type": "execute_result",
          "data": {
            "text/plain": "(torch.Size([784]), torch.Size([1]))"
          },
          "metadata": {}
        }
      ],
      "execution_count": null
    },
    {
      "cell_type": "code",
      "source": [
        "lr=1.0\n",
        "params = weights, bias\n",
        "train_epoch(linear1, params, lr)\n",
        "validation_accuracy(linear1)"
      ],
      "metadata": {
        "trusted": true,
        "execution": {
          "iopub.status.busy": "2025-02-09T14:58:40.10784Z",
          "iopub.execute_input": "2025-02-09T14:58:40.10822Z",
          "iopub.status.idle": "2025-02-09T14:58:40.220743Z",
          "shell.execute_reply.started": "2025-02-09T14:58:40.10819Z",
          "shell.execute_reply": "2025-02-09T14:58:40.21981Z"
        },
        "id": "0nTjBT2fDeZz",
        "outputId": "d3ceda1f-bf18-4db7-9e4c-8bf56cccb060"
      },
      "outputs": [
        {
          "execution_count": 61,
          "output_type": "execute_result",
          "data": {
            "text/plain": "0.5691"
          },
          "metadata": {}
        }
      ],
      "execution_count": null
    },
    {
      "cell_type": "code",
      "source": [
        "for i in range(20):\n",
        "    train_epoch(linear1, params, lr)\n",
        "    print(validation_accuracy(linear1), end = ' ')"
      ],
      "metadata": {
        "trusted": true,
        "execution": {
          "iopub.status.busy": "2025-02-09T14:58:40.222019Z",
          "iopub.execute_input": "2025-02-09T14:58:40.222313Z",
          "iopub.status.idle": "2025-02-09T14:58:42.15739Z",
          "shell.execute_reply.started": "2025-02-09T14:58:40.222287Z",
          "shell.execute_reply": "2025-02-09T14:58:42.156421Z"
        },
        "id": "0HlBoF9lDeZ0",
        "outputId": "3120dc40-e9ad-4f33-c968-8d21f5c3baab"
      },
      "outputs": [
        {
          "name": "stdout",
          "text": "0.8104 0.9052 0.9314 0.9431 0.9469 0.9489 0.9498 0.9512 0.9532 0.9551 0.9571 0.9585 0.959 0.96 0.9595 0.96 0.961 0.9615 0.962 0.9624 ",
          "output_type": "stream"
        }
      ],
      "execution_count": null
    },
    {
      "cell_type": "markdown",
      "source": [
        "__STEP 6 : BASIC OPTIMIZATION STEP__"
      ],
      "metadata": {
        "id": "zurUJoVyDeZ0"
      }
    },
    {
      "cell_type": "code",
      "source": [
        "linear_model = nn.Linear(28*28,1)\n",
        "weights, bias =linear_model.parameters()\n",
        "weights.shape, bias.shape"
      ],
      "metadata": {
        "trusted": true,
        "execution": {
          "iopub.status.busy": "2025-02-09T15:23:26.086008Z",
          "iopub.execute_input": "2025-02-09T15:23:26.086518Z",
          "iopub.status.idle": "2025-02-09T15:23:26.095136Z",
          "shell.execute_reply.started": "2025-02-09T15:23:26.086477Z",
          "shell.execute_reply": "2025-02-09T15:23:26.094161Z"
        },
        "id": "_DorPtClDeaF",
        "outputId": "827abb18-8304-4760-8202-8a95688c2b8c"
      },
      "outputs": [
        {
          "execution_count": 74,
          "output_type": "execute_result",
          "data": {
            "text/plain": "(torch.Size([1, 784]), torch.Size([1]))"
          },
          "metadata": {}
        }
      ],
      "execution_count": null
    },
    {
      "cell_type": "code",
      "source": [
        "class BasicOptim:\n",
        "    def __init__(self, params , lr):\n",
        "        self.params = list(params)\n",
        "        self.lr = lr\n",
        "\n",
        "    def step(self):\n",
        "        for p in self.params:\n",
        "            p.data -= p.grad *self.lr\n",
        "\n",
        "    def zero_grad(self):\n",
        "        for p in self.params:\n",
        "            p.grad.zero_()"
      ],
      "metadata": {
        "trusted": true,
        "execution": {
          "iopub.status.busy": "2025-02-09T15:23:26.12055Z",
          "iopub.execute_input": "2025-02-09T15:23:26.120881Z",
          "iopub.status.idle": "2025-02-09T15:23:26.126717Z",
          "shell.execute_reply.started": "2025-02-09T15:23:26.120855Z",
          "shell.execute_reply": "2025-02-09T15:23:26.125381Z"
        },
        "id": "2v8plYLdDeaG"
      },
      "outputs": [],
      "execution_count": null
    },
    {
      "cell_type": "code",
      "source": [
        "linear_model = nn.Linear(28*28,1)\n",
        "weights, bias =linear_model.parameters()\n",
        "weights.shape, bias.shape"
      ],
      "metadata": {
        "trusted": true,
        "execution": {
          "iopub.status.busy": "2025-02-09T15:23:26.128144Z",
          "iopub.execute_input": "2025-02-09T15:23:26.128499Z",
          "iopub.status.idle": "2025-02-09T15:23:26.148089Z",
          "shell.execute_reply.started": "2025-02-09T15:23:26.128472Z",
          "shell.execute_reply": "2025-02-09T15:23:26.146837Z"
        },
        "id": "6RSvB_V9DeaG",
        "outputId": "36943b3d-f693-4c5f-b139-a9d38134f5af"
      },
      "outputs": [
        {
          "execution_count": 76,
          "output_type": "execute_result",
          "data": {
            "text/plain": "(torch.Size([1, 784]), torch.Size([1]))"
          },
          "metadata": {}
        }
      ],
      "execution_count": null
    },
    {
      "cell_type": "code",
      "source": [
        "opt = BasicOptim(linear_model.parameters(), lr)\n"
      ],
      "metadata": {
        "trusted": true,
        "execution": {
          "iopub.status.busy": "2025-02-09T15:23:26.150493Z",
          "iopub.execute_input": "2025-02-09T15:23:26.150913Z",
          "iopub.status.idle": "2025-02-09T15:23:26.163864Z",
          "shell.execute_reply.started": "2025-02-09T15:23:26.15087Z",
          "shell.execute_reply": "2025-02-09T15:23:26.162726Z"
        },
        "id": "t5RR-zcWDeaG"
      },
      "outputs": [],
      "execution_count": null
    },
    {
      "cell_type": "code",
      "source": [
        "def train_epoch(model):\n",
        "    for xb, yb in dl:\n",
        "        calc_grad(xb, yb, model)\n",
        "        opt.step()\n",
        "        opt.zero_grad()"
      ],
      "metadata": {
        "trusted": true,
        "execution": {
          "iopub.status.busy": "2025-02-09T15:23:26.165036Z",
          "iopub.execute_input": "2025-02-09T15:23:26.165478Z",
          "iopub.status.idle": "2025-02-09T15:23:26.185007Z",
          "shell.execute_reply.started": "2025-02-09T15:23:26.165437Z",
          "shell.execute_reply": "2025-02-09T15:23:26.183852Z"
        },
        "id": "RQjdZGnODeaH"
      },
      "outputs": [],
      "execution_count": null
    },
    {
      "cell_type": "code",
      "source": [
        "train_epoch(linear_model)\n",
        "validation_accuracy(linear_model)"
      ],
      "metadata": {
        "trusted": true,
        "execution": {
          "iopub.status.busy": "2025-02-09T15:23:26.186156Z",
          "iopub.execute_input": "2025-02-09T15:23:26.186594Z",
          "iopub.status.idle": "2025-02-09T15:23:26.330001Z",
          "shell.execute_reply.started": "2025-02-09T15:23:26.186551Z",
          "shell.execute_reply": "2025-02-09T15:23:26.328454Z"
        },
        "id": "dteqM6ZsDeaH",
        "outputId": "e147e78d-1c9a-4077-d992-f38a75c326e5"
      },
      "outputs": [
        {
          "execution_count": 79,
          "output_type": "execute_result",
          "data": {
            "text/plain": "0.4932"
          },
          "metadata": {}
        }
      ],
      "execution_count": null
    },
    {
      "cell_type": "code",
      "source": [
        "def train_model(model, epoch):\n",
        "    for i in range(epoch):\n",
        "        train_epoch(model)\n",
        "        print(validation_accuracy(model), end = ' ')\n",
        "\n",
        ""
      ],
      "metadata": {
        "trusted": true,
        "execution": {
          "iopub.status.busy": "2025-02-09T15:26:40.150584Z",
          "iopub.execute_input": "2025-02-09T15:26:40.151009Z",
          "iopub.status.idle": "2025-02-09T15:26:40.156226Z",
          "shell.execute_reply.started": "2025-02-09T15:26:40.150974Z",
          "shell.execute_reply": "2025-02-09T15:26:40.154915Z"
        },
        "id": "d2eCjExQDeaH"
      },
      "outputs": [],
      "execution_count": null
    },
    {
      "cell_type": "code",
      "source": [
        "train_model(linear_model, 20)"
      ],
      "metadata": {
        "trusted": true,
        "execution": {
          "iopub.status.busy": "2025-02-09T15:27:49.151679Z",
          "iopub.execute_input": "2025-02-09T15:27:49.152117Z",
          "iopub.status.idle": "2025-02-09T15:27:50.737173Z",
          "shell.execute_reply.started": "2025-02-09T15:27:49.15208Z",
          "shell.execute_reply": "2025-02-09T15:27:50.736073Z"
        },
        "id": "nPGPox4iDeaH",
        "outputId": "fac9af77-3bef-443b-ef42-0e70fb4d821e"
      },
      "outputs": [
        {
          "name": "stdout",
          "text": "0.7876 0.8491 0.9135 0.934 0.9482 0.955 0.9633 0.9658 0.9672 0.9702 0.9716 0.9736 0.975 0.976 0.9765 0.9775 0.9775 0.9785 0.9789 0.9789 ",
          "output_type": "stream"
        }
      ],
      "execution_count": null
    },
    {
      "cell_type": "code",
      "source": [
        "linear_model = nn.Linear(28*28,1)\n",
        "weights, bias =linear_model.parameters()\n",
        "weights.shape, bias.shape"
      ],
      "metadata": {
        "trusted": true,
        "execution": {
          "iopub.status.busy": "2025-02-09T15:31:41.549252Z",
          "iopub.execute_input": "2025-02-09T15:31:41.549694Z",
          "iopub.status.idle": "2025-02-09T15:31:41.557084Z",
          "shell.execute_reply.started": "2025-02-09T15:31:41.549662Z",
          "shell.execute_reply": "2025-02-09T15:31:41.556238Z"
        },
        "id": "_F0CLDW5DeaI",
        "outputId": "8c9c3888-d20b-486c-d8db-1c8447c0a4c5"
      },
      "outputs": [
        {
          "execution_count": 83,
          "output_type": "execute_result",
          "data": {
            "text/plain": "(torch.Size([1, 784]), torch.Size([1]))"
          },
          "metadata": {}
        }
      ],
      "execution_count": null
    },
    {
      "cell_type": "code",
      "source": [
        "#fast ai gives a substitute for BasicOptim which is .....SGD\n",
        "opt = SGD(linear_model.parameters(), lr)"
      ],
      "metadata": {
        "trusted": true,
        "execution": {
          "iopub.status.busy": "2025-02-09T15:31:44.349444Z",
          "iopub.execute_input": "2025-02-09T15:31:44.349775Z",
          "iopub.status.idle": "2025-02-09T15:31:44.354642Z",
          "shell.execute_reply.started": "2025-02-09T15:31:44.349751Z",
          "shell.execute_reply": "2025-02-09T15:31:44.353701Z"
        },
        "id": "RMIPjXd3DeaI"
      },
      "outputs": [],
      "execution_count": null
    },
    {
      "cell_type": "code",
      "source": [
        "train_model(linear_model, 20)"
      ],
      "metadata": {
        "trusted": true,
        "execution": {
          "iopub.status.busy": "2025-02-09T15:32:21.259555Z",
          "iopub.execute_input": "2025-02-09T15:32:21.259895Z",
          "iopub.status.idle": "2025-02-09T15:32:22.934666Z",
          "shell.execute_reply.started": "2025-02-09T15:32:21.259871Z",
          "shell.execute_reply": "2025-02-09T15:32:22.933566Z"
        },
        "id": "iRfZt3gYDeaJ",
        "outputId": "4a13ff53-747d-4655-cdf5-436bf7cc73db"
      },
      "outputs": [
        {
          "name": "stdout",
          "text": "0.4932 0.8217 0.8466 0.9126 0.9336 0.9472 0.9555 0.9628 0.9662 0.9677 0.9697 0.9716 0.9726 0.9745 0.9755 0.9765 0.9775 0.978 0.9785 0.9785 ",
          "output_type": "stream"
        }
      ],
      "execution_count": null
    },
    {
      "cell_type": "markdown",
      "source": [
        "__BUILD A LEARNER__"
      ],
      "metadata": {
        "id": "KlGIJmeVDeaK"
      }
    },
    {
      "cell_type": "code",
      "source": [
        "dls = DataLoaders(dl, valid_dl)"
      ],
      "metadata": {
        "trusted": true,
        "execution": {
          "iopub.status.busy": "2025-02-09T15:36:57.111034Z",
          "iopub.execute_input": "2025-02-09T15:36:57.111492Z",
          "iopub.status.idle": "2025-02-09T15:36:57.1157Z",
          "shell.execute_reply.started": "2025-02-09T15:36:57.111453Z",
          "shell.execute_reply": "2025-02-09T15:36:57.114775Z"
        },
        "id": "KX6B6f2FDeaK"
      },
      "outputs": [],
      "execution_count": null
    },
    {
      "cell_type": "code",
      "source": [
        "learn = Learner(dls, nn.Linear(28*28, 1), loss_func= mnist_loss, opt_func=SGD, metrics= batch_accuracy)"
      ],
      "metadata": {
        "trusted": true,
        "execution": {
          "iopub.status.busy": "2025-02-09T15:39:11.704336Z",
          "iopub.execute_input": "2025-02-09T15:39:11.704786Z",
          "iopub.status.idle": "2025-02-09T15:39:11.712578Z",
          "shell.execute_reply.started": "2025-02-09T15:39:11.704751Z",
          "shell.execute_reply": "2025-02-09T15:39:11.711538Z"
        },
        "id": "qKXoE6m9DeaK"
      },
      "outputs": [],
      "execution_count": null
    },
    {
      "cell_type": "code",
      "source": [
        "learn.fit(20, lr=1)"
      ],
      "metadata": {
        "trusted": true,
        "execution": {
          "iopub.status.busy": "2025-02-09T15:39:41.346635Z",
          "iopub.execute_input": "2025-02-09T15:39:41.347042Z",
          "iopub.status.idle": "2025-02-09T15:39:44.85839Z",
          "shell.execute_reply.started": "2025-02-09T15:39:41.34701Z",
          "shell.execute_reply": "2025-02-09T15:39:44.857347Z"
        },
        "id": "ht-79ddxDeaL",
        "outputId": "68d4137f-5b0e-4722-b0b9-f2e045f7ea31"
      },
      "outputs": [
        {
          "output_type": "display_data",
          "data": {
            "text/plain": "<IPython.core.display.HTML object>",
            "text/html": "\n<style>\n    /* Turns off some styling */\n    progress {\n        /* gets rid of default border in Firefox and Opera. */\n        border: none;\n        /* Needs to be in here for Safari polyfill so background images work as expected. */\n        background-size: auto;\n    }\n    progress:not([value]), progress:not([value])::-webkit-progress-bar {\n        background: repeating-linear-gradient(45deg, #7e7e7e, #7e7e7e 10px, #5c5c5c 10px, #5c5c5c 20px);\n    }\n    .progress-bar-interrupted, .progress-bar-interrupted::-webkit-progress-bar {\n        background: #F44336;\n    }\n</style>\n"
          },
          "metadata": {}
        },
        {
          "output_type": "display_data",
          "data": {
            "text/plain": "<IPython.core.display.HTML object>",
            "text/html": "<table border=\"1\" class=\"dataframe\">\n  <thead>\n    <tr style=\"text-align: left;\">\n      <th>epoch</th>\n      <th>train_loss</th>\n      <th>valid_loss</th>\n      <th>batch_accuracy</th>\n      <th>time</th>\n    </tr>\n  </thead>\n  <tbody>\n    <tr>\n      <td>0</td>\n      <td>0.637105</td>\n      <td>0.503440</td>\n      <td>0.495584</td>\n      <td>00:00</td>\n    </tr>\n    <tr>\n      <td>1</td>\n      <td>0.503201</td>\n      <td>0.203106</td>\n      <td>0.824338</td>\n      <td>00:00</td>\n    </tr>\n    <tr>\n      <td>2</td>\n      <td>0.185543</td>\n      <td>0.174588</td>\n      <td>0.842983</td>\n      <td>00:00</td>\n    </tr>\n    <tr>\n      <td>3</td>\n      <td>0.081607</td>\n      <td>0.105023</td>\n      <td>0.910697</td>\n      <td>00:00</td>\n    </tr>\n    <tr>\n      <td>4</td>\n      <td>0.043349</td>\n      <td>0.077123</td>\n      <td>0.932777</td>\n      <td>00:00</td>\n    </tr>\n    <tr>\n      <td>5</td>\n      <td>0.028429</td>\n      <td>0.061905</td>\n      <td>0.947498</td>\n      <td>00:00</td>\n    </tr>\n    <tr>\n      <td>6</td>\n      <td>0.022291</td>\n      <td>0.052386</td>\n      <td>0.955839</td>\n      <td>00:00</td>\n    </tr>\n    <tr>\n      <td>7</td>\n      <td>0.019554</td>\n      <td>0.046055</td>\n      <td>0.962709</td>\n      <td>00:00</td>\n    </tr>\n    <tr>\n      <td>8</td>\n      <td>0.018162</td>\n      <td>0.041613</td>\n      <td>0.965162</td>\n      <td>00:00</td>\n    </tr>\n    <tr>\n      <td>9</td>\n      <td>0.017325</td>\n      <td>0.038343</td>\n      <td>0.967615</td>\n      <td>00:00</td>\n    </tr>\n    <tr>\n      <td>10</td>\n      <td>0.016734</td>\n      <td>0.035833</td>\n      <td>0.969087</td>\n      <td>00:00</td>\n    </tr>\n    <tr>\n      <td>11</td>\n      <td>0.016270</td>\n      <td>0.033837</td>\n      <td>0.971050</td>\n      <td>00:00</td>\n    </tr>\n    <tr>\n      <td>12</td>\n      <td>0.015882</td>\n      <td>0.032203</td>\n      <td>0.972522</td>\n      <td>00:00</td>\n    </tr>\n    <tr>\n      <td>13</td>\n      <td>0.015552</td>\n      <td>0.030836</td>\n      <td>0.974975</td>\n      <td>00:00</td>\n    </tr>\n    <tr>\n      <td>14</td>\n      <td>0.015268</td>\n      <td>0.029676</td>\n      <td>0.975466</td>\n      <td>00:00</td>\n    </tr>\n    <tr>\n      <td>15</td>\n      <td>0.015023</td>\n      <td>0.028680</td>\n      <td>0.976448</td>\n      <td>00:00</td>\n    </tr>\n    <tr>\n      <td>16</td>\n      <td>0.014809</td>\n      <td>0.027818</td>\n      <td>0.977429</td>\n      <td>00:00</td>\n    </tr>\n    <tr>\n      <td>17</td>\n      <td>0.014621</td>\n      <td>0.027065</td>\n      <td>0.977429</td>\n      <td>00:00</td>\n    </tr>\n    <tr>\n      <td>18</td>\n      <td>0.014451</td>\n      <td>0.026403</td>\n      <td>0.978410</td>\n      <td>00:00</td>\n    </tr>\n    <tr>\n      <td>19</td>\n      <td>0.014298</td>\n      <td>0.025818</td>\n      <td>0.978901</td>\n      <td>00:00</td>\n    </tr>\n  </tbody>\n</table>"
          },
          "metadata": {}
        }
      ],
      "execution_count": null
    },
    {
      "cell_type": "markdown",
      "source": [
        "__BUILDING A SIMPLE NET__"
      ],
      "metadata": {
        "id": "YJzLg4X7DeaL"
      }
    },
    {
      "cell_type": "code",
      "source": [
        "simple_net = nn.Sequential(\n",
        "    nn.Linear(28*28, 30),\n",
        "    nn.ReLU(),\n",
        "    nn.Linear(30, 1)\n",
        ")"
      ],
      "metadata": {
        "trusted": true,
        "execution": {
          "iopub.status.busy": "2025-02-09T15:45:04.407259Z",
          "iopub.execute_input": "2025-02-09T15:45:04.407657Z",
          "iopub.status.idle": "2025-02-09T15:45:04.413643Z",
          "shell.execute_reply.started": "2025-02-09T15:45:04.407628Z",
          "shell.execute_reply": "2025-02-09T15:45:04.412549Z"
        },
        "id": "3okuUhTxDeaL"
      },
      "outputs": [],
      "execution_count": null
    },
    {
      "cell_type": "code",
      "source": [
        "learn = Learner(dls, simple_net, loss_func=mnist_loss, opt_func=SGD, metrics = batch_accuracy)\n"
      ],
      "metadata": {
        "trusted": true,
        "execution": {
          "iopub.status.busy": "2025-02-09T15:47:13.052829Z",
          "iopub.execute_input": "2025-02-09T15:47:13.053188Z",
          "iopub.status.idle": "2025-02-09T15:47:13.058686Z",
          "shell.execute_reply.started": "2025-02-09T15:47:13.053156Z",
          "shell.execute_reply": "2025-02-09T15:47:13.057523Z"
        },
        "id": "X7ntk70sDeaM"
      },
      "outputs": [],
      "execution_count": null
    },
    {
      "cell_type": "code",
      "source": [
        "learn.fit(40, 0.1)"
      ],
      "metadata": {
        "trusted": true,
        "execution": {
          "iopub.status.busy": "2025-02-09T15:47:19.562756Z",
          "iopub.execute_input": "2025-02-09T15:47:19.563111Z",
          "iopub.status.idle": "2025-02-09T15:47:28.036011Z",
          "shell.execute_reply.started": "2025-02-09T15:47:19.56308Z",
          "shell.execute_reply": "2025-02-09T15:47:28.035205Z"
        },
        "id": "PAX4tyMsDeaM",
        "outputId": "2a0a3126-49b9-4edd-e306-aff68f9fe7db"
      },
      "outputs": [
        {
          "output_type": "display_data",
          "data": {
            "text/plain": "<IPython.core.display.HTML object>",
            "text/html": "\n<style>\n    /* Turns off some styling */\n    progress {\n        /* gets rid of default border in Firefox and Opera. */\n        border: none;\n        /* Needs to be in here for Safari polyfill so background images work as expected. */\n        background-size: auto;\n    }\n    progress:not([value]), progress:not([value])::-webkit-progress-bar {\n        background: repeating-linear-gradient(45deg, #7e7e7e, #7e7e7e 10px, #5c5c5c 10px, #5c5c5c 20px);\n    }\n    .progress-bar-interrupted, .progress-bar-interrupted::-webkit-progress-bar {\n        background: #F44336;\n    }\n</style>\n"
          },
          "metadata": {}
        },
        {
          "output_type": "display_data",
          "data": {
            "text/plain": "<IPython.core.display.HTML object>",
            "text/html": "<table border=\"1\" class=\"dataframe\">\n  <thead>\n    <tr style=\"text-align: left;\">\n      <th>epoch</th>\n      <th>train_loss</th>\n      <th>valid_loss</th>\n      <th>batch_accuracy</th>\n      <th>time</th>\n    </tr>\n  </thead>\n  <tbody>\n    <tr>\n      <td>0</td>\n      <td>0.319893</td>\n      <td>0.416680</td>\n      <td>0.504416</td>\n      <td>00:00</td>\n    </tr>\n    <tr>\n      <td>1</td>\n      <td>0.150109</td>\n      <td>0.232627</td>\n      <td>0.797841</td>\n      <td>00:00</td>\n    </tr>\n    <tr>\n      <td>2</td>\n      <td>0.082693</td>\n      <td>0.115986</td>\n      <td>0.917076</td>\n      <td>00:00</td>\n    </tr>\n    <tr>\n      <td>3</td>\n      <td>0.054039</td>\n      <td>0.078070</td>\n      <td>0.940628</td>\n      <td>00:00</td>\n    </tr>\n    <tr>\n      <td>4</td>\n      <td>0.040809</td>\n      <td>0.060888</td>\n      <td>0.955348</td>\n      <td>00:00</td>\n    </tr>\n    <tr>\n      <td>5</td>\n      <td>0.034079</td>\n      <td>0.051257</td>\n      <td>0.963199</td>\n      <td>00:00</td>\n    </tr>\n    <tr>\n      <td>6</td>\n      <td>0.030226</td>\n      <td>0.045180</td>\n      <td>0.964181</td>\n      <td>00:00</td>\n    </tr>\n    <tr>\n      <td>7</td>\n      <td>0.027721</td>\n      <td>0.041027</td>\n      <td>0.966143</td>\n      <td>00:00</td>\n    </tr>\n    <tr>\n      <td>8</td>\n      <td>0.025914</td>\n      <td>0.037991</td>\n      <td>0.969087</td>\n      <td>00:00</td>\n    </tr>\n    <tr>\n      <td>9</td>\n      <td>0.024510</td>\n      <td>0.035671</td>\n      <td>0.970559</td>\n      <td>00:00</td>\n    </tr>\n    <tr>\n      <td>10</td>\n      <td>0.023373</td>\n      <td>0.033826</td>\n      <td>0.972031</td>\n      <td>00:00</td>\n    </tr>\n    <tr>\n      <td>11</td>\n      <td>0.022425</td>\n      <td>0.032315</td>\n      <td>0.973503</td>\n      <td>00:00</td>\n    </tr>\n    <tr>\n      <td>12</td>\n      <td>0.021616</td>\n      <td>0.031050</td>\n      <td>0.973994</td>\n      <td>00:00</td>\n    </tr>\n    <tr>\n      <td>13</td>\n      <td>0.020917</td>\n      <td>0.029968</td>\n      <td>0.975957</td>\n      <td>00:00</td>\n    </tr>\n    <tr>\n      <td>14</td>\n      <td>0.020305</td>\n      <td>0.029026</td>\n      <td>0.975957</td>\n      <td>00:00</td>\n    </tr>\n    <tr>\n      <td>15</td>\n      <td>0.019764</td>\n      <td>0.028196</td>\n      <td>0.976448</td>\n      <td>00:00</td>\n    </tr>\n    <tr>\n      <td>16</td>\n      <td>0.019281</td>\n      <td>0.027459</td>\n      <td>0.977429</td>\n      <td>00:00</td>\n    </tr>\n    <tr>\n      <td>17</td>\n      <td>0.018847</td>\n      <td>0.026798</td>\n      <td>0.977920</td>\n      <td>00:00</td>\n    </tr>\n    <tr>\n      <td>18</td>\n      <td>0.018453</td>\n      <td>0.026203</td>\n      <td>0.978410</td>\n      <td>00:00</td>\n    </tr>\n    <tr>\n      <td>19</td>\n      <td>0.018094</td>\n      <td>0.025664</td>\n      <td>0.978901</td>\n      <td>00:00</td>\n    </tr>\n    <tr>\n      <td>20</td>\n      <td>0.017765</td>\n      <td>0.025173</td>\n      <td>0.979392</td>\n      <td>00:00</td>\n    </tr>\n    <tr>\n      <td>21</td>\n      <td>0.017461</td>\n      <td>0.024724</td>\n      <td>0.979882</td>\n      <td>00:00</td>\n    </tr>\n    <tr>\n      <td>22</td>\n      <td>0.017179</td>\n      <td>0.024312</td>\n      <td>0.980373</td>\n      <td>00:00</td>\n    </tr>\n    <tr>\n      <td>23</td>\n      <td>0.016916</td>\n      <td>0.023934</td>\n      <td>0.980864</td>\n      <td>00:00</td>\n    </tr>\n    <tr>\n      <td>24</td>\n      <td>0.016671</td>\n      <td>0.023584</td>\n      <td>0.981354</td>\n      <td>00:00</td>\n    </tr>\n    <tr>\n      <td>25</td>\n      <td>0.016441</td>\n      <td>0.023261</td>\n      <td>0.981354</td>\n      <td>00:00</td>\n    </tr>\n    <tr>\n      <td>26</td>\n      <td>0.016224</td>\n      <td>0.022961</td>\n      <td>0.981845</td>\n      <td>00:00</td>\n    </tr>\n    <tr>\n      <td>27</td>\n      <td>0.016020</td>\n      <td>0.022682</td>\n      <td>0.981845</td>\n      <td>00:00</td>\n    </tr>\n    <tr>\n      <td>28</td>\n      <td>0.015826</td>\n      <td>0.022421</td>\n      <td>0.981845</td>\n      <td>00:00</td>\n    </tr>\n    <tr>\n      <td>29</td>\n      <td>0.015642</td>\n      <td>0.022179</td>\n      <td>0.981845</td>\n      <td>00:00</td>\n    </tr>\n    <tr>\n      <td>30</td>\n      <td>0.015468</td>\n      <td>0.021952</td>\n      <td>0.982336</td>\n      <td>00:00</td>\n    </tr>\n    <tr>\n      <td>31</td>\n      <td>0.015301</td>\n      <td>0.021740</td>\n      <td>0.982336</td>\n      <td>00:00</td>\n    </tr>\n    <tr>\n      <td>32</td>\n      <td>0.015142</td>\n      <td>0.021541</td>\n      <td>0.981845</td>\n      <td>00:00</td>\n    </tr>\n    <tr>\n      <td>33</td>\n      <td>0.014990</td>\n      <td>0.021353</td>\n      <td>0.981845</td>\n      <td>00:00</td>\n    </tr>\n    <tr>\n      <td>34</td>\n      <td>0.014844</td>\n      <td>0.021176</td>\n      <td>0.982336</td>\n      <td>00:00</td>\n    </tr>\n    <tr>\n      <td>35</td>\n      <td>0.014704</td>\n      <td>0.021008</td>\n      <td>0.982336</td>\n      <td>00:00</td>\n    </tr>\n    <tr>\n      <td>36</td>\n      <td>0.014569</td>\n      <td>0.020849</td>\n      <td>0.982336</td>\n      <td>00:00</td>\n    </tr>\n    <tr>\n      <td>37</td>\n      <td>0.014440</td>\n      <td>0.020698</td>\n      <td>0.982336</td>\n      <td>00:00</td>\n    </tr>\n    <tr>\n      <td>38</td>\n      <td>0.014315</td>\n      <td>0.020555</td>\n      <td>0.982826</td>\n      <td>00:00</td>\n    </tr>\n    <tr>\n      <td>39</td>\n      <td>0.014194</td>\n      <td>0.020418</td>\n      <td>0.982826</td>\n      <td>00:00</td>\n    </tr>\n  </tbody>\n</table>"
          },
          "metadata": {}
        }
      ],
      "execution_count": null
    },
    {
      "cell_type": "code",
      "source": [
        "dls = ImageDataLoaders.from_folder(path)\n",
        "learn = vision_learner(dls, resnet18, pretrained=False,\n",
        "                    loss_func=F.cross_entropy, metrics=accuracy)\n",
        "learn.fit_one_cycle(1, 0.1)"
      ],
      "metadata": {
        "trusted": true,
        "execution": {
          "iopub.status.busy": "2025-02-09T15:51:42.09072Z",
          "iopub.execute_input": "2025-02-09T15:51:42.091093Z",
          "iopub.status.idle": "2025-02-09T15:53:32.690703Z",
          "shell.execute_reply.started": "2025-02-09T15:51:42.091062Z",
          "shell.execute_reply": "2025-02-09T15:53:32.689627Z"
        },
        "id": "b3hAAOw7DeaN",
        "outputId": "5a08903e-e541-466f-d3cd-bf36bf0fcdce"
      },
      "outputs": [
        {
          "output_type": "display_data",
          "data": {
            "text/plain": "<IPython.core.display.HTML object>",
            "text/html": "\n<style>\n    /* Turns off some styling */\n    progress {\n        /* gets rid of default border in Firefox and Opera. */\n        border: none;\n        /* Needs to be in here for Safari polyfill so background images work as expected. */\n        background-size: auto;\n    }\n    progress:not([value]), progress:not([value])::-webkit-progress-bar {\n        background: repeating-linear-gradient(45deg, #7e7e7e, #7e7e7e 10px, #5c5c5c 10px, #5c5c5c 20px);\n    }\n    .progress-bar-interrupted, .progress-bar-interrupted::-webkit-progress-bar {\n        background: #F44336;\n    }\n</style>\n"
          },
          "metadata": {}
        },
        {
          "output_type": "display_data",
          "data": {
            "text/plain": "<IPython.core.display.HTML object>",
            "text/html": "<table border=\"1\" class=\"dataframe\">\n  <thead>\n    <tr style=\"text-align: left;\">\n      <th>epoch</th>\n      <th>train_loss</th>\n      <th>valid_loss</th>\n      <th>accuracy</th>\n      <th>time</th>\n    </tr>\n  </thead>\n  <tbody>\n    <tr>\n      <td>0</td>\n      <td>0.090304</td>\n      <td>0.007439</td>\n      <td>0.997056</td>\n      <td>01:48</td>\n    </tr>\n  </tbody>\n</table>"
          },
          "metadata": {}
        }
      ],
      "execution_count": null
    }
  ]
}